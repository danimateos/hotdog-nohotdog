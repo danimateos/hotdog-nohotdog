{
 "cells": [
  {
   "cell_type": "markdown",
   "metadata": {},
   "source": [
    "[![Open In Colab](https://colab.research.google.com/assets/colab-badge.svg)](https://colab.research.google.com/github/danimateos/hotdog-nohotdog/blob/master/03-A_First_Approximation.ipynb)"
   ]
  },
  {
   "cell_type": "markdown",
   "metadata": {
    "colab_type": "text",
    "id": "5jOFHtbgwU6S"
   },
   "source": [
    "# My First Hotdog detector\n",
    "\n",
    "Hi there! Welcome back to this series on Deep Learning for image classification. In the two previous installments about [imagenet and deep learning], and [the train-test split], we managed to get the images we need to build a [sweet sweet hotdog/nohotdog classifier] using [Deep Learning]. This time, we are finally going to play around with Convolutional Neural Networks (CNNs)! But wait, what are those???\n",
    "\n",
    "[sweet sweet hotdog/nohotdog classifier]: https://www.youtube.com/watch?v=ACmydtFDTGs\n",
    "[Deep Learning]: https://en.wikipedia.org/wiki/Deep_learning\n",
    "[imagenet and deep learning]: http://mateos.io/blog/getting-some-hotdogs/\n",
    "[the train-test split]: http://mateos.io/blog/train-test-split/"
   ]
  },
  {
   "cell_type": "markdown",
   "metadata": {
    "colab_type": "text",
    "id": "Hj5i4twPwU6V"
   },
   "source": [
    "# Neural Networks\n",
    "\n",
    "The form our classifier is going to take is the [Convolutional Neural Network (CNN)](). These have revolutionized image classification and a lot of other tasks. Remember the 2012 Imagenet challenge?? This is the innovation that changed everyting. \n",
    "\n",
    "As any other Neural Network, CNNs consist of a series of stacked layers. Each layer consists of a series of neurons. These are simply nodes in a network that hold a floating point value, called their __activation__. Each node in a layer is connected to the layer immediately below, and the connection has a __weight__ associated with it.\n",
    "\n",
    "The simplest kind of layer that we can think of is one in which each neuron is connected to __all__ the neurons in the preceding layer. This is called a [Dense](https://keras.io/layers/core/#dense) layer. In it, the activation of each neuron will be calculated from the sum of the activations of every single neuron in the previous layer, each multiplied by the corresponding weight. But that sum is not the activation itself; the activation will be calculated from that sum by applying an _activation function_.\n",
    "\n",
    "![Weights and activations](https://cdn-images-1.medium.com/max/479/1*QVIyc5HnGDWTNX3m-nIm9w.png)"
   ]
  },
  {
   "cell_type": "markdown",
   "metadata": {
    "colab_type": "text",
    "id": "s560KH40wU6X"
   },
   "source": [
    "# Activation functions\n",
    "\n",
    "As we have just seen, the connection between a neuron and the layer below is shaped by an _activation function_. This describes the relationship between the values in the preceding layer, the weights, and the activation value. For each neuron its activation $a_i$ will be determined by the expression:\n",
    "\n",
    "$$a_i = f(\\sum_j^n(a_i w_{ij}))$$ \n",
    "\n",
    "That $f$ is the activation function. There are a number of them that can be used without changing terribly how the NN performs. The requisites are basically:\n",
    "\n",
    "1. The activation function must be nonlinear. If it was, the whole network would be just a chain of matrix multiplications, and the output would be a linear function of the output. We could save all the trouble and just summarize the whole thing with a single multiplication. And, obviously, it wouldn't learn anything useful. The fun in NNs is that they are [Universal Function Approximators](http://neuralnetworksanddeeplearning.com/chap4.html).\n",
    "\n",
    "1. The activation function must be differentiable. That is crucial for our gradient descent (remember [the last post](TODO: internal link)): we need the derivative, the gradient, to know in what direction we need to push the weights in every step of the optimization.\n",
    "\n",
    "An early function that was widely used is the logistic function, the same used in logistic regression. If you think about it, then the expression above is exactly logistic regression. Therefore, a neural network can be thought of as a series of logistic regressions stacked one over the other!\n",
    "\n",
    "In reality, the current most used activation function is the [Rectified Linear Unit](https://www.kaggle.com/dansbecker/rectified-linear-units-relu-in-deep-learning) (ReLu), but at this level the distinction is mostly academic. We don't need to go into the practical or theoretical differences between the ReLu and the logistic to get a general understanding of how NNs work."
   ]
  },
  {
   "cell_type": "markdown",
   "metadata": {
    "colab_type": "text",
    "id": "RLG-CayBwU6Y"
   },
   "source": [
    "# Backpropagation\n",
    "\n",
    "In logistic regression, we pick the coefficients (corresponding to our _weights_ here) to minimize an error measure given a set of inputs and corresponding outputs. If we had an error measure here, we could adjust the weights so that the error measure for each input is minimized. But we do! it is the difference (measured in any of a number of ways) between the predictions of the network and the true classes. That will work for the last layer. \n",
    "\n",
    "What about the bottom layers? Well, if we had a perfect last hidden layer, then the previous one would have to predict its activations for a given input. Then, the error measure is the difference between the output of the previous and the \"perfect\" hidden layer! We can apply this reasoning to adjust the weights of each layer from the top to the bottom (back), for each layer in turn.\n",
    "\n",
    "Backpropagation is just that! A fancy way of saying: adjust by one step of gradient descent the last layer, then the second-to-last in view of those last layer weights, and so on until you reach the bottom. Rinse and repeat until you are satisfied with the results. This is the breakthrough that made neural networks trainable."
   ]
  },
  {
   "cell_type": "markdown",
   "metadata": {
    "colab_type": "text",
    "id": "NalRN60GwU6Z"
   },
   "source": [
    "# Convolutional Neural Networks\n",
    "\n",
    "We've been talking about neural networks like there was only one kind. However, the recent explosion in Deep Learning performance and width of application is due in no small part to the invention of a variety of network kinds which are especially suited to particular tasks. In our specific application, image classification, and more generally in computer vision the kind that suits us best is the Convolutional Neural Network. This is a network that includes one or more [convolutional layers](https://keras.io/layers/convolutional/#conv2d).\n",
    "\n",
    "A convolutional layer differs from a dense layer in that each neuron in it doesn't look at the whole layer below it but only to a small region of it, often 3 x 3 or 5 x 5. That means that the first convolutional layer will look at squares of 9 or 25 pixels in much the same way that a neuron in a dense layer looks at its whole input layer. That results first in a huge reduction in number of parameters, which could explode with the kind of input sizes that an image classifier must handle - remember, each pixel in the image will result in three nodes in the input layer! this is a great bonus, but not the main point. The real advantages are:\n",
    "\n",
    "* Translation invariance: a neuron in a convolutional layer will learn to be activated in response to a particular visual feature. It will not care where that feature is: a neuron that recognizes vertical edges will recognize them anywhere in the image. \n",
    "\n",
    "* Hierarchy of features: I've mentioned the _first_ convolutional layer. What about the ones above it? Those will recognize to recognize features based on features: they will combine basic features (vertical or horizontal lines, for example) into more and more general features: grids, parallel arrays, then objects from the real world composed of those features.\n",
    "\n",
    "\n",
    "![Hierarhcy of features](https://cdn-images-1.medium.com/max/756/1*jl3je_hGCESg-G8dy3Z9Yg.png)\n",
    "\n",
    "\n",
    "\n"
   ]
  },
  {
   "cell_type": "markdown",
   "metadata": {
    "colab_type": "text",
    "id": "NYX-qmZUwU6a"
   },
   "source": [
    "# Environment\n",
    "\n",
    "Our work will be made sweet and easy by [Keras](https://keras.io/). Keras is just the kind of tool I love: it will let you do the most common operations quickly and easily, but it still gives you the power to go under the hood and have total control if you need it. It is a library built specifically for Deep Learning on Python by François Chollet and others. It runs on top of different backends, like Theano and Tensorflow. These are amazing libraries, but not the kind of thing that you want to deal with if you want to build your first prototype and iterate on it fast. You can think of the relationship between Keras and Tensorflow kind of like that between scikit-learn and numpy.\n",
    "\n",
    "![Keras](https://s3.amazonaws.com/keras.io/img/keras-logo-2018-large-1200.png)\n",
    "\n",
    "In order to follow the code below, you'll need to set up a working Keras environment. The easiest way to do so is probably to use [Google colab](https://colab.research.google.com/), a hosted notebook service which offers all relevant ML libraries preinstalled. They even offer free GPU acceleration! Just make sure you click on \"runtime\"/\"change runtime type\", then select \"GPU\" before you run the notebooks. They also offer [TPU](https://colab.research.google.com/notebooks/tpu.ipynb) acceleration for free! It's a bit more involved, so we'll just use GPUs for now.\n",
    "\n",
    "At this point we want to get our first classifier up and running, so let's get on with it!"
   ]
  },
  {
   "cell_type": "code",
   "execution_count": 1,
   "metadata": {
    "colab": {
     "base_uri": "https://localhost:8080/",
     "height": 100
    },
    "colab_type": "code",
    "id": "pi_VjyS0wU6c",
    "outputId": "99a5ce1f-483d-4897-ab23-d90127435ce4",
    "scrolled": true
   },
   "outputs": [
    {
     "name": "stderr",
     "output_type": "stream",
     "text": [
      "Using TensorFlow backend.\n"
     ]
    },
    {
     "data": {
      "text/html": [
       "<p style=\"color: red;\">\n",
       "The default version of TensorFlow in Colab will soon switch to TensorFlow 2.x.<br>\n",
       "We recommend you <a href=\"https://www.tensorflow.org/guide/migrate\" target=\"_blank\">upgrade</a> now \n",
       "or ensure your notebook will continue to use TensorFlow 1.x via the <code>%tensorflow_version 1.x</code> magic:\n",
       "<a href=\"https://colab.research.google.com/notebooks/tensorflow_version.ipynb\" target=\"_blank\">more info</a>.</p>\n"
      ],
      "text/plain": [
       "<IPython.core.display.HTML object>"
      ]
     },
     "metadata": {
      "tags": []
     },
     "output_type": "display_data"
    }
   ],
   "source": [
    "import keras\n",
    "from keras import backend as K"
   ]
  },
  {
   "cell_type": "markdown",
   "metadata": {
    "colab_type": "text",
    "id": "skjvsSP0wU6i"
   },
   "source": [
    "# Getting some hotdogs\n",
    "\n",
    "I've already done the hard, exhausting field work for you. If you are curious about how I did, check it out in the two previous installments, about [imagenet and deep learning], and [the train-test split].\n",
    "\n",
    "In order to save you the trouble of downloading and cleaning, I have made the data available [here](https://www.dropbox.com/s/4wifwhq73o15kgz/data_v2.zip?dl=0). Run the following cell. It will download a zip file in the current folder.\n",
    "\n",
    "[imagenet and deep learning]: http://mateos.io/blog/getting-some-hotdogs/\n",
    "[the train-test split]: http://mateos.io/blog/train-test-split/"
   ]
  },
  {
   "cell_type": "code",
   "execution_count": 2,
   "metadata": {
    "colab": {
     "base_uri": "https://localhost:8080/",
     "height": 474
    },
    "colab_type": "code",
    "id": "FtwsDCijPqGL",
    "outputId": "161a321a-df0c-4575-c8b5-9ee97e1c45eb"
   },
   "outputs": [
    {
     "name": "stdout",
     "output_type": "stream",
     "text": [
      "--2020-02-05 14:41:20--  https://www.dropbox.com/s/4wifwhq73o15kgz/data_v2.zip?dl=0\n",
      "Resolving www.dropbox.com (www.dropbox.com)... 162.125.8.1, 2620:100:601b:1::a27d:801\n",
      "Connecting to www.dropbox.com (www.dropbox.com)|162.125.8.1|:443... connected.\n",
      "HTTP request sent, awaiting response... 301 Moved Permanently\n",
      "Location: /s/raw/4wifwhq73o15kgz/data_v2.zip [following]\n",
      "--2020-02-05 14:41:20--  https://www.dropbox.com/s/raw/4wifwhq73o15kgz/data_v2.zip\n",
      "Reusing existing connection to www.dropbox.com:443.\n",
      "HTTP request sent, awaiting response... 302 Found\n",
      "Location: https://uc1960bb0bdf00cd7e7aee00235e.dl.dropboxusercontent.com/cd/0/inline/AxgDoSyonwiyuVsXu8YbsPW0oQ1iieITUaIA-pWw-dOue5VIzg_A0Xx2vJeiaFOFTjB0bN6meSzIE_KBNijRxeq_N36l3pMeH7aRfnVUE9mMvoy8yXLTqFD3qPHHhHgQntE/file# [following]\n",
      "--2020-02-05 14:41:20--  https://uc1960bb0bdf00cd7e7aee00235e.dl.dropboxusercontent.com/cd/0/inline/AxgDoSyonwiyuVsXu8YbsPW0oQ1iieITUaIA-pWw-dOue5VIzg_A0Xx2vJeiaFOFTjB0bN6meSzIE_KBNijRxeq_N36l3pMeH7aRfnVUE9mMvoy8yXLTqFD3qPHHhHgQntE/file\n",
      "Resolving uc1960bb0bdf00cd7e7aee00235e.dl.dropboxusercontent.com (uc1960bb0bdf00cd7e7aee00235e.dl.dropboxusercontent.com)... 162.125.3.6, 2620:100:6018:6::a27d:306\n",
      "Connecting to uc1960bb0bdf00cd7e7aee00235e.dl.dropboxusercontent.com (uc1960bb0bdf00cd7e7aee00235e.dl.dropboxusercontent.com)|162.125.3.6|:443... connected.\n",
      "HTTP request sent, awaiting response... 302 FOUND\n",
      "Location: /cd/0/inline2/Axh9yUwZ7P86tRZjKMrIsvjGTyJZK8i54TVLKlQNwd3MYzBFuWIu6ZD9ClKkB8xuNVmS-o2saW1p_9Z0ScHcSm9xHEodgPUBL-xNFaPx62wj44_oSiRfN5r-9HaX1Kba_cfD5gm0iiih6wkh533RlLfXLXhQ2QLFAcYHtsQzYYMHEqyPr54W1FFQbMNAywtkhTcDAyWXJ2eZXyw3Pn0QokZLrDN0bepcSgJHSxpINixVs9HFVL2wZ9gZzbAp3qmuE1FglvlcUrd7FX3DWnow2-tNPUOFzLLNmQ8I7rd01d5b_sTClUBVtnelsPslA_UcV38QlUgU7tQ2d-vQvtWsmio9oemvlzM0GLNAa63PDOgunQ/file [following]\n",
      "--2020-02-05 14:41:21--  https://uc1960bb0bdf00cd7e7aee00235e.dl.dropboxusercontent.com/cd/0/inline2/Axh9yUwZ7P86tRZjKMrIsvjGTyJZK8i54TVLKlQNwd3MYzBFuWIu6ZD9ClKkB8xuNVmS-o2saW1p_9Z0ScHcSm9xHEodgPUBL-xNFaPx62wj44_oSiRfN5r-9HaX1Kba_cfD5gm0iiih6wkh533RlLfXLXhQ2QLFAcYHtsQzYYMHEqyPr54W1FFQbMNAywtkhTcDAyWXJ2eZXyw3Pn0QokZLrDN0bepcSgJHSxpINixVs9HFVL2wZ9gZzbAp3qmuE1FglvlcUrd7FX3DWnow2-tNPUOFzLLNmQ8I7rd01d5b_sTClUBVtnelsPslA_UcV38QlUgU7tQ2d-vQvtWsmio9oemvlzM0GLNAa63PDOgunQ/file\n",
      "Reusing existing connection to uc1960bb0bdf00cd7e7aee00235e.dl.dropboxusercontent.com:443.\n",
      "HTTP request sent, awaiting response... 200 OK\n",
      "Length: 745085878 (711M) [application/zip]\n",
      "Saving to: ‘data.zip’\n",
      "\n",
      "data.zip            100%[===================>] 710.57M  36.4MB/s    in 25s     \n",
      "\n",
      "2020-02-05 14:41:47 (28.3 MB/s) - ‘data.zip’ saved [745085878/745085878]\n",
      "\n"
     ]
    }
   ],
   "source": [
    "!wget \"https://www.dropbox.com/s/4wifwhq73o15kgz/data_v2.zip?dl=0\" -O data.zip"
   ]
  },
  {
   "cell_type": "markdown",
   "metadata": {
    "colab_type": "text",
    "id": "Qkl2cWTNszGa"
   },
   "source": [
    "Now, unzip the zip file. It contains a 'data' folder that contains three folders in turn: train, test and validation. Inside each of those there are two folders: \"hotdog\" and \"nohotdog\"."
   ]
  },
  {
   "cell_type": "code",
   "execution_count": 3,
   "metadata": {
    "colab": {
     "base_uri": "https://localhost:8080/",
     "height": 90
    },
    "colab_type": "code",
    "id": "By4Yh4bLtgrE",
    "outputId": "5093de2c-c08a-46cc-8a3f-b72545ba4004"
   },
   "outputs": [
    {
     "name": "stdout",
     "output_type": "stream",
     "text": [
      "total 12K\n",
      "drwxrwxr-x 4 root root 4.0K Jun 27  2018 test\n",
      "drwxrwxr-x 4 root root 4.0K Jun 27  2018 train\n",
      "drwxrwxr-x 4 root root 4.0K Jun 27  2018 validation\n"
     ]
    }
   ],
   "source": [
    "!rm -rf data/\n",
    "!unzip -oq data.zip\n",
    "!ls -lh data"
   ]
  },
  {
   "cell_type": "markdown",
   "metadata": {
    "colab_type": "text",
    "id": "yqdt8vFCwU6u"
   },
   "source": [
    "# Our first CNN\n",
    "\n",
    "We are going to learn some hotdogs! The basic tool we are going to use is a Convolutional Neural Network (CNN). A CNN is easy to set up in Keras:"
   ]
  },
  {
   "cell_type": "code",
   "execution_count": 4,
   "metadata": {
    "colab": {
     "base_uri": "https://localhost:8080/",
     "height": 583
    },
    "colab_type": "code",
    "id": "k0CUVi3LwU6v",
    "outputId": "b1b5c114-b481-4989-dbe6-842f2886b9dd"
   },
   "outputs": [
    {
     "name": "stdout",
     "output_type": "stream",
     "text": [
      "WARNING:tensorflow:From /usr/local/lib/python3.6/dist-packages/keras/backend/tensorflow_backend.py:66: The name tf.get_default_graph is deprecated. Please use tf.compat.v1.get_default_graph instead.\n",
      "\n",
      "WARNING:tensorflow:From /usr/local/lib/python3.6/dist-packages/keras/backend/tensorflow_backend.py:541: The name tf.placeholder is deprecated. Please use tf.compat.v1.placeholder instead.\n",
      "\n",
      "WARNING:tensorflow:From /usr/local/lib/python3.6/dist-packages/keras/backend/tensorflow_backend.py:4432: The name tf.random_uniform is deprecated. Please use tf.random.uniform instead.\n",
      "\n",
      "WARNING:tensorflow:From /usr/local/lib/python3.6/dist-packages/keras/backend/tensorflow_backend.py:4267: The name tf.nn.max_pool is deprecated. Please use tf.nn.max_pool2d instead.\n",
      "\n",
      "Model: \"sequential_1\"\n",
      "_________________________________________________________________\n",
      "Layer (type)                 Output Shape              Param #   \n",
      "=================================================================\n",
      "conv2d_1 (Conv2D)            (None, 118, 118, 32)      896       \n",
      "_________________________________________________________________\n",
      "max_pooling2d_1 (MaxPooling2 (None, 59, 59, 32)        0         \n",
      "_________________________________________________________________\n",
      "conv2d_2 (Conv2D)            (None, 57, 57, 32)        9248      \n",
      "_________________________________________________________________\n",
      "max_pooling2d_2 (MaxPooling2 (None, 28, 28, 32)        0         \n",
      "_________________________________________________________________\n",
      "flatten_1 (Flatten)          (None, 25088)             0         \n",
      "_________________________________________________________________\n",
      "dense_1 (Dense)              (None, 64)                1605696   \n",
      "_________________________________________________________________\n",
      "dense_2 (Dense)              (None, 1)                 65        \n",
      "=================================================================\n",
      "Total params: 1,615,905\n",
      "Trainable params: 1,615,905\n",
      "Non-trainable params: 0\n",
      "_________________________________________________________________\n"
     ]
    }
   ],
   "source": [
    "from keras.layers import Conv2D, MaxPooling2D, InputLayer, Flatten, Dense\n",
    "\n",
    "my_first_cnn = keras.Sequential()\n",
    "my_first_cnn.add(Conv2D(32, (3, 3), activation='relu', input_shape=(120, 120, 3)))\n",
    "my_first_cnn.add(MaxPooling2D((2,2)))\n",
    "my_first_cnn.add(Conv2D(32, (3, 3), activation='relu'))\n",
    "my_first_cnn.add(MaxPooling2D((2,2)))\n",
    "my_first_cnn.add(Flatten())\n",
    "my_first_cnn.add(Dense(64, activation='relu'))\n",
    "my_first_cnn.add(Dense(1, activation='sigmoid'))\n",
    "\n",
    "my_first_cnn.summary()"
   ]
  },
  {
   "cell_type": "markdown",
   "metadata": {
    "colab_type": "text",
    "id": "WdgbRnxHwU6y"
   },
   "source": [
    "Now we need to feed the net. Create [image data generators], which will give it regularly sized images in batches of the size we specify:\n",
    "\n",
    "[image data generators]: https://keras.io/preprocessing/image/#imagedatagenerator-class"
   ]
  },
  {
   "cell_type": "code",
   "execution_count": 5,
   "metadata": {
    "colab": {
     "base_uri": "https://localhost:8080/",
     "height": 90
    },
    "colab_type": "code",
    "id": "Jc441VaRwU60",
    "outputId": "0b73c482-56e8-47e1-e915-f8d47890a5c5"
   },
   "outputs": [
    {
     "name": "stdout",
     "output_type": "stream",
     "text": [
      "Found 4766 images belonging to 2 classes.\n",
      "Found 888 images belonging to 2 classes.\n",
      "CPU times: user 124 ms, sys: 22.8 ms, total: 146 ms\n",
      "Wall time: 317 ms\n"
     ]
    }
   ],
   "source": [
    "%%time\n",
    "from keras.preprocessing.image import ImageDataGenerator\n",
    "import os\n",
    "\n",
    "base_dir = 'data//'\n",
    "\n",
    "train_dir = os.path.join(base_dir, 'train')\n",
    "validation_dir = os.path.join(base_dir, 'validation')\n",
    "\n",
    "train_datagen = ImageDataGenerator(rescale=1 / 255)\n",
    "\n",
    "test_datagen = ImageDataGenerator(rescale=1 / 255)\n",
    "\n",
    "train_generator = train_datagen.flow_from_directory(train_dir, \n",
    "                                                    target_size=(120,120),\n",
    "                                                    batch_size=100,\n",
    "                                                    class_mode='binary')\n",
    "\n",
    "validation_generator = test_datagen.flow_from_directory(validation_dir,\n",
    "                                                        target_size=(120,120),\n",
    "                                                        batch_size=100,\n",
    "                                                        class_mode='binary')"
   ]
  },
  {
   "cell_type": "code",
   "execution_count": 6,
   "metadata": {
    "colab": {
     "base_uri": "https://localhost:8080/",
     "height": 35
    },
    "colab_type": "code",
    "id": "4tLLgFh0wU64",
    "outputId": "b1f98b6e-65f8-40c2-9004-571c3c24cc67"
   },
   "outputs": [
    {
     "name": "stdout",
     "output_type": "stream",
     "text": [
      "794\n"
     ]
    }
   ],
   "source": [
    "!ls data/validation/nohotdog | wc -l"
   ]
  },
  {
   "cell_type": "markdown",
   "metadata": {
    "colab_type": "text",
    "id": "nqCxec7EwU69"
   },
   "source": [
    "And we are ready to train! We will need to \"compile\" the net, and fit it to the images our generators will provide:"
   ]
  },
  {
   "cell_type": "code",
   "execution_count": 7,
   "metadata": {
    "colab": {
     "base_uri": "https://localhost:8080/",
     "height": 855
    },
    "colab_type": "code",
    "id": "bF6lKKWnwU69",
    "outputId": "2d511cb7-24ae-44d4-8eaa-3ba9a51cd252",
    "scrolled": true
   },
   "outputs": [
    {
     "name": "stdout",
     "output_type": "stream",
     "text": [
      "WARNING:tensorflow:From /usr/local/lib/python3.6/dist-packages/keras/optimizers.py:793: The name tf.train.Optimizer is deprecated. Please use tf.compat.v1.train.Optimizer instead.\n",
      "\n",
      "WARNING:tensorflow:From /usr/local/lib/python3.6/dist-packages/keras/backend/tensorflow_backend.py:3657: The name tf.log is deprecated. Please use tf.math.log instead.\n",
      "\n",
      "WARNING:tensorflow:From /usr/local/lib/python3.6/dist-packages/tensorflow_core/python/ops/nn_impl.py:183: where (from tensorflow.python.ops.array_ops) is deprecated and will be removed in a future version.\n",
      "Instructions for updating:\n",
      "Use tf.where in 2.0, which has the same broadcast rule as np.where\n",
      "WARNING:tensorflow:From /usr/local/lib/python3.6/dist-packages/keras/backend/tensorflow_backend.py:1033: The name tf.assign_add is deprecated. Please use tf.compat.v1.assign_add instead.\n",
      "\n",
      "WARNING:tensorflow:From /usr/local/lib/python3.6/dist-packages/keras/backend/tensorflow_backend.py:1020: The name tf.assign is deprecated. Please use tf.compat.v1.assign instead.\n",
      "\n",
      "WARNING:tensorflow:From /usr/local/lib/python3.6/dist-packages/keras/backend/tensorflow_backend.py:3005: The name tf.Session is deprecated. Please use tf.compat.v1.Session instead.\n",
      "\n",
      "Epoch 1/10\n",
      "WARNING:tensorflow:From /usr/local/lib/python3.6/dist-packages/keras/backend/tensorflow_backend.py:190: The name tf.get_default_session is deprecated. Please use tf.compat.v1.get_default_session instead.\n",
      "\n",
      "WARNING:tensorflow:From /usr/local/lib/python3.6/dist-packages/keras/backend/tensorflow_backend.py:197: The name tf.ConfigProto is deprecated. Please use tf.compat.v1.ConfigProto instead.\n",
      "\n",
      "WARNING:tensorflow:From /usr/local/lib/python3.6/dist-packages/keras/backend/tensorflow_backend.py:207: The name tf.global_variables is deprecated. Please use tf.compat.v1.global_variables instead.\n",
      "\n",
      "WARNING:tensorflow:From /usr/local/lib/python3.6/dist-packages/keras/backend/tensorflow_backend.py:216: The name tf.is_variable_initialized is deprecated. Please use tf.compat.v1.is_variable_initialized instead.\n",
      "\n",
      "WARNING:tensorflow:From /usr/local/lib/python3.6/dist-packages/keras/backend/tensorflow_backend.py:223: The name tf.variables_initializer is deprecated. Please use tf.compat.v1.variables_initializer instead.\n",
      "\n",
      "30/30 [==============================] - 24s 799ms/step - loss: 0.4755 - acc: 0.8750 - val_loss: 0.3249 - val_acc: 0.8694\n",
      "Epoch 2/10\n",
      "30/30 [==============================] - 16s 545ms/step - loss: 0.2975 - acc: 0.8767 - val_loss: 0.2688 - val_acc: 0.8775\n",
      "Epoch 3/10\n",
      "30/30 [==============================] - 16s 527ms/step - loss: 0.2694 - acc: 0.8731 - val_loss: 0.2606 - val_acc: 0.8684\n",
      "Epoch 4/10\n",
      "30/30 [==============================] - 16s 532ms/step - loss: 0.2552 - acc: 0.8720 - val_loss: 0.2642 - val_acc: 0.8785\n",
      "Epoch 5/10\n",
      "30/30 [==============================] - 16s 536ms/step - loss: 0.2744 - acc: 0.8756 - val_loss: 0.2814 - val_acc: 0.8664\n",
      "Epoch 6/10\n",
      "30/30 [==============================] - 16s 520ms/step - loss: 0.2365 - acc: 0.8767 - val_loss: 0.2355 - val_acc: 0.8735\n",
      "Epoch 7/10\n",
      "30/30 [==============================] - 17s 554ms/step - loss: 0.2247 - acc: 0.8815 - val_loss: 0.2573 - val_acc: 0.8775\n",
      "Epoch 8/10\n",
      "30/30 [==============================] - 16s 530ms/step - loss: 0.2123 - acc: 0.8940 - val_loss: 0.2184 - val_acc: 0.8866\n",
      "Epoch 9/10\n",
      "30/30 [==============================] - 16s 523ms/step - loss: 0.1877 - acc: 0.9010 - val_loss: 0.2394 - val_acc: 0.9068\n",
      "Epoch 10/10\n",
      "30/30 [==============================] - 12s 410ms/step - loss: 0.1895 - acc: 0.8998 - val_loss: 0.2332 - val_acc: 0.9018\n",
      "CPU times: user 3min 48s, sys: 5.08 s, total: 3min 54s\n",
      "Wall time: 2min 44s\n"
     ]
    }
   ],
   "source": [
    "%%time\n",
    "from keras.optimizers import Adam\n",
    "\n",
    "my_first_cnn.compile(loss='binary_crossentropy',\n",
    "                     optimizer=Adam(lr=1e-3),\n",
    "                     metrics=['acc'])\n",
    "\n",
    "history = my_first_cnn.fit_generator(train_generator,\n",
    "                                     steps_per_epoch=30,\n",
    "                                     epochs=10,\n",
    "                                     validation_data=validation_generator,\n",
    "                                     validation_steps=10)\n",
    "\n",
    "# Save the model. This can save us the trouble of retraining in later sessions.\n",
    "my_first_cnn.save('my_first_cnn.h5')"
   ]
  },
  {
   "cell_type": "markdown",
   "metadata": {
    "colab_type": "text",
    "id": "B-JEiae9wU7C"
   },
   "source": [
    "Magic! In only a few minutes, we are getting a classifier with close to 90% accuracy! Time to celebrate!\n",
    "\n",
    "\n",
    "![Party!](https://thumbs.gfycat.com/AdvancedPleasedIlsamochadegu-size_restricted.gif)\n",
    "\n",
    "Let's go to bed with that sweet sweet feeling. Future Dani will take care of the cleanup. I'm sure everything is well and good with our classifier. \n",
    "\n",
    "Or is it not? We will take a closer look at how well it performs in the next installment.\n",
    "\n"
   ]
  },
  {
   "cell_type": "markdown",
   "metadata": {
    "colab_type": "text",
    "id": "5xVvxTGZwU7D"
   },
   "source": [
    "### Further Reading\n",
    "\n",
    "[Deep Learning with Python](https://www.manning.com/books/deep-learning-with-python): A great introductory book by  François Chollet, author of Keras. Explains the practice first, then goes down to theory.\n",
    "\n",
    "[Interview with François Chollet](https://www.pyimagesearch.com/2018/07/02/an-interview-with-francois-chollet/), author of DL with Python.\n",
    "\n",
    "[Implementing a Neural Network from scratch with Python](https://medium.com/@curiousily/tensorflow-for-hackers-part-iv-neural-network-from-scratch-1a4f504dfa8): An in depth view of the internal architecture of a NN, with a tutorial to implement backpropagation.\n"
   ]
  }
 ],
 "metadata": {
  "accelerator": "GPU",
  "colab": {
   "name": "03-A_First_Approximation.ipynb",
   "provenance": []
  },
  "kernelspec": {
   "display_name": "Python 3",
   "language": "python",
   "name": "python3"
  },
  "language_info": {
   "codemirror_mode": {
    "name": "ipython",
    "version": 3
   },
   "file_extension": ".py",
   "mimetype": "text/x-python",
   "name": "python",
   "nbconvert_exporter": "python",
   "pygments_lexer": "ipython3",
   "version": "3.7.6"
  }
 },
 "nbformat": 4,
 "nbformat_minor": 1
}
