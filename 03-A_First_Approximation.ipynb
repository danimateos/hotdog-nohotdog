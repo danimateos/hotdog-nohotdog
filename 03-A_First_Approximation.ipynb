{
 "cells": [
  {
   "cell_type": "markdown",
   "metadata": {},
   "source": [
    "# My First Hotdog detector\n",
    "\n",
    "Last time, we managed to finally get the images we need to build a [sweet sweet hotdog/nohotdog classifier] using [Deep Learning]. This time, we are finally going to play around with Convolutional Neural Networks (CNNs)! But wait, what are those???\n",
    "\n",
    "TODO: some quick instructions or reference for installing Keras with GPU.\n",
    "\n",
    "TODO: convolutional neural networks\n",
    "\n",
    "[sweet sweet hotdog/nohotdog classifier]: https://www.youtube.com/watch?v=ACmydtFDTGs\n",
    "[Deep Learning]: "
   ]
  },
  {
   "cell_type": "code",
   "execution_count": 1,
   "metadata": {},
   "outputs": [
    {
     "name": "stderr",
     "output_type": "stream",
     "text": [
      "Using TensorFlow backend.\n"
     ]
    }
   ],
   "source": [
    "import keras\n",
    "from keras import backend as K"
   ]
  },
  {
   "cell_type": "markdown",
   "metadata": {},
   "source": [
    "We are going to learn some hotdogs! The basic tool we are going to use is a Convolutional Neural Network (CNN). CNNs have revolutionized computer vision in the last few years"
   ]
  },
  {
   "cell_type": "code",
   "execution_count": 2,
   "metadata": {},
   "outputs": [
    {
     "name": "stdout",
     "output_type": "stream",
     "text": [
      "_________________________________________________________________\n",
      "Layer (type)                 Output Shape              Param #   \n",
      "=================================================================\n",
      "conv2d_1 (Conv2D)            (None, 118, 118, 32)      896       \n",
      "_________________________________________________________________\n",
      "max_pooling2d_1 (MaxPooling2 (None, 59, 59, 32)        0         \n",
      "_________________________________________________________________\n",
      "conv2d_2 (Conv2D)            (None, 57, 57, 32)        9248      \n",
      "_________________________________________________________________\n",
      "max_pooling2d_2 (MaxPooling2 (None, 28, 28, 32)        0         \n",
      "_________________________________________________________________\n",
      "flatten_1 (Flatten)          (None, 25088)             0         \n",
      "_________________________________________________________________\n",
      "dense_1 (Dense)              (None, 64)                1605696   \n",
      "_________________________________________________________________\n",
      "dense_2 (Dense)              (None, 1)                 65        \n",
      "=================================================================\n",
      "Total params: 1,615,905\n",
      "Trainable params: 1,615,905\n",
      "Non-trainable params: 0\n",
      "_________________________________________________________________\n"
     ]
    }
   ],
   "source": [
    "from keras.layers import Conv2D, MaxPooling2D, InputLayer, Flatten, Dense\n",
    "\n",
    "my_first_cnn = keras.Sequential()\n",
    "my_first_cnn.add(Conv2D(32, (3, 3), activation='relu', input_shape=(120, 120, 3)))\n",
    "my_first_cnn.add(MaxPooling2D((2,2)))\n",
    "my_first_cnn.add(Conv2D(32, (3, 3), activation='relu'))\n",
    "my_first_cnn.add(MaxPooling2D((2,2)))\n",
    "my_first_cnn.add(Flatten())\n",
    "my_first_cnn.add(Dense(64, activation='relu'))\n",
    "my_first_cnn.add(Dense(1, activation='sigmoid'))\n",
    "\n",
    "my_first_cnn.summary()"
   ]
  },
  {
   "cell_type": "code",
   "execution_count": 3,
   "metadata": {},
   "outputs": [
    {
     "name": "stdout",
     "output_type": "stream",
     "text": [
      "Found 4765 images belonging to 2 classes.\n",
      "Found 888 images belonging to 2 classes.\n"
     ]
    }
   ],
   "source": [
    "from keras.preprocessing.image import ImageDataGenerator\n",
    "import os\n",
    "\n",
    "base_dir = 'databackup//'\n",
    "\n",
    "train_dir = os.path.join(base_dir, 'train')\n",
    "validation_dir = os.path.join(base_dir, 'validation')\n",
    "\n",
    "train_datagen = ImageDataGenerator(rescale=1 / 255,\n",
    "                                   rotation_range=40,\n",
    "                                   width_shift_range=0.2,\n",
    "                                   height_shift_range=0.2,\n",
    "                                   shear_range=0.2,\n",
    "                                   zoom_range=0.2,\n",
    "                                   horizontal_flip=True,\n",
    "                                   fill_mode='nearest')\n",
    "\n",
    "test_datagen = ImageDataGenerator(rescale=1 / 255)\n",
    "\n",
    "train_generator = train_datagen.flow_from_directory(train_dir, \n",
    "                                                    target_size=(120,120),\n",
    "                                                    batch_size=100,\n",
    "                                                    class_mode='binary')\n",
    "\n",
    "validation_generator = test_datagen.flow_from_directory(validation_dir,\n",
    "                                                        target_size=(120,120),\n",
    "                                                        batch_size=100,\n",
    "                                                        class_mode='binary')"
   ]
  },
  {
   "cell_type": "code",
   "execution_count": 4,
   "metadata": {},
   "outputs": [
    {
     "name": "stdout",
     "output_type": "stream",
     "text": [
      "Epoch 1/10\n",
      "30/30 [==============================] - 108s 4s/step - loss: 0.4251 - acc: 0.8763 - val_loss: 0.3390 - val_acc: 0.8725\n",
      "Epoch 2/10\n",
      "30/30 [==============================] - 20s 653ms/step - loss: 0.3067 - acc: 0.8720 - val_loss: 0.3026 - val_acc: 0.8735\n",
      "Epoch 3/10\n",
      "30/30 [==============================] - 20s 665ms/step - loss: 0.2803 - acc: 0.8750 - val_loss: 0.2624 - val_acc: 0.8634\n",
      "Epoch 4/10\n",
      "30/30 [==============================] - 20s 667ms/step - loss: 0.2547 - acc: 0.8793 - val_loss: 0.2436 - val_acc: 0.8745\n",
      "Epoch 5/10\n",
      "30/30 [==============================] - 20s 651ms/step - loss: 0.2523 - acc: 0.8693 - val_loss: 0.2355 - val_acc: 0.8715\n",
      "Epoch 6/10\n",
      "30/30 [==============================] - 20s 674ms/step - loss: 0.2492 - acc: 0.8763 - val_loss: 0.2422 - val_acc: 0.8654\n",
      "Epoch 7/10\n",
      "30/30 [==============================] - 20s 668ms/step - loss: 0.2331 - acc: 0.8832 - val_loss: 0.2284 - val_acc: 0.8988\n",
      "Epoch 8/10\n",
      "30/30 [==============================] - 20s 672ms/step - loss: 0.2344 - acc: 0.8930 - val_loss: 0.2420 - val_acc: 0.8897\n",
      "Epoch 9/10\n",
      "30/30 [==============================] - 20s 665ms/step - loss: 0.2385 - acc: 0.8916 - val_loss: 0.2266 - val_acc: 0.8927\n",
      "Epoch 10/10\n",
      "30/30 [==============================] - 20s 654ms/step - loss: 0.2234 - acc: 0.9033 - val_loss: 0.2369 - val_acc: 0.8866\n"
     ]
    }
   ],
   "source": [
    "from keras.optimizers import Adam\n",
    "\n",
    "my_first_cnn.compile(loss='binary_crossentropy',\n",
    "                     optimizer=Adam(lr=1e-3),\n",
    "                     metrics=['acc'])\n",
    "\n",
    "history = my_first_cnn.fit_generator(train_generator,\n",
    "                                     steps_per_epoch=30,\n",
    "                                     epochs=10,\n",
    "                                     validation_data=validation_generator,\n",
    "                                     validation_steps=10)"
   ]
  },
  {
   "cell_type": "markdown",
   "metadata": {},
   "source": [
    "Magic! In only a few minutes, we are getting a classifier with close to 90% accuracy!\n",
    "\n",
    "Now that I come to think of it, we have XXXX hotdog images and XXXX nohotdog images, so a lazy classifier that assigns everything a 'nothotdog' label would get around 87% accuracy. Let's check if that's the case."
   ]
  },
  {
   "cell_type": "markdown",
   "metadata": {},
   "source": [
    "### Confusion matrix, precision and recall\n",
    "\n",
    "The confusion matrix is a basic conceptual tool in binary classification. It's just a matrix such that rows represent true classes and columns represent predicted classes. \n",
    "\n",
    "Keras has assigned the label 0 to our hotdog class, which we consider positive, and 1 to our nothotdog class, which we consider negative. Therefore, in our binary classification setting we will have true positives top left, true negatives bottom right, false positives bottom left, and false negatives top right.\n",
    "\n",
    "Therefore, precision will be\n",
    "\n",
    "$$ precision = \\frac{true\\ positives}{predicted\\ positives} = \\frac{C_{0,0}}{C_{0,0} + C_{1,0}} $$\n",
    "\n",
    "and recall will be:\n",
    "\n",
    "$$ recall = \\frac{true\\ positives}{total\\ positives} = \\frac{C_{0,0}}{C_{0,0} + C_{0,1}}$$\n"
   ]
  },
  {
   "cell_type": "code",
   "execution_count": 5,
   "metadata": {},
   "outputs": [
    {
     "name": "stdout",
     "output_type": "stream",
     "text": [
      "Found 888 images belonging to 2 classes.\n"
     ]
    },
    {
     "data": {
      "text/plain": [
       "(888, 1)"
      ]
     },
     "execution_count": 5,
     "metadata": {},
     "output_type": "execute_result"
    }
   ],
   "source": [
    "validation_generator_noshuffle = test_datagen.flow_from_directory(validation_dir,\n",
    "                                                        target_size=(120,120),\n",
    "                                                        batch_size=100,\n",
    "                                                        shuffle=False,                                                            \n",
    "                                                        class_mode='binary')\n",
    "\n",
    "predictions = my_first_cnn.predict_generator(validation_generator_noshuffle)\n",
    "\n",
    "predictions.shape"
   ]
  },
  {
   "cell_type": "code",
   "execution_count": 6,
   "metadata": {},
   "outputs": [
    {
     "name": "stdout",
     "output_type": "stream",
     "text": [
      "0.75 0.210526315789\n"
     ]
    },
    {
     "data": {
      "image/png": "[encoded data removed]",
      "text/plain": [
       "<matplotlib.figure.Figure at 0x7f8062576e10>"
      ]
     },
     "metadata": {},
     "output_type": "display_data"
    }
   ],
   "source": [
    "from sklearn.metrics import confusion_matrix\n",
    "import seaborn as sns\n",
    "%matplotlib inline\n",
    "\n",
    "C = confusion_matrix(validation_generator_noshuffle.classes, predictions > .5)\n",
    "ax = sns.heatmap(C, annot=True, square=True)\n",
    "ax.set_ylabel('True class')\n",
    "ax.set_xlabel('Predicted class')\n",
    "\n",
    "precision = C[0,0] / (C[0,0] + C[1,0])\n",
    "recall = C[0][0] / (C[0,0] + C[0,1])\n",
    "\n",
    "print(precision, recall)"
   ]
  },
  {
   "cell_type": "markdown",
   "metadata": {},
   "source": [
    "Oh. Right. That means that only XXX% of our predicted hotdogs are such, and that we only detect around XXX% of all the hotdogs in the dataset.\n",
    "\n",
    "That illustrates a very important idea to keep in mind: choose the right metrics! Specially in unbalanced datasets, accuracy can be really really important. We are fitting on binary cross entropy, but it will naturally focus on getting right the most common class. For that, fit_generator provides a `class_weight` parameter that allows us to artificially give more importance to underrepresented or specially important classes. Let's try it:"
   ]
  },
  {
   "cell_type": "code",
   "execution_count": 7,
   "metadata": {},
   "outputs": [
    {
     "name": "stdout",
     "output_type": "stream",
     "text": [
      "Epoch 1/10\n",
      "30/30 [==============================] - 23s 780ms/step - loss: 1.0079 - acc: 0.8025 - val_loss: 0.3556 - val_acc: 0.8239\n",
      "Epoch 2/10\n",
      "30/30 [==============================] - 20s 679ms/step - loss: 0.9124 - acc: 0.8320 - val_loss: 0.3640 - val_acc: 0.7864\n",
      "Epoch 3/10\n",
      "30/30 [==============================] - 20s 657ms/step - loss: 0.8670 - acc: 0.8224 - val_loss: 0.3762 - val_acc: 0.7591\n",
      "Epoch 4/10\n",
      "30/30 [==============================] - 21s 684ms/step - loss: 0.9297 - acc: 0.7937 - val_loss: 0.3091 - val_acc: 0.8289\n",
      "Epoch 5/10\n",
      "30/30 [==============================] - 20s 670ms/step - loss: 0.8074 - acc: 0.8454 - val_loss: 0.3684 - val_acc: 0.7551\n",
      "Epoch 6/10\n",
      "30/30 [==============================] - 20s 653ms/step - loss: 0.8741 - acc: 0.8010 - val_loss: 0.3238 - val_acc: 0.8087\n",
      "Epoch 7/10\n",
      "30/30 [==============================] - 20s 679ms/step - loss: 0.8670 - acc: 0.8235 - val_loss: 0.3067 - val_acc: 0.8117\n",
      "Epoch 8/10\n",
      "30/30 [==============================] - 20s 654ms/step - loss: 0.8417 - acc: 0.8055 - val_loss: 0.3513 - val_acc: 0.7743\n",
      "Epoch 9/10\n",
      "30/30 [==============================] - 20s 670ms/step - loss: 0.7677 - acc: 0.8459 - val_loss: 0.3088 - val_acc: 0.8138\n",
      "Epoch 10/10\n",
      "30/30 [==============================] - 20s 678ms/step - loss: 0.8758 - acc: 0.8153 - val_loss: 0.3704 - val_acc: 0.7490\n"
     ]
    }
   ],
   "source": [
    "from keras.optimizers import Adam\n",
    "\n",
    "my_first_cnn.compile(loss='binary_crossentropy',\n",
    "                     optimizer=Adam(lr=1e-3),\n",
    "                     metrics=['acc'])\n",
    "\n",
    "history = my_first_cnn.fit_generator(train_generator,\n",
    "                                     class_weight = {0: 7, 1: 1},\n",
    "                                     steps_per_epoch=30,\n",
    "                                     epochs=10,\n",
    "                                     validation_data=validation_generator,\n",
    "                                     validation_steps=10)"
   ]
  },
  {
   "cell_type": "markdown",
   "metadata": {},
   "source": [
    "This time the confusion matrix is this one:"
   ]
  },
  {
   "cell_type": "code",
   "execution_count": 8,
   "metadata": {},
   "outputs": [
    {
     "name": "stdout",
     "output_type": "stream",
     "text": [
      "0.332278481013 0.921052631579\n"
     ]
    },
    {
     "data": {
      "image/png": "[encoded data removed]",
      "text/plain": [
       "<matplotlib.figure.Figure at 0x7f7ff8126d68>"
      ]
     },
     "metadata": {},
     "output_type": "display_data"
    }
   ],
   "source": [
    "predictions = my_first_cnn.predict_generator(validation_generator_noshuffle)\n",
    "\n",
    "C = confusion_matrix(validation_generator_noshuffle.classes, predictions > .5)\n",
    "ax = sns.heatmap(C, annot=True, square=True)\n",
    "ax.set_ylabel('True class')\n",
    "ax.set_xlabel('Predicted class')\n",
    "\n",
    "precision = C[0,0] / (C[0,0] + C[1,0])\n",
    "recall = C[0][0] / (C[0,0] + C[0,1])\n",
    "\n",
    "print(precision, recall)"
   ]
  },
  {
   "cell_type": "markdown",
   "metadata": {},
   "source": [
    "Much better! This won't blow Jian-Yang away, but it's a a lot better, despite having worse accuracy. Consider that before this morning, you had no idea how to code a program to have some perception of the real world. Now you can!\n",
    "\n",
    "Anyway, we have a classifier. It's not great, but I'm sure it can get better. Let's train it a bit more, shall we?"
   ]
  },
  {
   "cell_type": "code",
   "execution_count": 9,
   "metadata": {},
   "outputs": [
    {
     "name": "stdout",
     "output_type": "stream",
     "text": [
      "Epoch 1/20\n",
      "30/30 [==============================] - 23s 770ms/step - loss: 0.2505 - acc: 0.8816 - val_loss: 0.2233 - val_acc: 0.9059\n",
      "Epoch 2/20\n",
      "30/30 [==============================] - 20s 679ms/step - loss: 0.2377 - acc: 0.8920 - val_loss: 0.2084 - val_acc: 0.9008\n",
      "Epoch 3/20\n",
      "30/30 [==============================] - 20s 668ms/step - loss: 0.2307 - acc: 0.8944 - val_loss: 0.2311 - val_acc: 0.9119\n",
      "Epoch 4/20\n",
      "30/30 [==============================] - 20s 680ms/step - loss: 0.2129 - acc: 0.9103 - val_loss: 0.2042 - val_acc: 0.9119\n",
      "Epoch 5/20\n",
      "30/30 [==============================] - 20s 663ms/step - loss: 0.2183 - acc: 0.9024 - val_loss: 0.2119 - val_acc: 0.9069\n",
      "Epoch 6/20\n",
      "30/30 [==============================] - 20s 652ms/step - loss: 0.2209 - acc: 0.9006 - val_loss: 0.2116 - val_acc: 0.9028\n",
      "Epoch 7/20\n",
      "30/30 [==============================] - 20s 677ms/step - loss: 0.2253 - acc: 0.9021 - val_loss: 0.2058 - val_acc: 0.9119\n",
      "Epoch 8/20\n",
      "30/30 [==============================] - 20s 671ms/step - loss: 0.2049 - acc: 0.9077 - val_loss: 0.2036 - val_acc: 0.9170\n",
      "Epoch 9/20\n",
      "30/30 [==============================] - 20s 677ms/step - loss: 0.2166 - acc: 0.9033 - val_loss: 0.2128 - val_acc: 0.9018\n",
      "Epoch 10/20\n",
      "30/30 [==============================] - 20s 674ms/step - loss: 0.2041 - acc: 0.9109 - val_loss: 0.2022 - val_acc: 0.9170\n",
      "Epoch 11/20\n",
      "30/30 [==============================] - 20s 675ms/step - loss: 0.2175 - acc: 0.9097 - val_loss: 0.2147 - val_acc: 0.9170\n",
      "Epoch 12/20\n",
      "30/30 [==============================] - 20s 662ms/step - loss: 0.2005 - acc: 0.9088 - val_loss: 0.2012 - val_acc: 0.9130\n",
      "Epoch 13/20\n",
      "30/30 [==============================] - 20s 679ms/step - loss: 0.2265 - acc: 0.9047 - val_loss: 0.1962 - val_acc: 0.9261\n",
      "Epoch 14/20\n",
      "30/30 [==============================] - 20s 662ms/step - loss: 0.1978 - acc: 0.9177 - val_loss: 0.2006 - val_acc: 0.9119\n",
      "Epoch 15/20\n",
      "30/30 [==============================] - 20s 682ms/step - loss: 0.2022 - acc: 0.9126 - val_loss: 0.2121 - val_acc: 0.9018\n",
      "Epoch 16/20\n",
      "30/30 [==============================] - 20s 668ms/step - loss: 0.2092 - acc: 0.9017 - val_loss: 0.2079 - val_acc: 0.9140\n",
      "Epoch 17/20\n",
      "30/30 [==============================] - 20s 669ms/step - loss: 0.2044 - acc: 0.9149 - val_loss: 0.1953 - val_acc: 0.9190\n",
      "Epoch 18/20\n",
      "30/30 [==============================] - 20s 670ms/step - loss: 0.1861 - acc: 0.9188 - val_loss: 0.2055 - val_acc: 0.9231\n",
      "Epoch 19/20\n",
      "30/30 [==============================] - 20s 668ms/step - loss: 0.2049 - acc: 0.9133 - val_loss: 0.1979 - val_acc: 0.9190\n",
      "Epoch 20/20\n",
      "30/30 [==============================] - 20s 656ms/step - loss: 0.2065 - acc: 0.9160 - val_loss: 0.2256 - val_acc: 0.8988\n"
     ]
    }
   ],
   "source": [
    "from keras.optimizers import Adam\n",
    "\n",
    "my_first_cnn.compile(loss='binary_crossentropy',\n",
    "                     optimizer=Adam(lr=1e-3),\n",
    "                     metrics=['acc'])\n",
    "\n",
    "history_pt2 = my_first_cnn.fit_generator(train_generator,\n",
    "                                         steps_per_epoch=30,\n",
    "                                         epochs=20,\n",
    "                                         validation_data=validation_generator,\n",
    "                                         validation_steps=10,\n",
    "                                         verbose=1)"
   ]
  },
  {
   "cell_type": "markdown",
   "metadata": {},
   "source": [
    "What's happening here? We are seeing a typical case of overfitting. Our training loss is improving really fast, but at the same time the validation loss increases in each epoc. The network is learning the specific details of the training set, which don't generalize all that well to the samples in the validation set. "
   ]
  },
  {
   "cell_type": "code",
   "execution_count": 10,
   "metadata": {},
   "outputs": [
    {
     "data": {
      "text/plain": [
       "<matplotlib.legend.Legend at 0x7f7dec299f98>"
      ]
     },
     "execution_count": 10,
     "metadata": {},
     "output_type": "execute_result"
    },
    {
     "data": {
      "image/png": "[encoded data removed]",
      "text/plain": [
       "<matplotlib.figure.Figure at 0x7f7dec3174e0>"
      ]
     },
     "metadata": {},
     "output_type": "display_data"
    }
   ],
   "source": [
    "import matplotlib.pyplot as plt\n",
    "\n",
    "f, axes = plt.subplots(2,1)\n",
    "\n",
    "f.set_size_inches(8,8)\n",
    "\n",
    "nb_epochs = len(history.epoch)\n",
    "concatenated = history.epoch + [nb_epochs + epoch_number for epoch_number in history_pt2.epoch]\n",
    "\n",
    "axes[0].plot(concatenated, history.history['loss'] + history_pt2.history['loss'], label='loss')\n",
    "axes[0].plot(concatenated, history.history['val_loss'] + history_pt2.history['val_loss'], label='val_loss')\n",
    "axes[0].legend()\n",
    "\n",
    "axes[1].plot(concatenated, history.history['acc'] + history_pt2.history['acc'], label='acc')\n",
    "axes[1].plot(concatenated, history.history['val_acc'] + history_pt2.history['val_acc'], label='val_acc')\n",
    "axes[1].legend()"
   ]
  },
  {
   "cell_type": "code",
   "execution_count": 11,
   "metadata": {},
   "outputs": [
    {
     "name": "stdout",
     "output_type": "stream",
     "text": [
      "0.72131147541 0.385964912281\n"
     ]
    },
    {
     "data": {
      "image/png": "[encoded data removed]",
      "text/plain": [
       "<matplotlib.figure.Figure at 0x7f80a8ecd5c0>"
      ]
     },
     "metadata": {},
     "output_type": "display_data"
    }
   ],
   "source": [
    "predictions = my_first_cnn.predict_generator(validation_generator_noshuffle)\n",
    "\n",
    "C = confusion_matrix(validation_generator_noshuffle.classes, predictions > .5)\n",
    "ax = sns.heatmap(C, annot=True, square=True)\n",
    "ax.set_ylabel('True class')\n",
    "ax.set_xlabel('Predicted class')\n",
    "\n",
    "precision = C[0,0] / (C[0,0] + C[1,0])\n",
    "recall = C[0][0] / (C[0,0] + C[0,1])\n",
    "\n",
    "print(precision, recall)"
   ]
  },
  {
   "cell_type": "markdown",
   "metadata": {},
   "source": [
    "This is the tightrope act that we must make all the time when practising Machine Learning: the [bias-variance tradeoff]. In short, that refers to the trade-off between flexibility and generality of the models. A sufficiently flexible (read: complicated) model will always be able to learn non-relevant details of the input dataset (to overfit), and Neural Networks are nothing if not complicated: notice above where we built our simple CNN: it has over $10^6$ parameters! That's over a million knobs to tweak.\n",
    "\n",
    "Overfitting means we have high variance: different samples will lead to very different estimations of the parameters. That will manifest as higher validation loss than training loss, as we see here from about epoch 8.\n",
    "\n",
    "The solutions are simple but varied, and we need to keep many of them in our bag of tools for different occasions. Some are very general and some are pretty specific, but all of them fall under the heading of [regularization]. [This] is probably the best explanation of that that I've heard. In short, we want to penalize somehow the complexity of our models. That will in turn result in better generality.\n",
    "\n",
    "In our specific example, image recognition, there's one very intuitive way to make our model recognize more varied images of hotdogs: to feed it more varied images of hotdogs. Since we already collected as many as we could, what we can do is to _generate_ more varied images of hotdogs.\n",
    "\n",
    "[bias-variance tradeoff]: https://en.wikipedia.org/wiki/Bias%E2%80%93variance_tradeoff\n",
    "[regularization]: https://en.wikipedia.org/wiki/Regularization_(mathematics)#Generalization\n",
    "[This]: https://www.coursera.org/lecture/machine-learning/regularization-and-bias-variance-4VDlf"
   ]
  },
  {
   "cell_type": "markdown",
   "metadata": {},
   "source": [
    "### Further Reading\n",
    "\n",
    "https://www.pyimagesearch.com/2018/07/02/an-interview-with-francois-chollet/ author of DL with Python, writer of Keras, favors practice over theory.\n",
    "\n"
   ]
  }
 ],
 "metadata": {
  "kernelspec": {
   "display_name": "Python 3",
   "language": "python",
   "name": "python3"
  },
  "language_info": {
   "codemirror_mode": {
    "name": "ipython",
    "version": 3
   },
   "file_extension": ".py",
   "mimetype": "text/x-python",
   "name": "python",
   "nbconvert_exporter": "python",
   "pygments_lexer": "ipython3",
   "version": "3.6.4"
  }
 },
 "nbformat": 4,
 "nbformat_minor": 2
}
