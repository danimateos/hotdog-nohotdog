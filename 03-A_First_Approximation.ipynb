{
 "cells": [
  {
   "cell_type": "markdown",
   "metadata": {},
   "source": [
    "# My First Hotdog detector\n",
    "\n",
    "Last time, we managed to finally get the images we need to build a [sweet sweet hotdog/nohotdog classifier] using [Deep Learning]. This time, we are finally going to play around with Convolutional Neural Networks (CNNs)! But wait, what are those???\n",
    "\n",
    "TODO: some quick instructions or reference for installing Keras with GPU.\n",
    "\n",
    "[sweet sweet hotdog/nohotdog classifier]: https://www.youtube.com/watch?v=ACmydtFDTGs\n",
    "[Deep Learning]: "
   ]
  },
  {
   "cell_type": "code",
   "execution_count": 1,
   "metadata": {},
   "outputs": [
    {
     "name": "stderr",
     "output_type": "stream",
     "text": [
      "Using TensorFlow backend.\n"
     ]
    }
   ],
   "source": [
    "import keras\n",
    "from keras import backend as K"
   ]
  },
  {
   "cell_type": "markdown",
   "metadata": {},
   "source": [
    "We are going to learn some hotdogs! The basic tool we are going to use is a Convolutional Neural Network (CNN). CNNs have revolutionized computer vision in the last few years"
   ]
  },
  {
   "cell_type": "code",
   "execution_count": 2,
   "metadata": {},
   "outputs": [
    {
     "name": "stdout",
     "output_type": "stream",
     "text": [
      "_________________________________________________________________\n",
      "Layer (type)                 Output Shape              Param #   \n",
      "=================================================================\n",
      "conv2d_1 (Conv2D)            (None, 70, 70, 32)        896       \n",
      "_________________________________________________________________\n",
      "max_pooling2d_1 (MaxPooling2 (None, 35, 35, 32)        0         \n",
      "_________________________________________________________________\n",
      "conv2d_2 (Conv2D)            (None, 33, 33, 32)        9248      \n",
      "_________________________________________________________________\n",
      "max_pooling2d_2 (MaxPooling2 (None, 16, 16, 32)        0         \n",
      "_________________________________________________________________\n",
      "flatten_1 (Flatten)          (None, 8192)              0         \n",
      "_________________________________________________________________\n",
      "dense_1 (Dense)              (None, 64)                524352    \n",
      "_________________________________________________________________\n",
      "dense_2 (Dense)              (None, 1)                 65        \n",
      "=================================================================\n",
      "Total params: 534,561\n",
      "Trainable params: 534,561\n",
      "Non-trainable params: 0\n",
      "_________________________________________________________________\n"
     ]
    }
   ],
   "source": [
    "from keras.layers import Conv2D, MaxPooling2D, InputLayer, Flatten, Dense\n",
    "\n",
    "my_first_cnn = keras.Sequential()\n",
    "my_first_cnn.add(Conv2D(32, (3, 3), activation='relu', input_shape=(72, 72, 3)))\n",
    "my_first_cnn.add(MaxPooling2D((2,2)))\n",
    "my_first_cnn.add(Conv2D(32, (3, 3), activation='relu'))\n",
    "my_first_cnn.add(MaxPooling2D((2,2)))\n",
    "my_first_cnn.add(Flatten())\n",
    "my_first_cnn.add(Dense(64, activation='relu'))\n",
    "my_first_cnn.add(Dense(1, activation='sigmoid'))\n",
    "\n",
    "my_first_cnn.summary()"
   ]
  },
  {
   "cell_type": "code",
   "execution_count": 3,
   "metadata": {},
   "outputs": [
    {
     "name": "stdout",
     "output_type": "stream",
     "text": [
      "Found 4765 images belonging to 2 classes.\n",
      "Found 888 images belonging to 2 classes.\n"
     ]
    }
   ],
   "source": [
    "from keras.preprocessing.image import ImageDataGenerator\n",
    "import os\n",
    "\n",
    "base_dir = 'databackup/'\n",
    "\n",
    "train_dir = os.path.join(base_dir, 'train')\n",
    "validation_dir = os.path.join(base_dir, 'validation')\n",
    "\n",
    "train_datagen = ImageDataGenerator(rescale=1 / 255)\n",
    "test_datagen = ImageDataGenerator(rescale=1 / 255)\n",
    "\n",
    "train_generator = train_datagen.flow_from_directory(train_dir, \n",
    "                                                    target_size=(72,72),\n",
    "                                                    batch_size=100,\n",
    "                                                    class_mode='binary')\n",
    "\n",
    "validation_generator = test_datagen.flow_from_directory(validation_dir,\n",
    "                                                        target_size=(72,72),\n",
    "                                                        batch_size=100,\n",
    "                                                        class_mode='binary')"
   ]
  },
  {
   "cell_type": "code",
   "execution_count": 4,
   "metadata": {},
   "outputs": [
    {
     "name": "stdout",
     "output_type": "stream",
     "text": [
      "Epoch 1/7\n",
      "30/30 [==============================] - 96s 3s/step - loss: 0.3592 - acc: 0.8802 - val_loss: 0.3096 - val_acc: 0.8715\n",
      "Epoch 2/7\n",
      "30/30 [==============================] - 10s 319ms/step - loss: 0.2951 - acc: 0.8687 - val_loss: 0.2766 - val_acc: 0.8644\n",
      "Epoch 3/7\n",
      "30/30 [==============================] - 9s 306ms/step - loss: 0.2566 - acc: 0.8750 - val_loss: 0.2564 - val_acc: 0.8715\n",
      "Epoch 4/7\n",
      "30/30 [==============================] - 11s 367ms/step - loss: 0.2511 - acc: 0.8877 - val_loss: 0.2393 - val_acc: 0.8988\n",
      "Epoch 5/7\n",
      "30/30 [==============================] - 9s 313ms/step - loss: 0.2260 - acc: 0.8936 - val_loss: 0.2304 - val_acc: 0.8978\n",
      "Epoch 6/7\n",
      "30/30 [==============================] - 9s 312ms/step - loss: 0.2264 - acc: 0.9028 - val_loss: 0.2153 - val_acc: 0.9150\n",
      "Epoch 7/7\n",
      "30/30 [==============================] - 10s 317ms/step - loss: 0.2179 - acc: 0.9043 - val_loss: 0.2160 - val_acc: 0.9059\n"
     ]
    }
   ],
   "source": [
    "from keras.optimizers import Adam\n",
    "\n",
    "my_first_cnn.compile(loss='binary_crossentropy',\n",
    "                     optimizer=Adam(lr=1e-3),\n",
    "                     metrics=['acc'])\n",
    "\n",
    "history = my_first_cnn.fit_generator(train_generator,\n",
    "                                     steps_per_epoch=30,\n",
    "                                     epochs=7,\n",
    "                                     validation_data=validation_generator,\n",
    "                                     validation_steps=10)"
   ]
  },
  {
   "cell_type": "markdown",
   "metadata": {},
   "source": [
    "Magic! In only a few seconds, we are getting classifier with close to 90% accuracy!\n",
    "\n",
    "Now that I come to think of it, we have XXXX hotdog images and XXXX nohotdog images, so a lazy classifier that assigns everything a 'nothotdog' label would get around 87% accuracy. Let's check if that's the case."
   ]
  },
  {
   "cell_type": "markdown",
   "metadata": {},
   "source": [
    "### Confusion matrix\n",
    "\n",
    "The confusion matrix is a basic conceptual tool in binary classification. It's just a matrix such that rows represent true classes and columns represent predicted classes. \n",
    "\n",
    "Keras has assigned the label 1 to our hotdog class, which we consider positive, and 0 to our predicted class, which we consider negative. Therefore, in our binary classification setting we will have true positives top left, true negatives bottom right, false positives bottom left, and false negatives top right.\n",
    "\n",
    "Therefore, precision will be\n",
    "\n",
    "$$ precision = \\frac{true positives}{predicted positives} = \\frac{C_{0,0}}{C_{0,0} + C_{1,0}} $$\n",
    "\n",
    "and recall will be:\n",
    "\n",
    "$$ recall = \\frac{true positives}{total positives} = \\frac{C_{0,0}}{C_{0,0} + C_{0,1}}$$\n"
   ]
  },
  {
   "cell_type": "code",
   "execution_count": 5,
   "metadata": {},
   "outputs": [
    {
     "data": {
      "text/plain": [
       "(888, 1)"
      ]
     },
     "execution_count": 5,
     "metadata": {},
     "output_type": "execute_result"
    }
   ],
   "source": [
    "predictions = my_first_cnn.predict_generator(validation_generator)\n",
    "\n",
    "predictions.shape"
   ]
  },
  {
   "cell_type": "code",
   "execution_count": 6,
   "metadata": {},
   "outputs": [
    {
     "name": "stdout",
     "output_type": "stream",
     "text": [
      "0.131147540984 0.0701754385965\n"
     ]
    },
    {
     "data": {
      "image/png": "[encoded data removed]",
      "text/plain": [
       "<matplotlib.figure.Figure at 0x7f0fe5adf828>"
      ]
     },
     "metadata": {},
     "output_type": "display_data"
    }
   ],
   "source": [
    "from sklearn.metrics import confusion_matrix\n",
    "import seaborn as sns\n",
    "%matplotlib inline\n",
    "\n",
    "\n",
    "C = confusion_matrix(validation_generator.classes, predictions > .5)\n",
    "ax = sns.heatmap(C, annot=True, square=True)\n",
    "ax.set_ylabel('True class')\n",
    "ax.set_xlabel('Predicted class')\n",
    "\n",
    "precision = C[0,0] / (C[0,0] + C[1,0])\n",
    "recall = C[0][0] / (C[0,0] + C[0,1])\n",
    "\n",
    "print(precision, recall)"
   ]
  },
  {
   "cell_type": "markdown",
   "metadata": {},
   "source": [
    "Oh. Right. That means that only 13% of our predicted hotdogs are such, and that we only detect around 7% of all the hotdogs in the dataset.\n",
    "\n",
    "That illustrates a very important idea to keep in mind: choose the right metrics! Specially in unbalanced datasets, accuracy can be really really important. We are fitting on binary cross entropy, but it will naturally focus on getting right the most common class. For that, fit_generator provides a `class_weight` parameter that allows us to artificially give more importance to underrepresented or specially important classes. Let's try it:"
   ]
  },
  {
   "cell_type": "code",
   "execution_count": 7,
   "metadata": {},
   "outputs": [
    {
     "name": "stdout",
     "output_type": "stream",
     "text": [
      "Epoch 1/7\n",
      "30/30 [==============================] - 13s 421ms/step - loss: 0.7446 - acc: 0.8350 - val_loss: 0.5195 - val_acc: 0.6994\n",
      "Epoch 2/7\n",
      "30/30 [==============================] - 10s 318ms/step - loss: 0.5681 - acc: 0.8487 - val_loss: 0.3138 - val_acc: 0.8482\n",
      "Epoch 3/7\n",
      "30/30 [==============================] - 9s 317ms/step - loss: 0.5557 - acc: 0.8487 - val_loss: 0.3275 - val_acc: 0.8391\n",
      "Epoch 4/7\n",
      "30/30 [==============================] - 11s 380ms/step - loss: 0.5427 - acc: 0.8437 - val_loss: 0.3274 - val_acc: 0.8462\n",
      "Epoch 5/7\n",
      "30/30 [==============================] - 9s 316ms/step - loss: 0.5486 - acc: 0.8494 - val_loss: 0.3668 - val_acc: 0.8229\n",
      "Epoch 6/7\n",
      "30/30 [==============================] - 10s 321ms/step - loss: 0.4306 - acc: 0.8857 - val_loss: 0.3102 - val_acc: 0.8715\n",
      "Epoch 7/7\n",
      "30/30 [==============================] - 10s 323ms/step - loss: 0.4011 - acc: 0.8907 - val_loss: 0.2813 - val_acc: 0.8765\n"
     ]
    }
   ],
   "source": [
    "from keras.optimizers import Adam\n",
    "\n",
    "my_first_cnn.compile(loss='binary_crossentropy',\n",
    "                     optimizer=Adam(lr=1e-3),\n",
    "                     metrics=['acc'])\n",
    "\n",
    "history = my_first_cnn.fit_generator(train_generator,\n",
    "                                     class_weight = {0: 7, 1: 1},\n",
    "                                     steps_per_epoch=30,\n",
    "                                     epochs=7,\n",
    "                                     validation_data=validation_generator,\n",
    "                                     validation_steps=10)"
   ]
  },
  {
   "cell_type": "markdown",
   "metadata": {},
   "source": [
    "This time the confusion matrix is this one:"
   ]
  },
  {
   "cell_type": "code",
   "execution_count": 8,
   "metadata": {},
   "outputs": [
    {
     "name": "stdout",
     "output_type": "stream",
     "text": [
      "0.132978723404 0.219298245614\n"
     ]
    },
    {
     "data": {
      "image/png": "[encoded data removed]",
      "text/plain": [
       "<matplotlib.figure.Figure at 0x7f0d9c074c88>"
      ]
     },
     "metadata": {},
     "output_type": "display_data"
    }
   ],
   "source": [
    "predictions = my_first_cnn.predict_generator(validation_generator)\n",
    "\n",
    "C = confusion_matrix(validation_generator.classes, predictions > .5)\n",
    "ax = sns.heatmap(C, annot=True, square=True)\n",
    "ax.set_ylabel('True class')\n",
    "ax.set_xlabel('Predicted class')\n",
    "\n",
    "precision = C[0,0] / (C[0,0] + C[1,0])\n",
    "recall = C[0][0] / (C[0,0] + C[0,1])\n",
    "\n",
    "print(precision, recall)"
   ]
  },
  {
   "cell_type": "markdown",
   "metadata": {},
   "source": [
    "Much better! This won't blow Jian-Yang away, but it's a start. Consider that before this morning, you had no idea how to code a program to have some perception of the real world. Now you can!\n",
    "\n",
    "Anyway, we have a classifier. It's not great, but I'm sure it can get better. Let's train it a bit more, shall we?"
   ]
  },
  {
   "cell_type": "code",
   "execution_count": 9,
   "metadata": {},
   "outputs": [
    {
     "name": "stdout",
     "output_type": "stream",
     "text": [
      "Epoch 1/10\n",
      "30/30 [==============================] - 13s 426ms/step - loss: 0.1647 - acc: 0.9231 - val_loss: 0.2063 - val_acc: 0.9221\n",
      "Epoch 2/10\n",
      "30/30 [==============================] - 10s 319ms/step - loss: 0.1512 - acc: 0.9335 - val_loss: 0.2350 - val_acc: 0.9069\n",
      "Epoch 3/10\n",
      "30/30 [==============================] - 9s 310ms/step - loss: 0.1444 - acc: 0.9390 - val_loss: 0.2280 - val_acc: 0.9038\n",
      "Epoch 4/10\n",
      "30/30 [==============================] - 11s 367ms/step - loss: 0.1249 - acc: 0.9505 - val_loss: 0.2190 - val_acc: 0.9130\n",
      "Epoch 5/10\n",
      "30/30 [==============================] - 9s 312ms/step - loss: 0.1403 - acc: 0.9460 - val_loss: 0.2120 - val_acc: 0.9150\n",
      "Epoch 6/10\n",
      "30/30 [==============================] - 9s 316ms/step - loss: 0.1040 - acc: 0.9583 - val_loss: 0.2251 - val_acc: 0.9099\n",
      "Epoch 7/10\n",
      "30/30 [==============================] - 9s 315ms/step - loss: 0.1166 - acc: 0.9524 - val_loss: 0.2370 - val_acc: 0.9059\n",
      "Epoch 8/10\n",
      "30/30 [==============================] - 10s 317ms/step - loss: 0.0954 - acc: 0.9670 - val_loss: 0.2335 - val_acc: 0.9150\n",
      "Epoch 9/10\n",
      "30/30 [==============================] - 9s 316ms/step - loss: 0.0888 - acc: 0.9668 - val_loss: 0.2281 - val_acc: 0.9109\n",
      "Epoch 10/10\n",
      "30/30 [==============================] - 10s 320ms/step - loss: 0.0720 - acc: 0.9750 - val_loss: 0.2635 - val_acc: 0.9119\n"
     ]
    }
   ],
   "source": [
    "from keras.optimizers import Adam\n",
    "\n",
    "my_first_cnn.compile(loss='binary_crossentropy',\n",
    "                     optimizer=Adam(lr=1e-3),\n",
    "                     metrics=['acc'])\n",
    "\n",
    "history_pt2 = my_first_cnn.fit_generator(train_generator,\n",
    "                                         steps_per_epoch=30,\n",
    "                                         epochs=10,\n",
    "                                         validation_data=validation_generator,\n",
    "                                         validation_steps=10,\n",
    "                                         verbose=1)"
   ]
  },
  {
   "cell_type": "markdown",
   "metadata": {},
   "source": [
    "What's happening here? We are seeing a typical case of overfitting. Our training loss is improving really fast, but at the same time the validation loss increases in each epoc. The network is learning the specific details of the training set, which don't generalize all that well to the samples in the validation set. "
   ]
  },
  {
   "cell_type": "code",
   "execution_count": 10,
   "metadata": {},
   "outputs": [
    {
     "data": {
      "text/plain": [
       "<matplotlib.legend.Legend at 0x7f0d4c608940>"
      ]
     },
     "execution_count": 10,
     "metadata": {},
     "output_type": "execute_result"
    },
    {
     "data": {
      "image/png": "[encoded data removed]",
      "text/plain": [
       "<matplotlib.figure.Figure at 0x7f0d4ce923c8>"
      ]
     },
     "metadata": {},
     "output_type": "display_data"
    }
   ],
   "source": [
    "import matplotlib.pyplot as plt\n",
    "\n",
    "f, axes = plt.subplots(2,1)\n",
    "\n",
    "f.set_size_inches(8,8)\n",
    "\n",
    "nb_epochs = len(history.epoch)\n",
    "concatenated = history.epoch + [nb_epochs + epoch_number for epoch_number in history_pt2.epoch]\n",
    "\n",
    "axes[0].plot(concatenated, history.history['loss'] + history_pt2.history['loss'], label='loss')\n",
    "axes[0].plot(concatenated, history.history['val_loss'] + history_pt2.history['val_loss'], label='val_loss')\n",
    "axes[0].legend()\n",
    "\n",
    "axes[1].plot(concatenated, history.history['acc'] + history_pt2.history['acc'], label='acc')\n",
    "axes[1].plot(concatenated, history.history['val_acc'] + history_pt2.history['val_acc'], label='val_acc')\n",
    "axes[1].legend()"
   ]
  },
  {
   "cell_type": "markdown",
   "metadata": {},
   "source": [
    "This is the tightrope act that we must make all the time when practising Machine Learning: the [bias-variance tradeoff]. In short, that refers to the trade-off between flexibility and generality of the models. A sufficiently flexible (read: complicated) model will always be able to learn non-relevant details of the input dataset (to overfit), and Neural Networks are nothing if not complicated: notice above where we built our simple CNN: it has over $10^6$ parameters! That's over a million knobs to tweak.\n",
    "\n",
    "Overfitting means we have high variance: different samples will lead to very different estimations of the parameters. That will manifest as higher validation loss than training loss, as we see here from about epoch 8.\n",
    "\n",
    "The solutions are simple but varied, and we need to keep many of them in our bag of tools for different occasions. Some are very general and some are pretty specific, but all of them fall under the heading of [regularization]. [This] is probably the best explanation of that that I've heard. In short, we want to penalize somehow the complexity of our models. That will in turn result in better generality.\n",
    "\n",
    "In our specific example, image recognition, there's one very intuitive way to make our model recognize more varied images of hotdogs: to feed it more varied images of hotdogs. Since we already collected as many as we could, what we can do is to _generate_ more varied images of hotdogs.\n",
    "\n",
    "[bias-variance tradeoff]: https://en.wikipedia.org/wiki/Bias%E2%80%93variance_tradeoff\n",
    "[regularization]: https://en.wikipedia.org/wiki/Regularization_(mathematics)#Generalization\n",
    "[This]: https://www.coursera.org/lecture/machine-learning/regularization-and-bias-variance-4VDlf"
   ]
  }
 ],
 "metadata": {
  "kernelspec": {
   "display_name": "Python 3",
   "language": "python",
   "name": "python3"
  },
  "language_info": {
   "codemirror_mode": {
    "name": "ipython",
    "version": 3
   },
   "file_extension": ".py",
   "mimetype": "text/x-python",
   "name": "python",
   "nbconvert_exporter": "python",
   "pygments_lexer": "ipython3",
   "version": "3.6.4"
  }
 },
 "nbformat": 4,
 "nbformat_minor": 2
}
