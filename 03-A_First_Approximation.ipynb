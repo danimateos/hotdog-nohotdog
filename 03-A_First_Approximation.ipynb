{
 "cells": [
  {
   "cell_type": "markdown",
   "metadata": {},
   "source": [
    "# My First Hotdog detector\n",
    "\n",
    "--talk about Keras and CNNs--"
   ]
  },
  {
   "cell_type": "code",
   "execution_count": 1,
   "metadata": {},
   "outputs": [
    {
     "name": "stderr",
     "output_type": "stream",
     "text": [
      "Using TensorFlow backend.\n"
     ]
    }
   ],
   "source": [
    "import keras\n",
    "from keras import backend as K"
   ]
  },
  {
   "cell_type": "markdown",
   "metadata": {},
   "source": [
    "We are going to learn some hotdogs! The basic tool we are going to use is a Convolutional Neural Network (CNN). CNNs have revolutionized computer vision in the last few years"
   ]
  },
  {
   "cell_type": "code",
   "execution_count": 2,
   "metadata": {},
   "outputs": [
    {
     "name": "stdout",
     "output_type": "stream",
     "text": [
      "_________________________________________________________________\n",
      "Layer (type)                 Output Shape              Param #   \n",
      "=================================================================\n",
      "conv2d_1 (Conv2D)            (None, 70, 70, 32)        896       \n",
      "_________________________________________________________________\n",
      "max_pooling2d_1 (MaxPooling2 (None, 35, 35, 32)        0         \n",
      "_________________________________________________________________\n",
      "conv2d_2 (Conv2D)            (None, 33, 33, 32)        9248      \n",
      "_________________________________________________________________\n",
      "max_pooling2d_2 (MaxPooling2 (None, 16, 16, 32)        0         \n",
      "_________________________________________________________________\n",
      "flatten_1 (Flatten)          (None, 8192)              0         \n",
      "_________________________________________________________________\n",
      "dense_1 (Dense)              (None, 64)                524352    \n",
      "_________________________________________________________________\n",
      "dense_2 (Dense)              (None, 1)                 65        \n",
      "=================================================================\n",
      "Total params: 534,561\n",
      "Trainable params: 534,561\n",
      "Non-trainable params: 0\n",
      "_________________________________________________________________\n"
     ]
    }
   ],
   "source": [
    "from keras.layers import Conv2D, MaxPooling2D, InputLayer, Flatten, Dense\n",
    "\n",
    "my_first_cnn = keras.Sequential()\n",
    "my_first_cnn.add(Conv2D(32, (3, 3), activation='relu', input_shape=(72, 72, 3)))\n",
    "my_first_cnn.add(MaxPooling2D((2,2)))\n",
    "my_first_cnn.add(Conv2D(32, (3, 3), activation='relu'))\n",
    "my_first_cnn.add(MaxPooling2D((2,2)))\n",
    "my_first_cnn.add(Flatten())\n",
    "my_first_cnn.add(Dense(64, activation='relu'))\n",
    "my_first_cnn.add(Dense(1, activation='sigmoid'))\n",
    "\n",
    "my_first_cnn.summary()"
   ]
  },
  {
   "cell_type": "code",
   "execution_count": 3,
   "metadata": {},
   "outputs": [
    {
     "name": "stdout",
     "output_type": "stream",
     "text": [
      "Found 4765 images belonging to 2 classes.\n",
      "Found 888 images belonging to 2 classes.\n"
     ]
    }
   ],
   "source": [
    "from keras.preprocessing.image import ImageDataGenerator\n",
    "import os\n",
    "\n",
    "base_dir = 'data/'\n",
    "\n",
    "train_dir = os.path.join(base_dir, 'train')\n",
    "validation_dir = os.path.join(base_dir, 'validation')\n",
    "\n",
    "train_datagen = ImageDataGenerator(rescale=1 / 255)\n",
    "test_datagen = ImageDataGenerator(rescale=1 / 255)\n",
    "\n",
    "train_generator = train_datagen.flow_from_directory(train_dir, \n",
    "                                                    target_size=(72,72),\n",
    "                                                    batch_size=100,\n",
    "                                                    class_mode='binary')\n",
    "\n",
    "validation_generator = test_datagen.flow_from_directory(validation_dir,\n",
    "                                                        target_size=(72,72),\n",
    "                                                        batch_size=100,\n",
    "                                                        class_mode='binary')"
   ]
  },
  {
   "cell_type": "code",
   "execution_count": 4,
   "metadata": {},
   "outputs": [
    {
     "name": "stdout",
     "output_type": "stream",
     "text": [
      "Epoch 1/7\n",
      "30/30 [==============================] - 19s 644ms/step - loss: 0.3603 - acc: 0.8821 - val_loss: 0.3115 - val_acc: 0.8664\n",
      "Epoch 2/7\n",
      "30/30 [==============================] - 16s 528ms/step - loss: 0.2876 - acc: 0.8644 - val_loss: 0.2615 - val_acc: 0.8684\n",
      "Epoch 3/7\n",
      "30/30 [==============================] - 14s 483ms/step - loss: 0.2572 - acc: 0.8740 - val_loss: 0.2496 - val_acc: 0.8704\n",
      "Epoch 4/7\n",
      "30/30 [==============================] - 19s 618ms/step - loss: 0.2356 - acc: 0.8783 - val_loss: 0.2449 - val_acc: 0.8704\n",
      "Epoch 5/7\n",
      "30/30 [==============================] - 16s 538ms/step - loss: 0.2405 - acc: 0.8811 - val_loss: 0.2409 - val_acc: 0.8816\n",
      "Epoch 6/7\n",
      "30/30 [==============================] - 13s 446ms/step - loss: 0.2163 - acc: 0.8937 - val_loss: 0.2278 - val_acc: 0.8877\n",
      "Epoch 7/7\n",
      "30/30 [==============================] - 15s 514ms/step - loss: 0.1978 - acc: 0.9050 - val_loss: 0.2344 - val_acc: 0.8937\n"
     ]
    }
   ],
   "source": [
    "from keras.optimizers import Adam\n",
    "\n",
    "my_first_cnn.compile(loss='binary_crossentropy',\n",
    "                     optimizer=Adam(lr=1e-3),\n",
    "                     metrics=['acc'])\n",
    "\n",
    "history = my_first_cnn.fit_generator(train_generator,\n",
    "                                     steps_per_epoch=30,\n",
    "                                     epochs=7,\n",
    "                                     validation_data=validation_generator,\n",
    "                                     validation_steps=10)"
   ]
  },
  {
   "cell_type": "markdown",
   "metadata": {},
   "source": [
    "Magic! In only a few seconds, we are getting classifier with close to 90% accuracy!\n",
    "\n",
    "Now that I come to think of it, we have XXXX hotdog images and XXXX nohotdog images, so a lazy classifier that assigns everything a 'nothotdog' label would get around 87% accuracy. Let's check if that's the case."
   ]
  },
  {
   "cell_type": "markdown",
   "metadata": {},
   "source": [
    "### TODO: confusion matrix"
   ]
  },
  {
   "cell_type": "markdown",
   "metadata": {},
   "source": [
    "Anyway, we have a sweet classifier. But I'm sure it can get better. Let's train it a bit more, shall we?"
   ]
  },
  {
   "cell_type": "code",
   "execution_count": 5,
   "metadata": {
    "collapsed": true
   },
   "outputs": [
    {
     "name": "stdout",
     "output_type": "stream",
     "text": [
      "Epoch 1/10\n",
      "30/30 [==============================] - 18s 608ms/step - loss: 0.2008 - acc: 0.9028 - val_loss: 0.2412 - val_acc: 0.8927\n",
      "Epoch 2/10\n",
      "30/30 [==============================] - 13s 438ms/step - loss: 0.1889 - acc: 0.9097 - val_loss: 0.2272 - val_acc: 0.9028\n",
      "Epoch 3/10\n",
      "30/30 [==============================] - 13s 443ms/step - loss: 0.1781 - acc: 0.9190 - val_loss: 0.2547 - val_acc: 0.8988\n",
      "Epoch 4/10\n",
      "30/30 [==============================] - 16s 519ms/step - loss: 0.1892 - acc: 0.9082 - val_loss: 0.2224 - val_acc: 0.9028\n",
      "Epoch 5/10\n",
      "30/30 [==============================] - 13s 441ms/step - loss: 0.1621 - acc: 0.9333 - val_loss: 0.2515 - val_acc: 0.9008\n",
      "Epoch 6/10\n",
      "30/30 [==============================] - 13s 444ms/step - loss: 0.1548 - acc: 0.9277 - val_loss: 0.2262 - val_acc: 0.9211\n",
      "Epoch 7/10\n",
      "30/30 [==============================] - 15s 516ms/step - loss: 0.1411 - acc: 0.9356 - val_loss: 0.2271 - val_acc: 0.9221\n",
      "Epoch 8/10\n",
      "30/30 [==============================] - 13s 449ms/step - loss: 0.1432 - acc: 0.9393 - val_loss: 0.2264 - val_acc: 0.9160\n",
      "Epoch 9/10\n",
      "30/30 [==============================] - 14s 452ms/step - loss: 0.1254 - acc: 0.9490 - val_loss: 0.2334 - val_acc: 0.9079\n",
      "Epoch 10/10\n",
      "30/30 [==============================] - 14s 451ms/step - loss: 0.1456 - acc: 0.9433 - val_loss: 0.2422 - val_acc: 0.8968\n"
     ]
    }
   ],
   "source": [
    "from keras.optimizers import Adam\n",
    "\n",
    "my_first_cnn.compile(loss='binary_crossentropy',\n",
    "                     optimizer=Adam(lr=1e-3),\n",
    "                     metrics=['acc'])\n",
    "\n",
    "history_pt2 = my_first_cnn.fit_generator(train_generator,\n",
    "                                         steps_per_epoch=30,\n",
    "                                         epochs=10,\n",
    "                                         validation_data=validation_generator,\n",
    "                                         validation_steps=10,\n",
    "                                         verbose=1)"
   ]
  },
  {
   "cell_type": "markdown",
   "metadata": {},
   "source": [
    "What's happening here? We are seeing a typical case of overfitting. Our training loss is improving really fast, but at the same time the validation loss increases in each epoc. The network is learning the specific details of the training set, which don't generalize all that well to the samples in the validation set. "
   ]
  },
  {
   "cell_type": "code",
   "execution_count": 6,
   "metadata": {},
   "outputs": [
    {
     "data": {
      "text/plain": [
       "<matplotlib.legend.Legend at 0x7ff917acc5c0>"
      ]
     },
     "execution_count": 6,
     "metadata": {},
     "output_type": "execute_result"
    },
    {
     "data": {
      "image/png": "[encoded data removed]",
      "text/plain": [
       "<Figure size 576x576 with 2 Axes>"
      ]
     },
     "metadata": {},
     "output_type": "display_data"
    }
   ],
   "source": [
    "import matplotlib.pyplot as plt\n",
    "%matplotlib inline\n",
    "\n",
    "f, axes = plt.subplots(2,1)\n",
    "\n",
    "f.set_size_inches(8,8)\n",
    "\n",
    "nb_epochs = len(history.epoch)\n",
    "concatenated = history.epoch + [nb_epochs + epoch_number for epoch_number in history_pt2.epoch]\n",
    "\n",
    "axes[0].plot(concatenated, history.history['loss'] + history_pt2.history['loss'], label='loss')\n",
    "axes[0].plot(concatenated, history.history['val_loss'] + history_pt2.history['val_loss'], label='val_loss')\n",
    "axes[0].legend()\n",
    "\n",
    "axes[1].plot(concatenated, history.history['acc'] + history_pt2.history['acc'], label='acc')\n",
    "axes[1].plot(concatenated, history.history['val_acc'] + history_pt2.history['val_acc'], label='val_acc')\n",
    "axes[1].legend()"
   ]
  },
  {
   "cell_type": "markdown",
   "metadata": {},
   "source": [
    "This is the tightrope act that we must make all the time when practising Machine Learning: the [bias-variance tradeoff]. In short, that refers to the trade-off between flexibility and generality of the models. A sufficiently flexible (read: complicated) model will always be able to learn non-relevant details of the input dataset (to overfit), and Neural Networks are nothing if not complicated: notice above where we built our simple CNN: it has over $10^6$ parameters! That's over a million knobs to tweak.\n",
    "\n",
    "Overfitting means we have high variance: different samples will lead to very different estimations of the parameters. That will manifest as higher validation loss than training loss, as we see here from about epoch 8.\n",
    "\n",
    "The solutions are simple but varied, and we need to keep many of them in our bag of tools for different occasions. Some are very general and some are pretty specific, but all of them fall under the heading of [regularization]. [This] is probably the best explanation of that that I've heard. In short, we want to penalize somehow the complexity of our models. That will in turn result in better generality.\n",
    "\n",
    "In our specific example, image recognition, there's one very intuitive way to make our model recognize more varied images of hotdogs: to feed it more varied images of hotdogs. Since we already collected as many as we could, what we can do is to _generate_ more varied images of hotdogs.\n",
    "\n",
    "[bias-variance tradeoff]: https://en.wikipedia.org/wiki/Bias%E2%80%93variance_tradeoff\n",
    "[regularization]: https://en.wikipedia.org/wiki/Regularization_(mathematics)#Generalization\n",
    "[This]: https://www.coursera.org/lecture/machine-learning/regularization-and-bias-variance-4VDlf"
   ]
  },
  {
   "cell_type": "code",
   "execution_count": null,
   "metadata": {},
   "outputs": [],
   "source": []
  },
  {
   "cell_type": "markdown",
   "metadata": {},
   "source": [
    "### Notes\n",
    "\n",
    "decreasing learning rate during training: \n",
    "\n",
    "```\n",
    "K.set_value(model.optimizer.lr, 0.001)\n",
    "model(X,y,nb_epoch=50)\n",
    "```"
   ]
  },
  {
   "cell_type": "markdown",
   "metadata": {},
   "source": [
    "### TODOs\n",
    "\n",
    "Try different image sizes: with 120x120 I got to around 86% accuracy before overfititng. Interestigly, with 72x72 it only a bit lower, around 85%.\n",
    "\n",
    "Examine the predictions: the most wrong, the most right, etc.\n",
    "\n",
    "SGD with restarts, maybe with Learning Rate Scheduler?"
   ]
  },
  {
   "cell_type": "markdown",
   "metadata": {},
   "source": [
    "### Obsolete\n",
    "\n",
    "In my case, the first few times I tried to train this network, it was not learning anything at all - its predictions were no better than chance. Only when I added a second Dense layer in order to make it be able to fit anything at all did I get any useful results at all."
   ]
  }
 ],
 "metadata": {
  "kernelspec": {
   "display_name": "Python 3",
   "language": "python",
   "name": "python3"
  },
  "language_info": {
   "codemirror_mode": {
    "name": "ipython",
    "version": 3
   },
   "file_extension": ".py",
   "mimetype": "text/x-python",
   "name": "python",
   "nbconvert_exporter": "python",
   "pygments_lexer": "ipython3",
   "version": "3.6.4"
  }
 },
 "nbformat": 4,
 "nbformat_minor": 2
}
