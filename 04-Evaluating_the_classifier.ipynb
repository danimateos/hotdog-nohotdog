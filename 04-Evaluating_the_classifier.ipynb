{
 "cells": [
  {
   "cell_type": "markdown",
   "metadata": {
    "colab_type": "text",
    "id": "9O1ePISmA0oX"
   },
   "source": [
    "# First looks can be deceiving\n",
    "\n",
    "\n",
    "Hi there! Welcome back! This is part 4 of a series on Deep Learning for image classification. In the three previous installments we learnt about [imagenet and deep learning], [the train-test split], and trained a [first classifier] than can tell hotdogs from nothotdogs with near 90% accuracy. \n",
    "\n",
    "\n",
    "But wait! Now that I come to think of it, we have 120 hotdog images and 794 nohotdog images in our validation set, so a lazy classifier that assigns everything a 'nothotdog' label would get around 87% accuracy. Let's check if that's the case.\n",
    "\n",
    "[imagenet and deep learning]: http://mateos.io/blog/getting-some-hotdogs/\n",
    "[the train-test split]: http://mateos.io/blog/train-test-split/\n",
    "[first classifier]: TODO link to third part of the series."
   ]
  },
  {
   "cell_type": "markdown",
   "metadata": {
    "colab_type": "text",
    "id": "R7-XabyPA0ob"
   },
   "source": [
    "# Recap \n",
    "\n",
    "On the previous installment, we trained a first Convolutional Neural Network. In order to get to the same state, we need to either a) rerun the code in the same environment, or b) reload previously saved variables. In the interest of a self-contained tutorial, I'm just going to provide here the code to replicate the state we had at the end [last time]. If you want to understand this code, there is a lot of explanation there.\n",
    "\n",
    "[previous installment]: TODO link to third part of the series.\n",
    "[last time]:  TODO link to third part of the series."
   ]
  },
  {
   "cell_type": "code",
   "execution_count": 1,
   "metadata": {
    "colab": {
     "base_uri": "https://localhost:8080/",
     "height": 631
    },
    "colab_type": "code",
    "id": "z3Z9QOpnA0oc",
    "outputId": "676d8f96-beaf-4486-8e1d-e4c848296563",
    "scrolled": true
   },
   "outputs": [
    {
     "name": "stderr",
     "output_type": "stream",
     "text": [
      "Using TensorFlow backend.\n"
     ]
    },
    {
     "name": "stdout",
     "output_type": "stream",
     "text": [
      "total 12K\n",
      "drwxrwxr-x 4 root root 4.0K Jun 27  2018 test\n",
      "drwxrwxr-x 4 root root 4.0K Jun 27  2018 train\n",
      "drwxrwxr-x 4 root root 4.0K Jun 27  2018 validation\n",
      "WARNING:tensorflow:From /usr/local/lib/python3.6/dist-packages/tensorflow/python/framework/op_def_library.py:263: colocate_with (from tensorflow.python.framework.ops) is deprecated and will be removed in a future version.\n",
      "Instructions for updating:\n",
      "Colocations handled automatically by placer.\n",
      "Found 4765 images belonging to 2 classes.\n",
      "Found 888 images belonging to 2 classes.\n",
      "WARNING:tensorflow:From /usr/local/lib/python3.6/dist-packages/tensorflow/python/ops/math_ops.py:3066: to_int32 (from tensorflow.python.ops.math_ops) is deprecated and will be removed in a future version.\n",
      "Instructions for updating:\n",
      "Use tf.cast instead.\n",
      "Epoch 1/10\n",
      "30/30 [==============================] - 24s 793ms/step - loss: 0.5728 - acc: 0.8663 - val_loss: 0.3333 - val_acc: 0.8725\n",
      "Epoch 2/10\n",
      "30/30 [==============================] - 21s 711ms/step - loss: 0.2950 - acc: 0.8821 - val_loss: 0.3028 - val_acc: 0.8664\n",
      "Epoch 3/10\n",
      "30/30 [==============================] - 20s 674ms/step - loss: 0.2935 - acc: 0.8750 - val_loss: 0.2783 - val_acc: 0.8846\n",
      "Epoch 4/10\n",
      "30/30 [==============================] - 20s 682ms/step - loss: 0.2506 - acc: 0.8884 - val_loss: 0.2361 - val_acc: 0.9038\n",
      "Epoch 5/10\n",
      "30/30 [==============================] - 21s 689ms/step - loss: 0.2473 - acc: 0.8924 - val_loss: 0.2614 - val_acc: 0.8907\n",
      "Epoch 6/10\n",
      "30/30 [==============================] - 21s 696ms/step - loss: 0.2324 - acc: 0.8993 - val_loss: 0.2382 - val_acc: 0.8947\n",
      "Epoch 7/10\n",
      "30/30 [==============================] - 21s 695ms/step - loss: 0.2160 - acc: 0.9041 - val_loss: 0.2446 - val_acc: 0.8947\n",
      "Epoch 8/10\n",
      "30/30 [==============================] - 20s 665ms/step - loss: 0.2117 - acc: 0.9024 - val_loss: 0.2217 - val_acc: 0.9160\n",
      "Epoch 9/10\n",
      "30/30 [==============================] - 19s 631ms/step - loss: 0.1828 - acc: 0.9140 - val_loss: 0.2397 - val_acc: 0.9006\n",
      "Epoch 10/10\n",
      "30/30 [==============================] - 18s 603ms/step - loss: 0.1930 - acc: 0.9149 - val_loss: 0.2374 - val_acc: 0.9008\n"
     ]
    }
   ],
   "source": [
    "# Import \n",
    "import keras\n",
    "from keras import backend as K\n",
    "from keras.layers import Conv2D, MaxPooling2D, InputLayer, Flatten, Dense\n",
    "from keras.optimizers import Adam\n",
    "from keras.preprocessing.image import ImageDataGenerator\n",
    "import os\n",
    "\n",
    "# Download the data\n",
    "!wget -q \"https://www.dropbox.com/s/dhpekpce05iev6a/data_v2.zip?dl=0\" -O data.zip\n",
    "!rm -rf data/\n",
    "!unzip -oq data.zip\n",
    "!ls -lh data\n",
    "\n",
    "# Design the net\n",
    "my_first_cnn = keras.Sequential()\n",
    "my_first_cnn.add(Conv2D(32, (3, 3), activation='relu', input_shape=(120, 120, 3)))\n",
    "my_first_cnn.add(MaxPooling2D((2,2)))\n",
    "my_first_cnn.add(Conv2D(32, (3, 3), activation='relu'))\n",
    "my_first_cnn.add(MaxPooling2D((2,2)))\n",
    "my_first_cnn.add(Flatten())\n",
    "my_first_cnn.add(Dense(64, activation='relu'))\n",
    "my_first_cnn.add(Dense(1, activation='sigmoid'))\n",
    "\n",
    "# Data generators\n",
    "base_dir = 'data//'\n",
    "train_dir = os.path.join(base_dir, 'train')\n",
    "validation_dir = os.path.join(base_dir, 'validation')\n",
    "train_datagen = ImageDataGenerator(rescale=1 / 255)\n",
    "test_datagen = ImageDataGenerator(rescale=1 / 255)\n",
    "train_generator = train_datagen.flow_from_directory(train_dir, \n",
    "                                                    target_size=(120,120),\n",
    "                                                    batch_size=100,\n",
    "                                                    class_mode='binary')\n",
    "validation_generator = test_datagen.flow_from_directory(validation_dir,\n",
    "                                                        target_size=(120,120),\n",
    "                                                        batch_size=100,\n",
    "                                                        class_mode='binary')\n",
    "\n",
    "# Compile and train\n",
    "my_first_cnn.compile(loss='binary_crossentropy',\n",
    "                     optimizer=Adam(lr=1e-3),\n",
    "                     metrics=['acc'])\n",
    "\n",
    "history = my_first_cnn.fit_generator(train_generator,\n",
    "                                     steps_per_epoch=30,\n",
    "                                     epochs=10,\n",
    "                                     validation_data=validation_generator,\n",
    "                                     validation_steps=10)\n",
    "\n",
    "# Save the model. If you did this last time, you could skip the training and do:\n",
    "# from keras.models import load_model\n",
    "# my_first_cnn = load_model('my_first_cnn.h5')\n",
    "my_first_cnn.save('my_first_cnn.h5')"
   ]
  },
  {
   "cell_type": "markdown",
   "metadata": {
    "colab_type": "text",
    "id": "v5MZHUrtA0oi"
   },
   "source": [
    "# Measuring performance\n",
    "\n",
    "We are now ready to look deeper into the performance of our classifier."
   ]
  },
  {
   "cell_type": "markdown",
   "metadata": {
    "colab_type": "text",
    "id": "q9L2WFd-A0ok"
   },
   "source": [
    "### Confusion matrix, precision and recall\n",
    "\n",
    "The confusion matrix is a basic conceptual tool in binary classification. It's just a matrix such that rows represent true classes and columns represent predicted classes. \n",
    "\n",
    "Keras has assigned the label 0 to our hotdog class, which we consider positive, and 1 to our nothotdog class, which we consider negative. Therefore, in our binary classification setting we will have true positives top left, true negatives bottom right, false positives bottom left, and false negatives top right.\n",
    "\n",
    "Therefore, precision will be\n",
    "\n",
    "$$ precision = \\frac{true\\ positives}{predicted\\ positives} = \\frac{C_{0,0}}{C_{0,0} + C_{1,0}} $$\n",
    "\n",
    "and recall will be:\n",
    "\n",
    "$$ recall = \\frac{true\\ positives}{total\\ positives} = \\frac{C_{0,0}}{C_{0,0} + C_{0,1}}$$\n"
   ]
  },
  {
   "cell_type": "code",
   "execution_count": 2,
   "metadata": {
    "colab": {
     "base_uri": "https://localhost:8080/",
     "height": 71
    },
    "colab_type": "code",
    "id": "ArK543JMA0ok",
    "outputId": "22ffe607-1941-4c8f-81f2-fa8be867027e"
   },
   "outputs": [
    {
     "name": "stdout",
     "output_type": "stream",
     "text": [
      "Found 888 images belonging to 2 classes.\n",
      "CPU times: user 5.34 s, sys: 105 ms, total: 5.44 s\n",
      "Wall time: 4.95 s\n"
     ]
    }
   ],
   "source": [
    "%%time\n",
    "validation_generator_noshuffle = test_datagen.flow_from_directory(validation_dir,\n",
    "                                                        target_size=(120,120),\n",
    "                                                        batch_size=100,\n",
    "                                                        shuffle=False,                                                            \n",
    "                                                        class_mode='binary')\n",
    "\n",
    "validation_generator_noshuffle.reset()\n",
    "predictions = my_first_cnn.predict_generator(validation_generator_noshuffle, steps=9)\n",
    "\n",
    "predictions.shape"
   ]
  },
  {
   "cell_type": "code",
   "execution_count": 3,
   "metadata": {
    "colab": {
     "base_uri": "https://localhost:8080/",
     "height": 297
    },
    "colab_type": "code",
    "id": "rI7hrITBA0op",
    "outputId": "4ff23462-73cc-4ac6-93dc-fc716b4dc2ca"
   },
   "outputs": [
    {
     "name": "stdout",
     "output_type": "stream",
     "text": [
      "0.6818181818181818 0.5263157894736842\n"
     ]
    },
    {
     "data": {
      "image/png": "[encoded data removed]",
      "text/plain": [
       "<Figure size 432x288 with 2 Axes>"
      ]
     },
     "metadata": {
      "tags": []
     },
     "output_type": "display_data"
    }
   ],
   "source": [
    "from sklearn.metrics import confusion_matrix\n",
    "import seaborn as sns\n",
    "%matplotlib inline\n",
    "\n",
    "C = confusion_matrix(validation_generator_noshuffle.classes, predictions > .5)\n",
    "ax = sns.heatmap(C, annot=True, square=True)\n",
    "ax.set_ylabel('True class')\n",
    "ax.set_xlabel('Predicted class')\n",
    "\n",
    "precision = C[0,0] / (C[0,0] + C[1,0])\n",
    "recall = C[0][0] / (C[0,0] + C[0,1])\n",
    "\n",
    "print(precision, recall)"
   ]
  },
  {
   "cell_type": "markdown",
   "metadata": {
    "colab_type": "text",
    "id": "DX3icFvuA0ot"
   },
   "source": [
    "Oh. Right. That means that only 68.2% of our predicted hotdogs are such, and that we only detect around 52.6% of all the hotdogs in the dataset. That is, when our users get a \"hotdog\" prediction, the probability that they are pointing at a hotdog will be under 70%. Not awful, but definitely worse sounding than 90% accuracy. Moreover, the real problem is in the other metric, recall. That value means that when they point at a hotdog, the probability that the app recognizes it is only 52%! Not a great user experience. In short, our classifier is being way too cautious. It doesn't risk a \"hotdog\" prediction very often, and therefore it is not wrong very often. \n",
    "\n",
    "That illustrates a very important idea to keep in mind: choose the right metrics! Specially in unbalanced datasets, accuracy can be pretty misleading. We are fitting on binary cross entropy, which will naturally focus on getting right the most common class. In order to compensate for the fact that we have many more nothotdogs than hotdogs, `fit_generator` provides a `class_weight` parameter that allows us to artificially give more importance to underrepresented or specially important classes. Let's try it:"
   ]
  },
  {
   "cell_type": "code",
   "execution_count": 4,
   "metadata": {
    "colab": {
     "base_uri": "https://localhost:8080/",
     "height": 413
    },
    "colab_type": "code",
    "id": "_ENmOC8AA0ou",
    "outputId": "92194354-e884-46c7-909b-9d78c868bfbb"
   },
   "outputs": [
    {
     "name": "stdout",
     "output_type": "stream",
     "text": [
      "Epoch 1/10\n",
      "30/30 [==============================] - 20s 654ms/step - loss: 0.5548 - acc: 0.8560 - val_loss: 0.3427 - val_acc: 0.8543\n",
      "Epoch 2/10\n",
      "30/30 [==============================] - 19s 617ms/step - loss: 0.4314 - acc: 0.8891 - val_loss: 0.3274 - val_acc: 0.8654\n",
      "Epoch 3/10\n",
      "30/30 [==============================] - 18s 594ms/step - loss: 0.4156 - acc: 0.8941 - val_loss: 0.3274 - val_acc: 0.8664\n",
      "Epoch 4/10\n",
      "30/30 [==============================] - 18s 603ms/step - loss: 0.3210 - acc: 0.9103 - val_loss: 0.2864 - val_acc: 0.8846\n",
      "Epoch 5/10\n",
      "30/30 [==============================] - 19s 645ms/step - loss: 0.3397 - acc: 0.9089 - val_loss: 0.2929 - val_acc: 0.8715\n",
      "Epoch 6/10\n",
      "30/30 [==============================] - 20s 654ms/step - loss: 0.2801 - acc: 0.9217 - val_loss: 0.3418 - val_acc: 0.8535\n",
      "Epoch 7/10\n",
      "30/30 [==============================] - 19s 638ms/step - loss: 0.2595 - acc: 0.9333 - val_loss: 0.3745 - val_acc: 0.8472\n",
      "Epoch 8/10\n",
      "30/30 [==============================] - 19s 634ms/step - loss: 0.2212 - acc: 0.9386 - val_loss: 0.2701 - val_acc: 0.9079\n",
      "Epoch 9/10\n",
      "30/30 [==============================] - 18s 604ms/step - loss: 0.1928 - acc: 0.9503 - val_loss: 0.2928 - val_acc: 0.8907\n",
      "Epoch 10/10\n",
      "30/30 [==============================] - 19s 628ms/step - loss: 0.1729 - acc: 0.9575 - val_loss: 0.3411 - val_acc: 0.8947\n",
      "CPU times: user 4min 31s, sys: 7.91 s, total: 4min 39s\n",
      "Wall time: 3min 8s\n"
     ]
    }
   ],
   "source": [
    "%%time\n",
    "from keras.optimizers import Adam\n",
    "\n",
    "my_first_cnn.compile(loss='binary_crossentropy',\n",
    "                     optimizer=Adam(lr=1e-3),\n",
    "                     metrics=['acc'])\n",
    "\n",
    "history = my_first_cnn.fit_generator(train_generator,\n",
    "                                     class_weight = {0: 7, 1: 1},\n",
    "                                     steps_per_epoch=30,\n",
    "                                     epochs=10,\n",
    "                                     validation_data=validation_generator,\n",
    "                                     validation_steps=10)"
   ]
  },
  {
   "cell_type": "markdown",
   "metadata": {
    "colab_type": "text",
    "id": "tNiCyRfLA0oy"
   },
   "source": [
    "This time the confusion matrix is this one:"
   ]
  },
  {
   "cell_type": "code",
   "execution_count": 5,
   "metadata": {
    "colab": {
     "base_uri": "https://localhost:8080/",
     "height": 297
    },
    "colab_type": "code",
    "id": "R9ePwr_aA0oz",
    "outputId": "4168d36f-8bd3-4992-da53-9b80ce1b638a"
   },
   "outputs": [
    {
     "name": "stdout",
     "output_type": "stream",
     "text": [
      "0.5714285714285714 0.7368421052631579\n"
     ]
    },
    {
     "data": {
      "image/png": "[encoded data removed]",
      "text/plain": [
       "<Figure size 432x288 with 2 Axes>"
      ]
     },
     "metadata": {
      "tags": []
     },
     "output_type": "display_data"
    }
   ],
   "source": [
    "validation_generator_noshuffle.reset()\n",
    "predictions = my_first_cnn.predict_generator(validation_generator_noshuffle, steps=9)\n",
    "\n",
    "C = confusion_matrix(validation_generator_noshuffle.classes, predictions > .5)\n",
    "ax = sns.heatmap(C, annot=True, square=True)\n",
    "ax.set_ylabel('True class')\n",
    "ax.set_xlabel('Predicted class')\n",
    "\n",
    "precision = C[0,0] / (C[0,0] + C[1,0])\n",
    "recall = C[0][0] / (C[0,0] + C[0,1])\n",
    "\n",
    "print(precision, recall)"
   ]
  },
  {
   "cell_type": "markdown",
   "metadata": {
    "colab_type": "text",
    "id": "sw3BHw_SA0o3"
   },
   "source": [
    "Much better! This won't blow Jian-Yang away, but it's a a lot better, despite having worse accuracy. Consider that before this morning, you had no idea how to code a program to have some perception of the real world. Now you can!\n",
    "\n",
    "Anyway, we have a classifier. It's not great, but I'm sure it can get better. Let's train it a bit more, shall we?"
   ]
  },
  {
   "cell_type": "code",
   "execution_count": 6,
   "metadata": {
    "colab": {
     "base_uri": "https://localhost:8080/",
     "height": 773
    },
    "colab_type": "code",
    "id": "kjgjZW4xA0o4",
    "outputId": "0b8859e8-fe95-49a9-b758-eb5c567fbc9d"
   },
   "outputs": [
    {
     "name": "stdout",
     "output_type": "stream",
     "text": [
      "Epoch 1/20\n",
      "30/30 [==============================] - 21s 695ms/step - loss: 0.2010 - acc: 0.9458 - val_loss: 0.2855 - val_acc: 0.9038\n",
      "Epoch 2/20\n",
      "30/30 [==============================] - 20s 667ms/step - loss: 0.1412 - acc: 0.9640 - val_loss: 0.3392 - val_acc: 0.8947\n",
      "Epoch 3/20\n",
      "30/30 [==============================] - 19s 631ms/step - loss: 0.1366 - acc: 0.9660 - val_loss: 0.3653 - val_acc: 0.8801\n",
      "Epoch 4/20\n",
      "30/30 [==============================] - 19s 649ms/step - loss: 0.1380 - acc: 0.9651 - val_loss: 0.3499 - val_acc: 0.8998\n",
      "Epoch 5/20\n",
      "30/30 [==============================] - 19s 634ms/step - loss: 0.1279 - acc: 0.9697 - val_loss: 0.3525 - val_acc: 0.9008\n",
      "Epoch 6/20\n",
      "30/30 [==============================] - 18s 609ms/step - loss: 0.0691 - acc: 0.9843 - val_loss: 0.3608 - val_acc: 0.9109\n",
      "Epoch 7/20\n",
      "30/30 [==============================] - 20s 657ms/step - loss: 0.0847 - acc: 0.9823 - val_loss: 0.3751 - val_acc: 0.9099\n",
      "Epoch 8/20\n",
      "30/30 [==============================] - 20s 677ms/step - loss: 0.0630 - acc: 0.9877 - val_loss: 0.4126 - val_acc: 0.8947\n",
      "Epoch 9/20\n",
      "30/30 [==============================] - 19s 629ms/step - loss: 0.0757 - acc: 0.9838 - val_loss: 0.4083 - val_acc: 0.9109\n",
      "Epoch 10/20\n",
      "30/30 [==============================] - 19s 633ms/step - loss: 0.0627 - acc: 0.9897 - val_loss: 0.4206 - val_acc: 0.8957\n",
      "Epoch 11/20\n",
      "30/30 [==============================] - 19s 641ms/step - loss: 0.0883 - acc: 0.9766 - val_loss: 0.4444 - val_acc: 0.8897\n",
      "Epoch 12/20\n",
      "30/30 [==============================] - 19s 629ms/step - loss: 0.0587 - acc: 0.9885 - val_loss: 0.4619 - val_acc: 0.8863\n",
      "Epoch 13/20\n",
      "30/30 [==============================] - 19s 637ms/step - loss: 0.0697 - acc: 0.9827 - val_loss: 0.5349 - val_acc: 0.8502\n",
      "Epoch 14/20\n",
      "30/30 [==============================] - 20s 673ms/step - loss: 0.0553 - acc: 0.9875 - val_loss: 0.4663 - val_acc: 0.8957\n",
      "Epoch 15/20\n",
      "30/30 [==============================] - 20s 659ms/step - loss: 0.1078 - acc: 0.9763 - val_loss: 0.4884 - val_acc: 0.8330\n",
      "Epoch 16/20\n",
      "30/30 [==============================] - 19s 629ms/step - loss: 0.1143 - acc: 0.9726 - val_loss: 0.4679 - val_acc: 0.8785\n",
      "Epoch 17/20\n",
      "30/30 [==============================] - 18s 615ms/step - loss: 0.0633 - acc: 0.9880 - val_loss: 0.4707 - val_acc: 0.8725\n",
      "Epoch 18/20\n",
      "30/30 [==============================] - 19s 638ms/step - loss: 0.0387 - acc: 0.9903 - val_loss: 0.4552 - val_acc: 0.9008\n",
      "Epoch 19/20\n",
      "30/30 [==============================] - 19s 621ms/step - loss: 0.0237 - acc: 0.9967 - val_loss: 0.5301 - val_acc: 0.8927\n",
      "Epoch 20/20\n",
      "30/30 [==============================] - 20s 658ms/step - loss: 0.0163 - acc: 0.9957 - val_loss: 0.5546 - val_acc: 0.8968\n",
      "CPU times: user 9min 16s, sys: 16 s, total: 9min 32s\n",
      "Wall time: 6min 27s\n"
     ]
    }
   ],
   "source": [
    "%%time\n",
    "from keras.optimizers import Adam\n",
    "\n",
    "my_first_cnn.compile(loss='binary_crossentropy',\n",
    "                     optimizer=Adam(lr=1e-3),\n",
    "                     metrics=['acc'])\n",
    "\n",
    "history_pt2 = my_first_cnn.fit_generator(train_generator,\n",
    "                                         class_weight = {0: 7, 1: 1},\n",
    "                                         steps_per_epoch=30,\n",
    "                                         epochs=20,\n",
    "                                         validation_data=validation_generator,\n",
    "                                         validation_steps=10,\n",
    "                                         verbose=1)"
   ]
  },
  {
   "cell_type": "markdown",
   "metadata": {
    "colab_type": "text",
    "id": "oU2Zke6YA0o8"
   },
   "source": [
    "What's happening here? We are seeing a typical case of overfitting. Our training loss is improving really fast, but at the same time the validation loss increases in each epoc. The network is learning the specific details of the training set, which don't generalize all that well to the samples in the validation set. \n",
    "\n",
    "We can appreciate that by plotting loss and validation loss over training. At some point, our loss keeps improving (going down), but validation loss keeps getting worse. The detector is getting hung up on the minor specificities of the training set."
   ]
  },
  {
   "cell_type": "code",
   "execution_count": 7,
   "metadata": {
    "colab": {
     "base_uri": "https://localhost:8080/",
     "height": 519
    },
    "colab_type": "code",
    "id": "ZVINgVMaA0o9",
    "outputId": "8b148591-0e55-4db5-c7ac-37b1527868eb"
   },
   "outputs": [
    {
     "name": "stdout",
     "output_type": "stream",
     "text": [
      "CPU times: user 128 ms, sys: 4.17 ms, total: 132 ms\n",
      "Wall time: 80.7 ms\n"
     ]
    },
    {
     "data": {
      "image/png": "[encoded data removed]",
      "text/plain": [
       "<Figure size 576x576 with 2 Axes>"
      ]
     },
     "metadata": {
      "tags": []
     },
     "output_type": "display_data"
    }
   ],
   "source": [
    "%%time\n",
    "import matplotlib.pyplot as plt\n",
    "\n",
    "f, axes = plt.subplots(2,1)\n",
    "\n",
    "f.set_size_inches(8,8)\n",
    "\n",
    "nb_epochs = len(history.epoch)\n",
    "concatenated = history.epoch + [nb_epochs + epoch_number for epoch_number in history_pt2.epoch]\n",
    "\n",
    "axes[0].plot(concatenated, history.history['loss'] + history_pt2.history['loss'], label='loss')\n",
    "axes[0].plot(concatenated, history.history['val_loss'] + history_pt2.history['val_loss'], label='val_loss')\n",
    "axes[0].legend()\n",
    "\n",
    "axes[1].plot(concatenated, history.history['acc'] + history_pt2.history['acc'], label='acc')\n",
    "axes[1].plot(concatenated, history.history['val_acc'] + history_pt2.history['val_acc'], label='val_acc')\n",
    "axes[1].legend()"
   ]
  },
  {
   "cell_type": "markdown",
   "metadata": {
    "colab_type": "text",
    "id": "SRtUsDVOIO9T"
   },
   "source": [
    "The effect will be obvious if we check the confusion matrix on the validation set again. Remember, this is a classifier that gets 99.6% of the items in the training set right!"
   ]
  },
  {
   "cell_type": "code",
   "execution_count": 8,
   "metadata": {
    "colab": {
     "base_uri": "https://localhost:8080/",
     "height": 333
    },
    "colab_type": "code",
    "id": "mrw9KrQoA0pB",
    "outputId": "66afe4d0-882a-48e4-af73-91bead2e69f6"
   },
   "outputs": [
    {
     "name": "stdout",
     "output_type": "stream",
     "text": [
      "0.578125 0.6491228070175439\n",
      "CPU times: user 6.23 s, sys: 128 ms, total: 6.36 s\n",
      "Wall time: 5.62 s\n"
     ]
    },
    {
     "data": {
      "image/png": "[encoded data removed]",
      "text/plain": [
       "<Figure size 432x288 with 2 Axes>"
      ]
     },
     "metadata": {
      "tags": []
     },
     "output_type": "display_data"
    }
   ],
   "source": [
    "%%time\n",
    "validation_generator_noshuffle.reset()\n",
    "predictions = my_first_cnn.predict_generator(validation_generator_noshuffle, steps=9)\n",
    "\n",
    "C = confusion_matrix(validation_generator_noshuffle.classes, predictions > .5)\n",
    "ax = sns.heatmap(C, annot=True, square=True)\n",
    "ax.set_ylabel('True class')\n",
    "ax.set_xlabel('Predicted class')\n",
    "\n",
    "precision = C[0,0] / (C[0,0] + C[1,0])\n",
    "recall = C[0][0] / (C[0,0] + C[0,1])\n",
    "\n",
    "print(precision, recall)"
   ]
  },
  {
   "cell_type": "markdown",
   "metadata": {
    "colab_type": "text",
    "id": "0Y0ZIlGuA0pF"
   },
   "source": [
    "And despite that 99.6%, it's not any better than the previous version. In fact, it's worse.\n",
    "\n",
    "This is the tightrope act that we must make all the time when practising Machine Learning: the [bias-variance tradeoff]. In short, that refers to the trade-off between flexibility and generality of the models. A sufficiently flexible (read: complicated) model will always be able to learn non-relevant details of the input dataset (to overfit), and Neural Networks are nothing if not complicated: notice above where we built our simple CNN: it has over $10^6$ parameters! That's over a million knobs to tweak.\n",
    "\n",
    "Overfitting means we have high variance: different samples will lead to very different estimations of the parameters. That will manifest as higher validation loss than training loss, as we see here from about epoch 8.\n",
    "\n",
    "The solutions are simple but varied, and we need to keep many of them in our bag of tools for different occasions. Some are very general and some are pretty specific, but all of them fall under the heading of [regularization]. [This] is probably the best explanation of that that I've heard. In short, we want to penalize somehow the complexity of our models. That will in turn result in better generality.\n",
    "\n",
    "In our specific example, image recognition, there's one very intuitive way to make our model recognize more varied images of hotdogs: to feed it more varied images of hotdogs. Since we already collected as many as we could, what we can do is to _generate_ more varied images of hotdogs. \n",
    "\n",
    "And that is exactly what we'll do in the next installment of this series.\n",
    "\n",
    "[bias-variance tradeoff]: https://en.wikipedia.org/wiki/Bias%E2%80%93variance_tradeoff\n",
    "[regularization]: https://en.wikipedia.org/wiki/Regularization_(mathematics)#Generalization\n",
    "[This]: https://www.coursera.org/lecture/machine-learning/regularization-and-bias-variance-4VDlf"
   ]
  },
  {
   "cell_type": "markdown",
   "metadata": {
    "colab_type": "text",
    "id": "Q6HL1kQLA0pG"
   },
   "source": [
    "### Further Reading\n",
    "\n",
    "[Deep Learning with Python](https://www.manning.com/books/deep-learning-with-python): A great introductory book by  François Chollet, author of Keras. Explains the practice first, then goes down to theory.\n",
    "\n",
    "[Interview with François Chollet](https://www.pyimagesearch.com/2018/07/02/an-interview-with-francois-chollet/), author of DL with Python.\n",
    "\n",
    "[Implementing a Neural Network from scratch with Python](https://medium.com/@curiousily/tensorflow-for-hackers-part-iv-neural-network-from-scratch-1a4f504dfa8): An in depth view of the internal architecture of a NN, with a tutorial to implement backpropagation.\n",
    "\n",
    "[Activation functions and their types](https://towardsdatascience.com/activation-functions-and-its-types-which-is-better-a9a5310cc8f): A nice discussion of activation functions."
   ]
  }
 ],
 "metadata": {
  "accelerator": "GPU",
  "colab": {
   "name": "04-Evaluating_the_classifier.ipynb",
   "provenance": [],
   "version": "0.3.2"
  },
  "kernelspec": {
   "display_name": "Python 3",
   "language": "python",
   "name": "python3"
  },
  "language_info": {
   "codemirror_mode": {
    "name": "ipython",
    "version": 3
   },
   "file_extension": ".py",
   "mimetype": "text/x-python",
   "name": "python",
   "nbconvert_exporter": "python",
   "pygments_lexer": "ipython3",
   "version": "3.7.6"
  }
 },
 "nbformat": 4,
 "nbformat_minor": 1
}
