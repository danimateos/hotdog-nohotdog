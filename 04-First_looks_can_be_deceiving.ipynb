{
  "nbformat": 4,
  "nbformat_minor": 0,
  "metadata": {
    "accelerator": "GPU",
    "colab": {
      "name": "04-Evaluating_the_classifier.ipynb",
      "provenance": []
    },
    "kernelspec": {
      "display_name": "Python 3",
      "language": "python",
      "name": "python3"
    },
    "language_info": {
      "codemirror_mode": {
        "name": "ipython",
        "version": 3
      },
      "file_extension": ".py",
      "mimetype": "text/x-python",
      "name": "python",
      "nbconvert_exporter": "python",
      "pygments_lexer": "ipython3",
      "version": "3.7.6"
    }
  },
  "cells": [
    {
      "cell_type": "markdown",
      "metadata": {
        "colab_type": "text",
        "id": "9O1ePISmA0oX"
      },
      "source": [
        "[![Open In Colab](https://colab.research.google.com/assets/colab-badge.svg)](https://colab.research.google.com/github/danimateos/hotdog-nohotdog/blob/master/04-First_looks_can_be_deceiving.ipynb)"
      ]
    },
    {
      "cell_type": "markdown",
      "metadata": {
        "colab_type": "text",
        "id": "PhLdX_VN1q1Q"
      },
      "source": [
        "# First looks can be deceiving\n",
        "\n",
        "\n",
        "Hi there! Welcome back! This is part 4 of a series on Deep Learning for image classification. In the three previous installments we learnt about [imagenet and deep learning], [the train-test split], and trained a [first classifier] than can tell hotdogs from nothotdogs with near 90% accuracy. \n",
        "\n",
        "\n",
        "But wait! Now that I come to think of it, we have 120 hotdog images and 794 nohotdog images in our validation set, so a lazy classifier that assigns everything a 'nothotdog' label would get around 87% accuracy. Let's check if that's the case.\n",
        "\n",
        "[imagenet and deep learning]: http://mateos.io/blog/getting-some-hotdogs/\n",
        "[the train-test split]: http://mateos.io/blog/train-test-split/\n",
        "[first classifier]: http://mateos.io/blog/my-first-hotdog-detector/"
      ]
    },
    {
      "cell_type": "markdown",
      "metadata": {
        "colab_type": "text",
        "id": "R7-XabyPA0ob"
      },
      "source": [
        "# Recap \n",
        "\n",
        "On the previous installment, we trained a first Convolutional Neural Network. In order to get to the same state, we need to either a) rerun the code in the same environment, or b) reload previously saved variables. In the interest of a self-contained tutorial, I'm just going to provide here the code to replicate the state we had at the end [last time]. If you want to understand this code, there is a lot of explanation there.\n",
        "\n",
        "[last time]:  http://mateos.io/blog/my-first-hotdog-detector/"
      ]
    },
    {
      "cell_type": "code",
      "metadata": {
        "colab_type": "code",
        "id": "z3Z9QOpnA0oc",
        "outputId": "e868b808-87ab-4c9a-bf48-63ac2855b7f8",
        "scrolled": true,
        "colab": {
          "base_uri": "https://localhost:8080/",
          "height": 1000
        }
      },
      "source": [
        "# Import \n",
        "import keras\n",
        "from keras import backend as K\n",
        "from keras.layers import Conv2D, MaxPooling2D, InputLayer, Flatten, Dense\n",
        "from keras.optimizers import Adam\n",
        "from keras.preprocessing.image import ImageDataGenerator\n",
        "import os\n",
        "\n",
        "# Download the data\n",
        "!wget -q \"https://www.dropbox.com/s/dhpekpce05iev6a/data_v2.zip?dl=0\" -O data.zip\n",
        "!rm -rf data/\n",
        "!unzip -oq data.zip\n",
        "!ls -lh data\n",
        "\n",
        "# Design the net\n",
        "my_first_cnn = keras.Sequential()\n",
        "my_first_cnn.add(Conv2D(32, (3, 3), activation='relu', input_shape=(120, 120, 3)))\n",
        "my_first_cnn.add(MaxPooling2D((2,2)))\n",
        "my_first_cnn.add(Conv2D(32, (3, 3), activation='relu'))\n",
        "my_first_cnn.add(MaxPooling2D((2,2)))\n",
        "my_first_cnn.add(Flatten())\n",
        "my_first_cnn.add(Dense(64, activation='relu'))\n",
        "my_first_cnn.add(Dense(1, activation='sigmoid'))\n",
        "\n",
        "# Data generators\n",
        "base_dir = 'data//'\n",
        "train_dir = os.path.join(base_dir, 'train')\n",
        "validation_dir = os.path.join(base_dir, 'validation')\n",
        "train_datagen = ImageDataGenerator(rescale=1 / 255)\n",
        "test_datagen = ImageDataGenerator(rescale=1 / 255)\n",
        "train_generator = train_datagen.flow_from_directory(train_dir, \n",
        "                                                    target_size=(120,120),\n",
        "                                                    batch_size=100,\n",
        "                                                    class_mode='binary')\n",
        "validation_generator = test_datagen.flow_from_directory(validation_dir,\n",
        "                                                        target_size=(120,120),\n",
        "                                                        batch_size=100,\n",
        "                                                        class_mode='binary')\n",
        "\n",
        "# Compile and train\n",
        "my_first_cnn.compile(loss='binary_crossentropy',\n",
        "                     optimizer=Adam(lr=1e-3),\n",
        "                     metrics=['acc'])\n",
        "\n",
        "history = my_first_cnn.fit_generator(train_generator,\n",
        "                                     steps_per_epoch=30,\n",
        "                                     epochs=10,\n",
        "                                     validation_data=validation_generator,\n",
        "                                     validation_steps=10)\n",
        "\n",
        "# Save the model. If you did this last time, you could skip the training and do:\n",
        "# from keras.models import load_model\n",
        "# my_first_cnn = load_model('my_first_cnn.h5')\n",
        "my_first_cnn.save('my_first_cnn.h5')"
      ],
      "execution_count": 1,
      "outputs": [
        {
          "output_type": "stream",
          "text": [
            "Using TensorFlow backend.\n"
          ],
          "name": "stderr"
        },
        {
          "output_type": "display_data",
          "data": {
            "text/html": [
              "<p style=\"color: red;\">\n",
              "The default version of TensorFlow in Colab will soon switch to TensorFlow 2.x.<br>\n",
              "We recommend you <a href=\"https://www.tensorflow.org/guide/migrate\" target=\"_blank\">upgrade</a> now \n",
              "or ensure your notebook will continue to use TensorFlow 1.x via the <code>%tensorflow_version 1.x</code> magic:\n",
              "<a href=\"https://colab.research.google.com/notebooks/tensorflow_version.ipynb\" target=\"_blank\">more info</a>.</p>\n"
            ],
            "text/plain": [
              "<IPython.core.display.HTML object>"
            ]
          },
          "metadata": {
            "tags": []
          }
        },
        {
          "output_type": "stream",
          "text": [
            "total 12K\n",
            "drwxrwxr-x 4 root root 4.0K Jun 27  2018 test\n",
            "drwxrwxr-x 4 root root 4.0K Jun 27  2018 train\n",
            "drwxrwxr-x 4 root root 4.0K Jun 27  2018 validation\n",
            "WARNING:tensorflow:From /usr/local/lib/python3.6/dist-packages/keras/backend/tensorflow_backend.py:66: The name tf.get_default_graph is deprecated. Please use tf.compat.v1.get_default_graph instead.\n",
            "\n",
            "WARNING:tensorflow:From /usr/local/lib/python3.6/dist-packages/keras/backend/tensorflow_backend.py:541: The name tf.placeholder is deprecated. Please use tf.compat.v1.placeholder instead.\n",
            "\n",
            "WARNING:tensorflow:From /usr/local/lib/python3.6/dist-packages/keras/backend/tensorflow_backend.py:4432: The name tf.random_uniform is deprecated. Please use tf.random.uniform instead.\n",
            "\n",
            "WARNING:tensorflow:From /usr/local/lib/python3.6/dist-packages/keras/backend/tensorflow_backend.py:4267: The name tf.nn.max_pool is deprecated. Please use tf.nn.max_pool2d instead.\n",
            "\n",
            "Found 4766 images belonging to 2 classes.\n",
            "Found 888 images belonging to 2 classes.\n",
            "WARNING:tensorflow:From /usr/local/lib/python3.6/dist-packages/keras/optimizers.py:793: The name tf.train.Optimizer is deprecated. Please use tf.compat.v1.train.Optimizer instead.\n",
            "\n",
            "WARNING:tensorflow:From /usr/local/lib/python3.6/dist-packages/keras/backend/tensorflow_backend.py:3657: The name tf.log is deprecated. Please use tf.math.log instead.\n",
            "\n",
            "WARNING:tensorflow:From /usr/local/lib/python3.6/dist-packages/tensorflow_core/python/ops/nn_impl.py:183: where (from tensorflow.python.ops.array_ops) is deprecated and will be removed in a future version.\n",
            "Instructions for updating:\n",
            "Use tf.where in 2.0, which has the same broadcast rule as np.where\n",
            "WARNING:tensorflow:From /usr/local/lib/python3.6/dist-packages/keras/backend/tensorflow_backend.py:1033: The name tf.assign_add is deprecated. Please use tf.compat.v1.assign_add instead.\n",
            "\n",
            "WARNING:tensorflow:From /usr/local/lib/python3.6/dist-packages/keras/backend/tensorflow_backend.py:1020: The name tf.assign is deprecated. Please use tf.compat.v1.assign instead.\n",
            "\n",
            "WARNING:tensorflow:From /usr/local/lib/python3.6/dist-packages/keras/backend/tensorflow_backend.py:3005: The name tf.Session is deprecated. Please use tf.compat.v1.Session instead.\n",
            "\n",
            "Epoch 1/10\n",
            "WARNING:tensorflow:From /usr/local/lib/python3.6/dist-packages/keras/backend/tensorflow_backend.py:190: The name tf.get_default_session is deprecated. Please use tf.compat.v1.get_default_session instead.\n",
            "\n",
            "WARNING:tensorflow:From /usr/local/lib/python3.6/dist-packages/keras/backend/tensorflow_backend.py:197: The name tf.ConfigProto is deprecated. Please use tf.compat.v1.ConfigProto instead.\n",
            "\n",
            "WARNING:tensorflow:From /usr/local/lib/python3.6/dist-packages/keras/backend/tensorflow_backend.py:207: The name tf.global_variables is deprecated. Please use tf.compat.v1.global_variables instead.\n",
            "\n",
            "WARNING:tensorflow:From /usr/local/lib/python3.6/dist-packages/keras/backend/tensorflow_backend.py:216: The name tf.is_variable_initialized is deprecated. Please use tf.compat.v1.is_variable_initialized instead.\n",
            "\n",
            "WARNING:tensorflow:From /usr/local/lib/python3.6/dist-packages/keras/backend/tensorflow_backend.py:223: The name tf.variables_initializer is deprecated. Please use tf.compat.v1.variables_initializer instead.\n",
            "\n",
            "30/30 [==============================] - 25s 830ms/step - loss: 0.4430 - acc: 0.8777 - val_loss: 0.3345 - val_acc: 0.8684\n",
            "Epoch 2/10\n",
            "30/30 [==============================] - 17s 573ms/step - loss: 0.2851 - acc: 0.8731 - val_loss: 0.2356 - val_acc: 0.8745\n",
            "Epoch 3/10\n",
            "30/30 [==============================] - 17s 571ms/step - loss: 0.2490 - acc: 0.8737 - val_loss: 0.2341 - val_acc: 0.8775\n",
            "Epoch 4/10\n",
            "30/30 [==============================] - 17s 558ms/step - loss: 0.2388 - acc: 0.8743 - val_loss: 0.2588 - val_acc: 0.8988\n",
            "Epoch 5/10\n",
            "30/30 [==============================] - 17s 576ms/step - loss: 0.2159 - acc: 0.8967 - val_loss: 0.2363 - val_acc: 0.8816\n",
            "Epoch 6/10\n",
            "30/30 [==============================] - 18s 590ms/step - loss: 0.2109 - acc: 0.8985 - val_loss: 0.2521 - val_acc: 0.8887\n",
            "Epoch 7/10\n",
            "30/30 [==============================] - 17s 570ms/step - loss: 0.2189 - acc: 0.8957 - val_loss: 0.2514 - val_acc: 0.8674\n",
            "Epoch 8/10\n",
            "30/30 [==============================] - 16s 541ms/step - loss: 0.1953 - acc: 0.9093 - val_loss: 0.2418 - val_acc: 0.8907\n",
            "Epoch 9/10\n",
            "30/30 [==============================] - 17s 573ms/step - loss: 0.1941 - acc: 0.9081 - val_loss: 0.2226 - val_acc: 0.9016\n",
            "Epoch 10/10\n",
            "30/30 [==============================] - 13s 423ms/step - loss: 0.1611 - acc: 0.9183 - val_loss: 0.2223 - val_acc: 0.9160\n"
          ],
          "name": "stdout"
        }
      ]
    },
    {
      "cell_type": "markdown",
      "metadata": {
        "colab_type": "text",
        "id": "v5MZHUrtA0oi"
      },
      "source": [
        "# Measuring performance\n",
        "\n",
        "We are now ready to look deeper into the performance of our classifier."
      ]
    },
    {
      "cell_type": "markdown",
      "metadata": {
        "colab_type": "text",
        "id": "q9L2WFd-A0ok"
      },
      "source": [
        "### Confusion matrix, precision and recall\n",
        "\n",
        "The confusion matrix is a basic conceptual tool in binary classification. It's just a matrix such that rows represent true classes and columns represent predicted classes. \n",
        "\n",
        "Keras has assigned the label 0 to our hotdog class, which we consider positive, and 1 to our nothotdog class, which we consider negative. Therefore, in our binary classification setting we will have true positives top left, true negatives bottom right, false positives bottom left, and false negatives top right.\n",
        "\n",
        "Therefore, precision will be\n",
        "\n",
        "$$ precision = \\frac{true\\ positives}{predicted\\ positives} = \\frac{C_{0,0}}{C_{0,0} + C_{1,0}} $$\n",
        "\n",
        "and recall will be:\n",
        "\n",
        "$$ recall = \\frac{true\\ positives}{total\\ positives} = \\frac{C_{0,0}}{C_{0,0} + C_{0,1}}$$\n"
      ]
    },
    {
      "cell_type": "code",
      "metadata": {
        "colab_type": "code",
        "id": "ArK543JMA0ok",
        "outputId": "bdc6649b-e87d-4d40-9c33-64944f283c5f",
        "colab": {
          "base_uri": "https://localhost:8080/",
          "height": 72
        }
      },
      "source": [
        "%%time\n",
        "validation_generator_noshuffle = test_datagen.flow_from_directory(validation_dir,\n",
        "                                                        target_size=(120,120),\n",
        "                                                        batch_size=100,\n",
        "                                                        shuffle=False,                                                            \n",
        "                                                        class_mode='binary')\n",
        "\n",
        "validation_generator_noshuffle.reset()\n",
        "predictions = my_first_cnn.predict_generator(validation_generator_noshuffle, steps=9)\n",
        "\n",
        "predictions.shape"
      ],
      "execution_count": 2,
      "outputs": [
        {
          "output_type": "stream",
          "text": [
            "Found 888 images belonging to 2 classes.\n",
            "CPU times: user 4.14 s, sys: 48.1 ms, total: 4.18 s\n",
            "Wall time: 4.21 s\n"
          ],
          "name": "stdout"
        }
      ]
    },
    {
      "cell_type": "code",
      "metadata": {
        "colab_type": "code",
        "id": "rI7hrITBA0op",
        "outputId": "a81eb855-b9dd-4c95-80be-f00f53572e9b",
        "colab": {
          "base_uri": "https://localhost:8080/",
          "height": 297
        }
      },
      "source": [
        "from sklearn.metrics import confusion_matrix\n",
        "import seaborn as sns\n",
        "%matplotlib inline\n",
        "\n",
        "C = confusion_matrix(validation_generator_noshuffle.classes, predictions > .5)\n",
        "ax = sns.heatmap(C, annot=True, square=True)\n",
        "ax.set_ylabel('True class')\n",
        "ax.set_xlabel('Predicted class')\n",
        "\n",
        "precision = C[0,0] / (C[0,0] + C[1,0])\n",
        "recall = C[0][0] / (C[0,0] + C[0,1])\n",
        "\n",
        "print(precision, recall)"
      ],
      "execution_count": 3,
      "outputs": [
        {
          "output_type": "stream",
          "text": [
            "0.7215189873417721 0.5\n"
          ],
          "name": "stdout"
        },
        {
          "output_type": "display_data",
          "data": {
            "image/png": "[encoded data removed]",
            "text/plain": [
              "<Figure size 432x288 with 2 Axes>"
            ]
          },
          "metadata": {
            "tags": []
          }
        }
      ]
    },
    {
      "cell_type": "markdown",
      "metadata": {
        "colab_type": "text",
        "id": "DX3icFvuA0ot"
      },
      "source": [
        "Oh. Right. That means that only 72% of our predicted hotdogs are such, and that we only detect around 50% of all the hotdogs in the dataset. That is, when our users get a \"hotdog\" prediction, the probability that they are pointing at a hotdog will be around 70%. Not awful, but definitely worse sounding than 90% accuracy. Moreover, the real problem is in the other metric, recall. That value means that when they point at a hotdog, the probability that the app recognizes it is only 50%! Not a great user experience. In short, our classifier is being way too cautious. It doesn't risk a \"hotdog\" prediction very often, and therefore it is not wrong very often. \n",
        "\n",
        "That illustrates a very important idea to keep in mind: choose the right metrics! Specially in unbalanced datasets, accuracy can be pretty misleading. We are fitting on binary cross entropy, which will naturally focus on getting right the most common class. You will have to think about what you want your model to focus on. \n",
        "\n",
        "For example, in medical settings you will often have a very uncommon class (think VIH positive or breast cancer positive patients, both usually under 1%), and on top of that the error is asymmetrical: it is a lot worse to let a sick patient go than to tell a patient that they need might be sick and need to get more tests!! In that case, you're more interested in maximizing recall even if precision suffers as a result. \n",
        "\n",
        "In order to compensate for the fact that we have many more nothotdogs than hotdogs, `fit_generator` provides a `class_weight` parameter that allows us to artificially give more importance to underrepresented or specially important classes. Let's try it:"
      ]
    },
    {
      "cell_type": "code",
      "metadata": {
        "colab_type": "code",
        "id": "_ENmOC8AA0ou",
        "outputId": "b59ad3ef-ee49-4177-d3eb-52340decbf27",
        "colab": {
          "base_uri": "https://localhost:8080/",
          "height": 417
        }
      },
      "source": [
        "%%time\n",
        "from keras.optimizers import Adam\n",
        "\n",
        "my_first_cnn.compile(loss='binary_crossentropy',\n",
        "                     optimizer=Adam(lr=1e-3),\n",
        "                     metrics=['acc'])\n",
        "\n",
        "history = my_first_cnn.fit_generator(train_generator,\n",
        "                                     class_weight = {0: 7, 1: 1},\n",
        "                                     steps_per_epoch=30,\n",
        "                                     epochs=10,\n",
        "                                     validation_data=validation_generator,\n",
        "                                     validation_steps=10)"
      ],
      "execution_count": 4,
      "outputs": [
        {
          "output_type": "stream",
          "text": [
            "Epoch 1/10\n",
            "30/30 [==============================] - 17s 569ms/step - loss: 0.7552 - acc: 0.9201 - val_loss: 0.2425 - val_acc: 0.9059\n",
            "Epoch 2/10\n",
            "30/30 [==============================] - 16s 539ms/step - loss: 0.7468 - acc: 0.9298 - val_loss: 0.2598 - val_acc: 0.8897\n",
            "Epoch 3/10\n",
            "30/30 [==============================] - 17s 577ms/step - loss: 0.6723 - acc: 0.9450 - val_loss: 0.2607 - val_acc: 0.9170\n",
            "Epoch 4/10\n",
            "30/30 [==============================] - 16s 540ms/step - loss: 0.6779 - acc: 0.9371 - val_loss: 0.2889 - val_acc: 0.8634\n",
            "Epoch 5/10\n",
            "30/30 [==============================] - 17s 567ms/step - loss: 0.6647 - acc: 0.9343 - val_loss: 0.2510 - val_acc: 0.9150\n",
            "Epoch 6/10\n",
            "30/30 [==============================] - 17s 570ms/step - loss: 0.6219 - acc: 0.9455 - val_loss: 0.2524 - val_acc: 0.9049\n",
            "Epoch 7/10\n",
            "30/30 [==============================] - 16s 533ms/step - loss: 0.6313 - acc: 0.9441 - val_loss: 0.2896 - val_acc: 0.8451\n",
            "Epoch 8/10\n",
            "30/30 [==============================] - 17s 557ms/step - loss: 0.6026 - acc: 0.9400 - val_loss: 0.2615 - val_acc: 0.8988\n",
            "Epoch 9/10\n",
            "30/30 [==============================] - 17s 559ms/step - loss: 0.5758 - acc: 0.9540 - val_loss: 0.2519 - val_acc: 0.9037\n",
            "Epoch 10/10\n",
            "30/30 [==============================] - 13s 425ms/step - loss: 0.5537 - acc: 0.9530 - val_loss: 0.2558 - val_acc: 0.9211\n",
            "CPU times: user 3min 56s, sys: 3.97 s, total: 4min\n",
            "Wall time: 2min 43s\n"
          ],
          "name": "stdout"
        }
      ]
    },
    {
      "cell_type": "markdown",
      "metadata": {
        "colab_type": "text",
        "id": "tNiCyRfLA0oy"
      },
      "source": [
        "This time the confusion matrix is this one:"
      ]
    },
    {
      "cell_type": "code",
      "metadata": {
        "colab_type": "code",
        "id": "R9ePwr_aA0oz",
        "outputId": "91f024c5-2298-4dff-ea29-3dcfd677675e",
        "colab": {
          "base_uri": "https://localhost:8080/",
          "height": 297
        }
      },
      "source": [
        "validation_generator_noshuffle.reset()\n",
        "predictions = my_first_cnn.predict_generator(validation_generator_noshuffle, steps=9)\n",
        "\n",
        "C = confusion_matrix(validation_generator_noshuffle.classes, predictions > .5)\n",
        "ax = sns.heatmap(C, annot=True, square=True)\n",
        "ax.set_ylabel('True class')\n",
        "ax.set_xlabel('Predicted class')\n",
        "\n",
        "precision = C[0,0] / (C[0,0] + C[1,0])\n",
        "recall = C[0][0] / (C[0,0] + C[0,1])\n",
        "\n",
        "print(precision, recall)"
      ],
      "execution_count": 5,
      "outputs": [
        {
          "output_type": "stream",
          "text": [
            "0.6981132075471698 0.6491228070175439\n"
          ],
          "name": "stdout"
        },
        {
          "output_type": "display_data",
          "data": {
            "image/png": "[encoded data removed]",
            "text/plain": [
              "<Figure size 432x288 with 2 Axes>"
            ]
          },
          "metadata": {
            "tags": []
          }
        }
      ]
    },
    {
      "cell_type": "markdown",
      "metadata": {
        "colab_type": "text",
        "id": "sw3BHw_SA0o3"
      },
      "source": [
        "Much better! This won't blow Jian-Yang away, but it's a a lot better, despite having worse accuracy. Consider that before the previous notebook, you had no idea how to code a program to have some perception of the real world. Now you can!\n",
        "\n",
        "Anyway, we have a classifier. It's not great, but I'm sure it can get better. Let's train it a bit more, shall we?"
      ]
    },
    {
      "cell_type": "code",
      "metadata": {
        "colab_type": "code",
        "id": "kjgjZW4xA0o4",
        "outputId": "9bd8d217-532c-46af-a4f5-fcb66bf32012",
        "colab": {
          "base_uri": "https://localhost:8080/",
          "height": 781
        }
      },
      "source": [
        "%%time\n",
        "from keras.optimizers import Adam\n",
        "\n",
        "my_first_cnn.compile(loss='binary_crossentropy',\n",
        "                     optimizer=Adam(lr=1e-3),\n",
        "                     metrics=['acc'])\n",
        "\n",
        "history_pt2 = my_first_cnn.fit_generator(train_generator,\n",
        "                                         class_weight = {0: 7, 1: 1},\n",
        "                                         steps_per_epoch=30,\n",
        "                                         epochs=20,\n",
        "                                         validation_data=validation_generator,\n",
        "                                         validation_steps=10,\n",
        "                                         verbose=1)"
      ],
      "execution_count": 6,
      "outputs": [
        {
          "output_type": "stream",
          "text": [
            "Epoch 1/20\n",
            "30/30 [==============================] - 17s 555ms/step - loss: 0.5494 - acc: 0.9501 - val_loss: 0.2848 - val_acc: 0.9119\n",
            "Epoch 2/20\n",
            "30/30 [==============================] - 17s 583ms/step - loss: 0.5769 - acc: 0.9497 - val_loss: 0.2727 - val_acc: 0.9018\n",
            "Epoch 3/20\n",
            "30/30 [==============================] - 17s 554ms/step - loss: 0.5475 - acc: 0.9532 - val_loss: 0.2514 - val_acc: 0.9089\n",
            "Epoch 4/20\n",
            "30/30 [==============================] - 17s 555ms/step - loss: 0.5142 - acc: 0.9583 - val_loss: 0.2452 - val_acc: 0.8998\n",
            "Epoch 5/20\n",
            "30/30 [==============================] - 17s 572ms/step - loss: 0.4896 - acc: 0.9640 - val_loss: 0.2806 - val_acc: 0.9160\n",
            "Epoch 6/20\n",
            "30/30 [==============================] - 16s 543ms/step - loss: 0.5042 - acc: 0.9657 - val_loss: 0.2438 - val_acc: 0.9018\n",
            "Epoch 7/20\n",
            "30/30 [==============================] - 17s 565ms/step - loss: 0.4577 - acc: 0.9643 - val_loss: 0.2675 - val_acc: 0.9241\n",
            "Epoch 8/20\n",
            "30/30 [==============================] - 16s 548ms/step - loss: 0.4801 - acc: 0.9698 - val_loss: 0.2756 - val_acc: 0.8816\n",
            "Epoch 9/20\n",
            "30/30 [==============================] - 17s 561ms/step - loss: 0.4495 - acc: 0.9663 - val_loss: 0.2602 - val_acc: 0.8904\n",
            "Epoch 10/20\n",
            "30/30 [==============================] - 13s 421ms/step - loss: 0.4544 - acc: 0.9678 - val_loss: 0.2814 - val_acc: 0.9130\n",
            "Epoch 11/20\n",
            "30/30 [==============================] - 17s 563ms/step - loss: 0.4569 - acc: 0.9637 - val_loss: 0.2646 - val_acc: 0.8998\n",
            "Epoch 12/20\n",
            "30/30 [==============================] - 17s 564ms/step - loss: 0.4446 - acc: 0.9662 - val_loss: 0.2647 - val_acc: 0.9069\n",
            "Epoch 13/20\n",
            "30/30 [==============================] - 16s 539ms/step - loss: 0.4139 - acc: 0.9783 - val_loss: 0.2781 - val_acc: 0.9150\n",
            "Epoch 14/20\n",
            "30/30 [==============================] - 17s 561ms/step - loss: 0.4160 - acc: 0.9693 - val_loss: 0.2669 - val_acc: 0.9180\n",
            "Epoch 15/20\n",
            "30/30 [==============================] - 17s 560ms/step - loss: 0.4107 - acc: 0.9630 - val_loss: 0.3188 - val_acc: 0.8907\n",
            "Epoch 16/20\n",
            "30/30 [==============================] - 17s 561ms/step - loss: 0.1952 - acc: 0.9652 - val_loss: 0.3827 - val_acc: 0.8694\n",
            "Epoch 17/20\n",
            "30/30 [==============================] - 17s 556ms/step - loss: 0.1201 - acc: 0.9677 - val_loss: 0.3529 - val_acc: 0.8856\n",
            "Epoch 18/20\n",
            "30/30 [==============================] - 17s 557ms/step - loss: 0.1065 - acc: 0.9743 - val_loss: 0.4031 - val_acc: 0.9109\n",
            "Epoch 19/20\n",
            "30/30 [==============================] - 13s 434ms/step - loss: 0.0976 - acc: 0.9733 - val_loss: 0.4337 - val_acc: 0.9119\n",
            "Epoch 20/20\n",
            "30/30 [==============================] - 16s 549ms/step - loss: 0.1239 - acc: 0.9658 - val_loss: 0.4795 - val_acc: 0.8603\n",
            "CPU times: user 7min 52s, sys: 7.86 s, total: 8min\n",
            "Wall time: 5min 27s\n"
          ],
          "name": "stdout"
        }
      ]
    },
    {
      "cell_type": "markdown",
      "metadata": {
        "colab_type": "text",
        "id": "oU2Zke6YA0o8"
      },
      "source": [
        "What's happening here? We are seeing a typical case of overfitting. Our training loss is improving really fast, but at the same time the validation loss increases in each epoch. The network is learning the specific details of the training set, which don't generalize all that well to the samples in the validation set. \n",
        "\n",
        "We can appreciate that by plotting loss and validation loss over training. At some point, our loss keeps improving (going down), but validation loss keeps getting worse. The detector is getting hung up on the minor specificities of the training set."
      ]
    },
    {
      "cell_type": "code",
      "metadata": {
        "colab_type": "code",
        "id": "ZVINgVMaA0o9",
        "outputId": "d411133e-2e21-4815-ae20-517eae18824d",
        "colab": {
          "base_uri": "https://localhost:8080/",
          "height": 519
        }
      },
      "source": [
        "%%time\n",
        "import matplotlib.pyplot as plt\n",
        "\n",
        "f, axes = plt.subplots(2,1)\n",
        "\n",
        "f.set_size_inches(8,8)\n",
        "\n",
        "nb_epochs = len(history.epoch)\n",
        "concatenated = history.epoch + [nb_epochs + epoch_number for epoch_number in history_pt2.epoch]\n",
        "\n",
        "axes[0].plot(concatenated, history.history['loss'] + history_pt2.history['loss'], label='loss')\n",
        "axes[0].plot(concatenated, history.history['val_loss'] + history_pt2.history['val_loss'], label='val_loss')\n",
        "axes[0].legend()\n",
        "\n",
        "axes[1].plot(concatenated, history.history['acc'] + history_pt2.history['acc'], label='acc')\n",
        "axes[1].plot(concatenated, history.history['val_acc'] + history_pt2.history['val_acc'], label='val_acc')\n",
        "axes[1].legend()"
      ],
      "execution_count": 7,
      "outputs": [
        {
          "output_type": "stream",
          "text": [
            "CPU times: user 77.9 ms, sys: 2.07 ms, total: 80 ms\n",
            "Wall time: 52.8 ms\n"
          ],
          "name": "stdout"
        },
        {
          "output_type": "display_data",
          "data": {
            "image/png": "[encoded data removed]",
            "text/plain": [
              "<Figure size 576x576 with 2 Axes>"
            ]
          },
          "metadata": {
            "tags": []
          }
        }
      ]
    },
    {
      "cell_type": "markdown",
      "metadata": {
        "colab_type": "text",
        "id": "SRtUsDVOIO9T"
      },
      "source": [
        "The effect will be obvious if we check the confusion matrix on the validation set again. Remember, this is a classifier that gets over 95% of the items in the training set right!"
      ]
    },
    {
      "cell_type": "code",
      "metadata": {
        "colab_type": "code",
        "id": "mrw9KrQoA0pB",
        "outputId": "4ec41f9b-5b56-40ab-ca5c-f7a2a631a9bf",
        "colab": {
          "base_uri": "https://localhost:8080/",
          "height": 334
        }
      },
      "source": [
        "%%time\n",
        "validation_generator_noshuffle.reset()\n",
        "predictions = my_first_cnn.predict_generator(validation_generator_noshuffle, steps=9)\n",
        "\n",
        "C = confusion_matrix(validation_generator_noshuffle.classes, predictions > .5)\n",
        "ax = sns.heatmap(C, annot=True, square=True)\n",
        "ax.set_ylabel('True class')\n",
        "ax.set_xlabel('Predicted class')\n",
        "\n",
        "precision = C[0,0] / (C[0,0] + C[1,0])\n",
        "recall = C[0][0] / (C[0,0] + C[0,1])\n",
        "\n",
        "print(precision, recall)"
      ],
      "execution_count": 8,
      "outputs": [
        {
          "output_type": "stream",
          "text": [
            "0.4787234042553192 0.7894736842105263\n",
            "CPU times: user 5.4 s, sys: 84.9 ms, total: 5.48 s\n",
            "Wall time: 4.58 s\n"
          ],
          "name": "stdout"
        },
        {
          "output_type": "display_data",
          "data": {
            "image/png": "[encoded data removed]",
            "text/plain": [
              "<Figure size 432x288 with 2 Axes>"
            ]
          },
          "metadata": {
            "tags": []
          }
        }
      ]
    },
    {
      "cell_type": "markdown",
      "metadata": {
        "colab_type": "text",
        "id": "0Y0ZIlGuA0pF"
      },
      "source": [
        "And despite that super high accuracy, it's not any better than the previous version. In fact, it's worse.\n",
        "\n",
        "This is the tightrope act that we must make all the time when practising Machine Learning: the [bias-variance tradeoff]. In short, that refers to the trade-off between flexibility and generality of the models. A sufficiently flexible (read: complicated) model will always be able to learn non-relevant details of the input dataset (to overfit), and Neural Networks are nothing if not complicated: notice above where we built our simple CNN: it has over $10^6$ parameters! That's over a million knobs to tweak.\n",
        "\n",
        "Overfitting means we have high variance: different samples will lead to very different estimations of the parameters. That will manifest as higher validation loss than training loss, as we see here from about epoch 8.\n",
        "\n",
        "The solutions are simple but varied, and we need to keep many of them in our bag of tools for different occasions. Some are very general and some are pretty specific, but all of them fall under the heading of [regularization]. [This] is probably the best explanation of that that I've heard. In short, we want to penalize somehow the complexity of our models. That will in turn result in better generality.\n",
        "\n",
        "In our specific example, image recognition, there's one very intuitive way to make our model recognize more varied images of hotdogs: to feed it more varied images of hotdogs. Since we already collected as many as we could, what we can do is to _generate_ more varied images of hotdogs. \n",
        "\n",
        "And that is exactly what we'll do in the next installment of this series.\n",
        "\n",
        "[bias-variance tradeoff]: https://en.wikipedia.org/wiki/Bias%E2%80%93variance_tradeoff\n",
        "[regularization]: https://en.wikipedia.org/wiki/Regularization_(mathematics)#Generalization\n",
        "[This]: https://www.coursera.org/lecture/machine-learning/regularization-and-bias-variance-4VDlf"
      ]
    },
    {
      "cell_type": "markdown",
      "metadata": {
        "colab_type": "text",
        "id": "Q6HL1kQLA0pG"
      },
      "source": [
        "### Further Reading\n",
        "\n",
        "[Deep Learning with Python](https://www.manning.com/books/deep-learning-with-python): A great introductory book by  François Chollet, author of Keras. Explains the practice first, then goes down to theory.\n",
        "\n",
        "[Interview with François Chollet](https://www.pyimagesearch.com/2018/07/02/an-interview-with-francois-chollet/), author of DL with Python.\n",
        "\n",
        "[Implementing a Neural Network from scratch with Python](https://medium.com/@curiousily/tensorflow-for-hackers-part-iv-neural-network-from-scratch-1a4f504dfa8): An in depth view of the internal architecture of a NN, with a tutorial to implement backpropagation.\n",
        "\n",
        "[Activation functions and their types](https://towardsdatascience.com/activation-functions-and-its-types-which-is-better-a9a5310cc8f): A nice discussion of activation functions."
      ]
    }
  ]
}