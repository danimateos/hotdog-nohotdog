{
 "cells": [
  {
   "cell_type": "markdown",
   "metadata": {},
   "source": [
    "# On the shoulders of giants"
   ]
  },
  {
   "cell_type": "markdown",
   "metadata": {},
   "source": [
    "TODO:\n",
    "    \n",
    "Implement SGD with restarts with Learning rate scheduler"
   ]
  },
  {
   "cell_type": "code",
   "execution_count": 1,
   "metadata": {},
   "outputs": [
    {
     "name": "stderr",
     "output_type": "stream",
     "text": [
      "Using TensorFlow backend.\n"
     ]
    }
   ],
   "source": [
    "import keras\n",
    "from keras import backend as K\n",
    "from keras.applications import VGG16, ResNet50"
   ]
  },
  {
   "cell_type": "code",
   "execution_count": 2,
   "metadata": {
    "scrolled": true
   },
   "outputs": [],
   "source": [
    "vgg = VGG16(weights='imagenet', \n",
    "            include_top=False, \n",
    "            input_shape=(200,200,3))"
   ]
  },
  {
   "cell_type": "code",
   "execution_count": 3,
   "metadata": {},
   "outputs": [
    {
     "name": "stdout",
     "output_type": "stream",
     "text": [
      "_________________________________________________________________\n",
      "Layer (type)                 Output Shape              Param #   \n",
      "=================================================================\n",
      "vgg16 (Model)                (None, 6, 6, 512)         14714688  \n",
      "_________________________________________________________________\n",
      "flatten_1 (Flatten)          (None, 18432)             0         \n",
      "_________________________________________________________________\n",
      "dense_1 (Dense)              (None, 256)               4718848   \n",
      "_________________________________________________________________\n",
      "dropout_1 (Dropout)          (None, 256)               0         \n",
      "_________________________________________________________________\n",
      "dense_2 (Dense)              (None, 128)               32896     \n",
      "_________________________________________________________________\n",
      "dropout_2 (Dropout)          (None, 128)               0         \n",
      "_________________________________________________________________\n",
      "dense_3 (Dense)              (None, 64)                8256      \n",
      "_________________________________________________________________\n",
      "dropout_3 (Dropout)          (None, 64)                0         \n",
      "_________________________________________________________________\n",
      "dense_4 (Dense)              (None, 1)                 65        \n",
      "=================================================================\n",
      "Total params: 19,474,753\n",
      "Trainable params: 4,760,065\n",
      "Non-trainable params: 14,714,688\n",
      "_________________________________________________________________\n"
     ]
    }
   ],
   "source": [
    "from keras.layers import Dense, Dropout, Flatten\n",
    "\n",
    "model = keras.Sequential()\n",
    "vgg.trainable = False\n",
    "model.add(vgg)\n",
    "model.add(Flatten())\n",
    "model.add(Dense(256, activation='relu'))\n",
    "model.add(Dropout(0.5))\n",
    "model.add(Dense(128, activation='relu'))\n",
    "model.add(Dropout(0.5))\n",
    "model.add(Dense(64, activation='relu'))\n",
    "model.add(Dropout(0.5))\n",
    "model.add(Dense(1, activation='sigmoid'))\n",
    "\n",
    "model.summary()"
   ]
  },
  {
   "cell_type": "markdown",
   "metadata": {},
   "source": [
    "ResNet50 requires at least 197x197 input, so in order to make a fair comparison we'll train both with those dimensions"
   ]
  },
  {
   "cell_type": "code",
   "execution_count": 4,
   "metadata": {},
   "outputs": [
    {
     "name": "stdout",
     "output_type": "stream",
     "text": [
      "Found 1550 images belonging to 2 classes.\n",
      "Found 393 images belonging to 2 classes.\n"
     ]
    }
   ],
   "source": [
    "from keras.preprocessing.image import ImageDataGenerator\n",
    "import os\n",
    "\n",
    "base_dir = 'data/'\n",
    "\n",
    "train_dir = os.path.join(base_dir, 'train')\n",
    "validation_dir = os.path.join(base_dir, 'validation')\n",
    "\n",
    "train_datagen = ImageDataGenerator(rescale=1 / 255,\n",
    "                                   rotation_range=40,\n",
    "                                   width_shift_range=0.2,\n",
    "                                   height_shift_range=0.2,\n",
    "                                   shear_range=0.2,\n",
    "                                   zoom_range=0.2,\n",
    "                                   horizontal_flip=True,\n",
    "                                   fill_mode='nearest')\n",
    "\n",
    "test_datagen = ImageDataGenerator(rescale=1 / 255)\n",
    "\n",
    "# Con batch size de 50 funcionaba mucho mejor, pero lo he tenido que bajar por memoria de la GPU\n",
    "train_generator = train_datagen.flow_from_directory(train_dir, \n",
    "                                                    target_size=(200,200),\n",
    "                                                    batch_size=100,\n",
    "                                                    class_mode='binary')\n",
    "\n",
    "validation_generator = test_datagen.flow_from_directory(validation_dir,\n",
    "                                                        target_size=(200,200),\n",
    "                                                        batch_size=100,\n",
    "                                                        class_mode='binary')"
   ]
  },
  {
   "cell_type": "code",
   "execution_count": 5,
   "metadata": {
    "scrolled": false
   },
   "outputs": [
    {
     "name": "stdout",
     "output_type": "stream",
     "text": [
      "Epoch 1/20\n",
      "15/15 [==============================] - 28s 2s/step - loss: 0.9985 - acc: 0.5527 - val_loss: 0.6506 - val_acc: 0.5400\n",
      "Epoch 2/20\n",
      "15/15 [==============================] - 17s 1s/step - loss: 0.7000 - acc: 0.6126 - val_loss: 0.5004 - val_acc: 0.7850\n",
      "Epoch 3/20\n",
      "15/15 [==============================] - 17s 1s/step - loss: 0.6076 - acc: 0.6586 - val_loss: 0.5359 - val_acc: 0.8200\n",
      "Epoch 4/20\n",
      "15/15 [==============================] - 16s 1s/step - loss: 0.5409 - acc: 0.7199 - val_loss: 0.4624 - val_acc: 0.8500\n",
      "Epoch 5/20\n",
      "15/15 [==============================] - 17s 1s/step - loss: 0.5047 - acc: 0.7647 - val_loss: 0.3645 - val_acc: 0.8450\n",
      "Epoch 6/20\n",
      "15/15 [==============================] - 15s 1s/step - loss: 0.4483 - acc: 0.7999 - val_loss: 0.3346 - val_acc: 0.8650\n",
      "Epoch 7/20\n",
      "15/15 [==============================] - 16s 1s/step - loss: 0.4273 - acc: 0.8199 - val_loss: 0.2803 - val_acc: 0.8800\n",
      "Epoch 8/20\n",
      "15/15 [==============================] - 16s 1s/step - loss: 0.4308 - acc: 0.8180 - val_loss: 0.3266 - val_acc: 0.8600\n",
      "Epoch 9/20\n",
      "15/15 [==============================] - 16s 1s/step - loss: 0.4218 - acc: 0.8267 - val_loss: 0.3297 - val_acc: 0.8800\n",
      "Epoch 10/20\n",
      "15/15 [==============================] - 15s 991ms/step - loss: 0.4477 - acc: 0.8259 - val_loss: 0.3487 - val_acc: 0.8800\n",
      "Epoch 11/20\n",
      "15/15 [==============================] - 16s 1s/step - loss: 0.4103 - acc: 0.8094 - val_loss: 0.2861 - val_acc: 0.9000\n",
      "Epoch 12/20\n",
      "15/15 [==============================] - 16s 1s/step - loss: 0.3993 - acc: 0.8233 - val_loss: 0.2886 - val_acc: 0.8700\n",
      "Epoch 13/20\n",
      "15/15 [==============================] - 15s 1s/step - loss: 0.4201 - acc: 0.8187 - val_loss: 0.2941 - val_acc: 0.9000\n",
      "Epoch 14/20\n",
      "15/15 [==============================] - 16s 1s/step - loss: 0.3742 - acc: 0.8420 - val_loss: 0.2623 - val_acc: 0.8900\n",
      "Epoch 15/20\n",
      "15/15 [==============================] - 15s 1s/step - loss: 0.3526 - acc: 0.8407 - val_loss: 0.2641 - val_acc: 0.8900\n",
      "Epoch 16/20\n",
      "15/15 [==============================] - 15s 1s/step - loss: 0.3462 - acc: 0.8460 - val_loss: 0.2472 - val_acc: 0.8900\n",
      "Epoch 17/20\n",
      "15/15 [==============================] - 15s 1s/step - loss: 0.3586 - acc: 0.8422 - val_loss: 0.2413 - val_acc: 0.9050\n",
      "Epoch 18/20\n",
      "15/15 [==============================] - 17s 1s/step - loss: 0.3576 - acc: 0.8387 - val_loss: 0.2553 - val_acc: 0.9000\n",
      "Epoch 19/20\n",
      "15/15 [==============================] - 16s 1s/step - loss: 0.3677 - acc: 0.8233 - val_loss: 0.2557 - val_acc: 0.8950\n",
      "Epoch 20/20\n",
      "15/15 [==============================] - 16s 1s/step - loss: 0.3516 - acc: 0.8313 - val_loss: 0.2295 - val_acc: 0.9100\n"
     ]
    }
   ],
   "source": [
    "from keras.optimizers import Adam\n",
    "\n",
    "model.compile(loss='binary_crossentropy',\n",
    "                     optimizer=Adam(lr=1e-3),\n",
    "                     metrics=['acc'])\n",
    "\n",
    "history = model.fit_generator(train_generator,\n",
    "                                 steps_per_epoch=15,\n",
    "                                 epochs=20,\n",
    "                                 validation_data=validation_generator,\n",
    "                                 validation_steps=2)"
   ]
  },
  {
   "cell_type": "code",
   "execution_count": 6,
   "metadata": {},
   "outputs": [
    {
     "name": "stdout",
     "output_type": "stream",
     "text": [
      "Epoch 1/20\n",
      "15/15 [==============================] - 18s 1s/step - loss: 0.3595 - acc: 0.8228 - val_loss: 0.2247 - val_acc: 0.9050\n",
      "Epoch 2/20\n",
      "15/15 [==============================] - 17s 1s/step - loss: 0.3440 - acc: 0.8467 - val_loss: 0.2319 - val_acc: 0.9050\n",
      "Epoch 3/20\n",
      "15/15 [==============================] - 17s 1s/step - loss: 0.2981 - acc: 0.8605 - val_loss: 0.2305 - val_acc: 0.8900\n",
      "Epoch 4/20\n",
      "15/15 [==============================] - 16s 1s/step - loss: 0.3298 - acc: 0.8482 - val_loss: 0.2279 - val_acc: 0.8950\n",
      "Epoch 5/20\n",
      "15/15 [==============================] - 16s 1s/step - loss: 0.3114 - acc: 0.8572 - val_loss: 0.2277 - val_acc: 0.9000\n",
      "Epoch 6/20\n",
      "15/15 [==============================] - 16s 1s/step - loss: 0.3173 - acc: 0.8573 - val_loss: 0.2292 - val_acc: 0.8850\n",
      "Epoch 7/20\n",
      "15/15 [==============================] - 16s 1s/step - loss: 0.3034 - acc: 0.8559 - val_loss: 0.2273 - val_acc: 0.8950\n",
      "Epoch 8/20\n",
      "15/15 [==============================] - 16s 1s/step - loss: 0.3000 - acc: 0.8688 - val_loss: 0.2278 - val_acc: 0.8950\n",
      "Epoch 9/20\n",
      "15/15 [==============================] - 16s 1s/step - loss: 0.2911 - acc: 0.8760 - val_loss: 0.2313 - val_acc: 0.8900\n",
      "Epoch 10/20\n",
      "15/15 [==============================] - 15s 1s/step - loss: 0.3266 - acc: 0.8562 - val_loss: 0.2304 - val_acc: 0.8900\n",
      "Epoch 11/20\n",
      "15/15 [==============================] - 15s 999ms/step - loss: 0.3025 - acc: 0.8686 - val_loss: 0.2299 - val_acc: 0.9000\n",
      "Epoch 12/20\n",
      "15/15 [==============================] - 16s 1s/step - loss: 0.2871 - acc: 0.8653 - val_loss: 0.2236 - val_acc: 0.9000\n",
      "Epoch 13/20\n",
      "15/15 [==============================] - 16s 1s/step - loss: 0.3032 - acc: 0.8672 - val_loss: 0.2252 - val_acc: 0.8850\n",
      "Epoch 14/20\n",
      "15/15 [==============================] - 15s 1s/step - loss: 0.3100 - acc: 0.8671 - val_loss: 0.2269 - val_acc: 0.8950\n",
      "Epoch 15/20\n",
      "15/15 [==============================] - 16s 1s/step - loss: 0.2939 - acc: 0.8674 - val_loss: 0.2292 - val_acc: 0.8900\n",
      "Epoch 16/20\n",
      "15/15 [==============================] - 15s 1s/step - loss: 0.3105 - acc: 0.8607 - val_loss: 0.2300 - val_acc: 0.8800\n",
      "Epoch 17/20\n",
      "15/15 [==============================] - 15s 1s/step - loss: 0.2892 - acc: 0.8827 - val_loss: 0.2245 - val_acc: 0.9050\n",
      "Epoch 18/20\n",
      "15/15 [==============================] - 17s 1s/step - loss: 0.3063 - acc: 0.8781 - val_loss: 0.2295 - val_acc: 0.8950\n",
      "Epoch 19/20\n",
      "15/15 [==============================] - 17s 1s/step - loss: 0.3047 - acc: 0.8755 - val_loss: 0.2304 - val_acc: 0.8950\n",
      "Epoch 20/20\n",
      "15/15 [==============================] - 16s 1s/step - loss: 0.2895 - acc: 0.8887 - val_loss: 0.2268 - val_acc: 0.8950\n"
     ]
    }
   ],
   "source": [
    "model.compile(loss='binary_crossentropy',\n",
    "                     optimizer=Adam(lr=1e-4),\n",
    "                     metrics=['acc'])\n",
    "\n",
    "history_pt2 = model.fit_generator(train_generator,\n",
    "                                 steps_per_epoch=15,\n",
    "                                 epochs=20,\n",
    "                                 validation_data=validation_generator,\n",
    "                                 validation_steps=2)\n",
    "\n",
    "model.save('vgg_frozen_convbase.h5')"
   ]
  },
  {
   "cell_type": "code",
   "execution_count": 7,
   "metadata": {},
   "outputs": [
    {
     "data": {
      "text/plain": [
       "<matplotlib.legend.Legend at 0x7f15e4192208>"
      ]
     },
     "execution_count": 7,
     "metadata": {},
     "output_type": "execute_result"
    },
    {
     "data": {
      "image/png": "[encoded data removed]",
      "text/plain": [
       "<matplotlib.figure.Figure at 0x7f15e71a43c8>"
      ]
     },
     "metadata": {},
     "output_type": "display_data"
    }
   ],
   "source": [
    "import matplotlib.pyplot as plt\n",
    "%matplotlib inline\n",
    "\n",
    "f, axes = plt.subplots(2,1)\n",
    "\n",
    "f.set_size_inches(8,8)\n",
    "\n",
    "nb_epochs = len(history.epoch)\n",
    "concatenated = history.epoch + [nb_epochs + epoch_number for epoch_number in history_pt2.epoch]\n",
    "\n",
    "axes[0].plot(concatenated, history.history['loss'] + history_pt2.history['loss'], label='loss')\n",
    "axes[0].plot(concatenated, history.history['val_loss'] + history_pt2.history['val_loss'], label='val_loss')\n",
    "axes[0].legend()\n",
    "\n",
    "axes[1].plot(concatenated, history.history['acc'] + history_pt2.history['acc'], label='acc')\n",
    "axes[1].plot(concatenated, history.history['val_acc'] + history_pt2.history['val_acc'], label='val_acc')\n",
    "axes[1].legend()"
   ]
  },
  {
   "cell_type": "markdown",
   "metadata": {},
   "source": [
    "### Fine Tuning"
   ]
  },
  {
   "cell_type": "code",
   "execution_count": 8,
   "metadata": {},
   "outputs": [
    {
     "name": "stdout",
     "output_type": "stream",
     "text": [
      "_________________________________________________________________\n",
      "Layer (type)                 Output Shape              Param #   \n",
      "=================================================================\n",
      "input_1 (InputLayer)         (None, 200, 200, 3)       0         \n",
      "_________________________________________________________________\n",
      "block1_conv1 (Conv2D)        (None, 200, 200, 64)      1792      \n",
      "_________________________________________________________________\n",
      "block1_conv2 (Conv2D)        (None, 200, 200, 64)      36928     \n",
      "_________________________________________________________________\n",
      "block1_pool (MaxPooling2D)   (None, 100, 100, 64)      0         \n",
      "_________________________________________________________________\n",
      "block2_conv1 (Conv2D)        (None, 100, 100, 128)     73856     \n",
      "_________________________________________________________________\n",
      "block2_conv2 (Conv2D)        (None, 100, 100, 128)     147584    \n",
      "_________________________________________________________________\n",
      "block2_pool (MaxPooling2D)   (None, 50, 50, 128)       0         \n",
      "_________________________________________________________________\n",
      "block3_conv1 (Conv2D)        (None, 50, 50, 256)       295168    \n",
      "_________________________________________________________________\n",
      "block3_conv2 (Conv2D)        (None, 50, 50, 256)       590080    \n",
      "_________________________________________________________________\n",
      "block3_conv3 (Conv2D)        (None, 50, 50, 256)       590080    \n",
      "_________________________________________________________________\n",
      "block3_pool (MaxPooling2D)   (None, 25, 25, 256)       0         \n",
      "_________________________________________________________________\n",
      "block4_conv1 (Conv2D)        (None, 25, 25, 512)       1180160   \n",
      "_________________________________________________________________\n",
      "block4_conv2 (Conv2D)        (None, 25, 25, 512)       2359808   \n",
      "_________________________________________________________________\n",
      "block4_conv3 (Conv2D)        (None, 25, 25, 512)       2359808   \n",
      "_________________________________________________________________\n",
      "block4_pool (MaxPooling2D)   (None, 12, 12, 512)       0         \n",
      "_________________________________________________________________\n",
      "block5_conv1 (Conv2D)        (None, 12, 12, 512)       2359808   \n",
      "_________________________________________________________________\n",
      "block5_conv2 (Conv2D)        (None, 12, 12, 512)       2359808   \n",
      "_________________________________________________________________\n",
      "block5_conv3 (Conv2D)        (None, 12, 12, 512)       2359808   \n",
      "_________________________________________________________________\n",
      "block5_pool (MaxPooling2D)   (None, 6, 6, 512)         0         \n",
      "=================================================================\n",
      "Total params: 14,714,688\n",
      "Trainable params: 0\n",
      "Non-trainable params: 14,714,688\n",
      "_________________________________________________________________\n"
     ]
    }
   ],
   "source": [
    "# The VGG16 inside my model:\n",
    "\n",
    "model.layers[0].summary()"
   ]
  },
  {
   "cell_type": "code",
   "execution_count": 9,
   "metadata": {},
   "outputs": [],
   "source": [
    "for layer in model.layers[0].layers:\n",
    "    if 'block5' in layer.name: \n",
    "        layer.trainable = True\n",
    "    else: \n",
    "        layer.trainable = False\n",
    "        \n",
    "# Set the vgg as a whole to trainable:        \n",
    "model.layers[0].trainable = True   "
   ]
  },
  {
   "cell_type": "code",
   "execution_count": 10,
   "metadata": {},
   "outputs": [
    {
     "data": {
      "text/plain": [
       "[False,\n",
       " False,\n",
       " False,\n",
       " False,\n",
       " False,\n",
       " False,\n",
       " False,\n",
       " False,\n",
       " False,\n",
       " False,\n",
       " False,\n",
       " False,\n",
       " False,\n",
       " False,\n",
       " False,\n",
       " True,\n",
       " True,\n",
       " True,\n",
       " True]"
      ]
     },
     "execution_count": 10,
     "metadata": {},
     "output_type": "execute_result"
    }
   ],
   "source": [
    "[layer.trainable for layer in model.layers[0].layers]"
   ]
  },
  {
   "cell_type": "markdown",
   "metadata": {},
   "source": [
    "Now we keep training the model. This time we will be updating the top few layers. We want to reduce the learning rate in order to keep them from 'flailing around'\n",
    "\n",
    "At first the loss and accuracy get worse, but they will start improving soon enough."
   ]
  },
  {
   "cell_type": "code",
   "execution_count": 11,
   "metadata": {
    "scrolled": false
   },
   "outputs": [
    {
     "name": "stdout",
     "output_type": "stream",
     "text": [
      "Epoch 1/10\n",
      "15/15 [==============================] - 18s 1s/step - loss: 0.2943 - acc: 0.8753 - val_loss: 0.2299 - val_acc: 0.8750\n",
      "Epoch 2/10\n",
      "15/15 [==============================] - 17s 1s/step - loss: 0.2851 - acc: 0.8766 - val_loss: 0.2233 - val_acc: 0.9050\n",
      "Epoch 3/10\n",
      "15/15 [==============================] - 17s 1s/step - loss: 0.2696 - acc: 0.8919 - val_loss: 0.2179 - val_acc: 0.9150\n",
      "Epoch 4/10\n",
      "15/15 [==============================] - 17s 1s/step - loss: 0.2578 - acc: 0.8867 - val_loss: 0.2121 - val_acc: 0.9250\n",
      "Epoch 5/10\n",
      "15/15 [==============================] - 17s 1s/step - loss: 0.3000 - acc: 0.8788 - val_loss: 0.2131 - val_acc: 0.9100\n",
      "Epoch 6/10\n",
      "15/15 [==============================] - 16s 1s/step - loss: 0.2322 - acc: 0.9012 - val_loss: 0.2126 - val_acc: 0.9250\n",
      "Epoch 7/10\n",
      "15/15 [==============================] - 16s 1s/step - loss: 0.2327 - acc: 0.9127 - val_loss: 0.2169 - val_acc: 0.9200\n",
      "Epoch 8/10\n",
      "15/15 [==============================] - 16s 1s/step - loss: 0.2708 - acc: 0.8893 - val_loss: 0.2126 - val_acc: 0.9200\n",
      "Epoch 9/10\n",
      "15/15 [==============================] - 16s 1s/step - loss: 0.2161 - acc: 0.9134 - val_loss: 0.2110 - val_acc: 0.9300\n",
      "Epoch 10/10\n",
      "15/15 [==============================] - 15s 1s/step - loss: 0.2453 - acc: 0.9053 - val_loss: 0.2061 - val_acc: 0.9200\n"
     ]
    }
   ],
   "source": [
    "model.compile(loss='binary_crossentropy',\n",
    "                     optimizer=Adam(lr=1e-5),\n",
    "                     metrics=['acc'])\n",
    "\n",
    "history = model.fit_generator(train_generator,\n",
    "                                 steps_per_epoch=15,\n",
    "                                 epochs=10,\n",
    "                                 validation_data=validation_generator,\n",
    "                                 validation_steps=2)\n",
    "\n",
    "model.save('vgg_unfrozen_convbase_10epochs.h5')"
   ]
  },
  {
   "cell_type": "code",
   "execution_count": 12,
   "metadata": {},
   "outputs": [
    {
     "name": "stdout",
     "output_type": "stream",
     "text": [
      "Epoch 1/10\n",
      "15/15 [==============================] - 18s 1s/step - loss: 0.2264 - acc: 0.9134 - val_loss: 0.2032 - val_acc: 0.9300\n",
      "Epoch 2/10\n",
      "15/15 [==============================] - 18s 1s/step - loss: 0.2206 - acc: 0.9053 - val_loss: 0.2183 - val_acc: 0.9050\n",
      "Epoch 3/10\n",
      "15/15 [==============================] - 17s 1s/step - loss: 0.2146 - acc: 0.9206 - val_loss: 0.2041 - val_acc: 0.9350\n",
      "Epoch 4/10\n",
      "15/15 [==============================] - 17s 1s/step - loss: 0.2018 - acc: 0.9173 - val_loss: 0.2036 - val_acc: 0.9350\n",
      "Epoch 5/10\n",
      "15/15 [==============================] - 17s 1s/step - loss: 0.1769 - acc: 0.9360 - val_loss: 0.2083 - val_acc: 0.9350\n",
      "Epoch 6/10\n",
      "15/15 [==============================] - 16s 1s/step - loss: 0.1797 - acc: 0.9313 - val_loss: 0.2078 - val_acc: 0.9350\n",
      "Epoch 7/10\n",
      "15/15 [==============================] - 16s 1s/step - loss: 0.1983 - acc: 0.9333 - val_loss: 0.2000 - val_acc: 0.9300\n",
      "Epoch 8/10\n",
      "15/15 [==============================] - 16s 1s/step - loss: 0.1845 - acc: 0.9241 - val_loss: 0.2037 - val_acc: 0.9300\n",
      "Epoch 9/10\n",
      "15/15 [==============================] - 16s 1s/step - loss: 0.1788 - acc: 0.9294 - val_loss: 0.2042 - val_acc: 0.9350\n",
      "Epoch 10/10\n",
      "15/15 [==============================] - 16s 1s/step - loss: 0.1810 - acc: 0.9353 - val_loss: 0.2078 - val_acc: 0.9350\n"
     ]
    }
   ],
   "source": [
    "model.compile(loss='binary_crossentropy',\n",
    "                     optimizer=Adam(lr=1e-5),\n",
    "                     metrics=['acc'])\n",
    "\n",
    "history_pt2 = model.fit_generator(train_generator,\n",
    "                                 steps_per_epoch=15,\n",
    "                                 epochs=10,\n",
    "                                 validation_data=validation_generator,\n",
    "                                 validation_steps=2)\n",
    "\n",
    "model.save('vgg_unfrozen_convbase_20epochs.h5')"
   ]
  },
  {
   "cell_type": "code",
   "execution_count": 13,
   "metadata": {},
   "outputs": [
    {
     "data": {
      "text/plain": [
       "<matplotlib.legend.Legend at 0x7f15b4072cc0>"
      ]
     },
     "execution_count": 13,
     "metadata": {},
     "output_type": "execute_result"
    },
    {
     "data": {
      "image/png": "[encoded data removed]",
      "text/plain": [
       "<matplotlib.figure.Figure at 0x7f15b40f21d0>"
      ]
     },
     "metadata": {},
     "output_type": "display_data"
    }
   ],
   "source": [
    "f, axes = plt.subplots(2,1)\n",
    "\n",
    "f.set_size_inches(8,8)\n",
    "\n",
    "nb_epochs = len(history.epoch)\n",
    "concatenated = history.epoch + [nb_epochs + epoch_number for epoch_number in history_pt2.epoch]\n",
    "\n",
    "axes[0].plot(concatenated, history.history['loss'] + history_pt2.history['loss'], label='loss')\n",
    "axes[0].plot(concatenated, history.history['val_loss'] + history_pt2.history['val_loss'], label='val_loss')\n",
    "axes[0].legend()\n",
    "\n",
    "axes[1].plot(concatenated, history.history['acc'] + history_pt2.history['acc'], label='acc')\n",
    "axes[1].plot(concatenated, history.history['val_acc'] + history_pt2.history['val_acc'], label='val_acc')\n",
    "axes[1].legend()"
   ]
  },
  {
   "cell_type": "markdown",
   "metadata": {},
   "source": [
    "### ResNet50\n",
    "\n",
    "WTF?? It doesn't learn anything transferable at all!!"
   ]
  },
  {
   "cell_type": "code",
   "execution_count": null,
   "metadata": {},
   "outputs": [],
   "source": [
    "resnet = ResNet50(weights='imagenet', \n",
    "                  include_top=False, \n",
    "                  input_shape=(200,200,3))\n",
    "\n",
    "\n",
    "resnet.trainable = False\n",
    "\n",
    "othermodel = keras.Sequential()\n",
    "othermodel.add(resnet)\n",
    "othermodel.add(Flatten())\n",
    "othermodel.add(Dense(256, activation='relu'))\n",
    "othermodel.add(Dropout(0.5))\n",
    "othermodel.add(Dense(128, activation='relu'))\n",
    "othermodel.add(Dropout(0.5))\n",
    "othermodel.add(Dense(64, activation='relu'))\n",
    "othermodel.add(Dropout(0.5))\n",
    "othermodel.add(Dense(1, activation='sigmoid'))\n",
    "\n",
    "othermodel.summary()"
   ]
  },
  {
   "cell_type": "code",
   "execution_count": null,
   "metadata": {},
   "outputs": [],
   "source": [
    "othermodel.compile(loss='binary_crossentropy',\n",
    "                     optimizer=Adam(lr=1e-3),\n",
    "                     metrics=['acc'])\n",
    "\n",
    "history = othermodel.fit_generator(train_generator,\n",
    "                                 steps_per_epoch=50,\n",
    "                                 epochs=50,\n",
    "                                 validation_data=validation_generator,\n",
    "                                 validation_steps=2)"
   ]
  },
  {
   "cell_type": "code",
   "execution_count": null,
   "metadata": {},
   "outputs": [],
   "source": [
    "import matplotlib.pyplot as plt\n",
    "%matplotlib inline\n",
    "\n",
    "f, axes = plt.subplots(2,1)\n",
    "\n",
    "f.set_size_inches(8,8)\n",
    "\n",
    "\n",
    "axes[0].plot(history.epoch, history.history['loss'], label='loss')\n",
    "axes[0].plot(history.epoch, history.history['val_loss'], label='val_loss')\n",
    "axes[0].legend()\n",
    "\n",
    "axes[1].plot(history.epoch, history.history['acc'], label='acc')\n",
    "axes[1].plot(history.epoch, history.history['val_acc'], label='val_acc')\n",
    "axes[1].legend()"
   ]
  },
  {
   "cell_type": "code",
   "execution_count": null,
   "metadata": {},
   "outputs": [],
   "source": []
  }
 ],
 "metadata": {
  "kernelspec": {
   "display_name": "Python 3",
   "language": "python",
   "name": "python3"
  },
  "language_info": {
   "codemirror_mode": {
    "name": "ipython",
    "version": 3
   },
   "file_extension": ".py",
   "mimetype": "text/x-python",
   "name": "python",
   "nbconvert_exporter": "python",
   "pygments_lexer": "ipython3",
   "version": "3.6.4"
  }
 },
 "nbformat": 4,
 "nbformat_minor": 2
}
