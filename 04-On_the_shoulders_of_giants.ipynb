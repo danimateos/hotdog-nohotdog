{
 "cells": [
  {
   "cell_type": "markdown",
   "metadata": {},
   "source": [
    "# On the shoulders of giants"
   ]
  },
  {
   "cell_type": "markdown",
   "metadata": {},
   "source": [
    "TODO:\n",
    "    \n",
    "Implement SGD with restarts with Learning rate scheduler"
   ]
  },
  {
   "cell_type": "code",
   "execution_count": 1,
   "metadata": {},
   "outputs": [
    {
     "name": "stderr",
     "output_type": "stream",
     "text": [
      "Using TensorFlow backend.\n"
     ]
    }
   ],
   "source": [
    "import keras\n",
    "from keras import backend as K\n",
    "from keras.applications import VGG16, ResNet50"
   ]
  },
  {
   "cell_type": "code",
   "execution_count": 2,
   "metadata": {
    "scrolled": true
   },
   "outputs": [],
   "source": [
    "vgg = VGG16(weights='imagenet', \n",
    "            include_top=False, \n",
    "            input_shape=(200,200,3))"
   ]
  },
  {
   "cell_type": "code",
   "execution_count": 3,
   "metadata": {},
   "outputs": [
    {
     "name": "stdout",
     "output_type": "stream",
     "text": [
      "_________________________________________________________________\n",
      "Layer (type)                 Output Shape              Param #   \n",
      "=================================================================\n",
      "vgg16 (Model)                (None, 6, 6, 512)         14714688  \n",
      "_________________________________________________________________\n",
      "flatten_1 (Flatten)          (None, 18432)             0         \n",
      "_________________________________________________________________\n",
      "dense_1 (Dense)              (None, 256)               4718848   \n",
      "_________________________________________________________________\n",
      "dropout_1 (Dropout)          (None, 256)               0         \n",
      "_________________________________________________________________\n",
      "dense_2 (Dense)              (None, 128)               32896     \n",
      "_________________________________________________________________\n",
      "dropout_2 (Dropout)          (None, 128)               0         \n",
      "_________________________________________________________________\n",
      "dense_3 (Dense)              (None, 64)                8256      \n",
      "_________________________________________________________________\n",
      "dropout_3 (Dropout)          (None, 64)                0         \n",
      "_________________________________________________________________\n",
      "dense_4 (Dense)              (None, 1)                 65        \n",
      "=================================================================\n",
      "Total params: 19,474,753\n",
      "Trainable params: 4,760,065\n",
      "Non-trainable params: 14,714,688\n",
      "_________________________________________________________________\n"
     ]
    }
   ],
   "source": [
    "from keras.layers import Dense, Dropout, Flatten\n",
    "\n",
    "model = keras.Sequential()\n",
    "vgg.trainable = False\n",
    "model.add(vgg)\n",
    "model.add(Flatten())\n",
    "model.add(Dense(256, activation='relu'))\n",
    "model.add(Dropout(0.5))\n",
    "model.add(Dense(128, activation='relu'))\n",
    "model.add(Dropout(0.5))\n",
    "model.add(Dense(64, activation='relu'))\n",
    "model.add(Dropout(0.5))\n",
    "model.add(Dense(1, activation='sigmoid'))\n",
    "\n",
    "model.summary()"
   ]
  },
  {
   "cell_type": "markdown",
   "metadata": {},
   "source": [
    "ResNet50 requires at least 197x197 input, so in order to make a fair comparison we'll train both with those dimensions"
   ]
  },
  {
   "cell_type": "code",
   "execution_count": 4,
   "metadata": {},
   "outputs": [
    {
     "name": "stdout",
     "output_type": "stream",
     "text": [
      "Found 1550 images belonging to 2 classes.\n",
      "Found 393 images belonging to 2 classes.\n"
     ]
    }
   ],
   "source": [
    "from keras.preprocessing.image import ImageDataGenerator\n",
    "import os\n",
    "\n",
    "base_dir = 'data/'\n",
    "\n",
    "train_dir = os.path.join(base_dir, 'train')\n",
    "validation_dir = os.path.join(base_dir, 'validation')\n",
    "\n",
    "train_datagen = ImageDataGenerator(rescale=1 / 255,\n",
    "                                   rotation_range=40,\n",
    "                                   width_shift_range=0.2,\n",
    "                                   height_shift_range=0.2,\n",
    "                                   shear_range=0.2,\n",
    "                                   zoom_range=0.2,\n",
    "                                   horizontal_flip=True,\n",
    "                                   fill_mode='nearest')\n",
    "\n",
    "test_datagen = ImageDataGenerator(rescale=1 / 255)\n",
    "\n",
    "# Con batch size de 50 funcionaba mucho mejor, pero lo he tenido que bajar por memoria de la GPU\n",
    "train_generator = train_datagen.flow_from_directory(train_dir, \n",
    "                                                    target_size=(200,200),\n",
    "                                                    batch_size=100,\n",
    "                                                    class_mode='binary')\n",
    "\n",
    "validation_generator = test_datagen.flow_from_directory(validation_dir,\n",
    "                                                        target_size=(200,200),\n",
    "                                                        batch_size=100,\n",
    "                                                        class_mode='binary')"
   ]
  },
  {
   "cell_type": "code",
   "execution_count": 5,
   "metadata": {
    "scrolled": false
   },
   "outputs": [
    {
     "name": "stdout",
     "output_type": "stream",
     "text": [
      "Epoch 1/20\n",
      "15/15 [==============================] - 86s 6s/step - loss: 1.0664 - acc: 0.5267 - val_loss: 0.6599 - val_acc: 0.5450\n",
      "Epoch 2/20\n",
      "15/15 [==============================] - 22s 1s/step - loss: 0.7038 - acc: 0.5973 - val_loss: 0.5487 - val_acc: 0.8100\n",
      "Epoch 3/20\n",
      "15/15 [==============================] - 22s 1s/step - loss: 0.5721 - acc: 0.6887 - val_loss: 0.4919 - val_acc: 0.8150\n",
      "Epoch 4/20\n",
      "15/15 [==============================] - 20s 1s/step - loss: 0.5141 - acc: 0.7560 - val_loss: 0.4154 - val_acc: 0.8350\n",
      "Epoch 5/20\n",
      "15/15 [==============================] - 22s 1s/step - loss: 0.4955 - acc: 0.7680 - val_loss: 0.4046 - val_acc: 0.8500\n",
      "Epoch 6/20\n",
      "15/15 [==============================] - 21s 1s/step - loss: 0.4350 - acc: 0.8055 - val_loss: 0.3616 - val_acc: 0.8500\n",
      "Epoch 7/20\n",
      "15/15 [==============================] - 21s 1s/step - loss: 0.4358 - acc: 0.8020 - val_loss: 0.3845 - val_acc: 0.8200\n",
      "Epoch 8/20\n",
      "15/15 [==============================] - 19s 1s/step - loss: 0.4491 - acc: 0.7900 - val_loss: 0.3310 - val_acc: 0.8750\n",
      "Epoch 9/20\n",
      "15/15 [==============================] - 21s 1s/step - loss: 0.4158 - acc: 0.8193 - val_loss: 0.3066 - val_acc: 0.8850\n",
      "Epoch 10/20\n",
      "15/15 [==============================] - 20s 1s/step - loss: 0.4179 - acc: 0.8033 - val_loss: 0.3255 - val_acc: 0.8800\n",
      "Epoch 11/20\n",
      "15/15 [==============================] - 20s 1s/step - loss: 0.4081 - acc: 0.8307 - val_loss: 0.3090 - val_acc: 0.8700\n",
      "Epoch 12/20\n",
      "15/15 [==============================] - 21s 1s/step - loss: 0.3893 - acc: 0.8313 - val_loss: 0.2992 - val_acc: 0.8750\n",
      "Epoch 13/20\n",
      "15/15 [==============================] - 20s 1s/step - loss: 0.4011 - acc: 0.8093 - val_loss: 0.2874 - val_acc: 0.8850\n",
      "Epoch 14/20\n",
      "15/15 [==============================] - 20s 1s/step - loss: 0.4095 - acc: 0.8073 - val_loss: 0.2704 - val_acc: 0.8750\n",
      "Epoch 15/20\n",
      "15/15 [==============================] - 20s 1s/step - loss: 0.4010 - acc: 0.7940 - val_loss: 0.3286 - val_acc: 0.8550\n",
      "Epoch 16/20\n",
      "15/15 [==============================] - 20s 1s/step - loss: 0.3808 - acc: 0.8045 - val_loss: 0.3416 - val_acc: 0.8250\n",
      "Epoch 17/20\n",
      "15/15 [==============================] - 20s 1s/step - loss: 0.3942 - acc: 0.8199 - val_loss: 0.2861 - val_acc: 0.8650\n",
      "Epoch 18/20\n",
      "15/15 [==============================] - 21s 1s/step - loss: 0.3839 - acc: 0.8400 - val_loss: 0.2889 - val_acc: 0.8650\n",
      "Epoch 19/20\n",
      "15/15 [==============================] - 21s 1s/step - loss: 0.3496 - acc: 0.8259 - val_loss: 0.3013 - val_acc: 0.8600\n",
      "Epoch 20/20\n",
      "15/15 [==============================] - 20s 1s/step - loss: 0.3588 - acc: 0.8221 - val_loss: 0.2645 - val_acc: 0.8850\n"
     ]
    }
   ],
   "source": [
    "from keras.optimizers import Adam\n",
    "\n",
    "model.compile(loss='binary_crossentropy',\n",
    "                     optimizer=Adam(lr=1e-3),\n",
    "                     metrics=['acc'])\n",
    "\n",
    "history = model.fit_generator(train_generator,\n",
    "                                 steps_per_epoch=15,\n",
    "                                 epochs=20,\n",
    "                                 validation_data=validation_generator,\n",
    "                                 validation_steps=2)"
   ]
  },
  {
   "cell_type": "code",
   "execution_count": 6,
   "metadata": {},
   "outputs": [
    {
     "name": "stdout",
     "output_type": "stream",
     "text": [
      "Epoch 1/20\n",
      "15/15 [==============================] - 23s 2s/step - loss: 0.3450 - acc: 0.8455 - val_loss: 0.2826 - val_acc: 0.8700\n",
      "Epoch 2/20\n",
      "15/15 [==============================] - 21s 1s/step - loss: 0.3175 - acc: 0.8459 - val_loss: 0.2654 - val_acc: 0.8750\n",
      "Epoch 3/20\n",
      "15/15 [==============================] - 20s 1s/step - loss: 0.3160 - acc: 0.8405 - val_loss: 0.2680 - val_acc: 0.8750\n",
      "Epoch 4/20\n",
      "15/15 [==============================] - 20s 1s/step - loss: 0.3292 - acc: 0.8372 - val_loss: 0.2732 - val_acc: 0.8600\n",
      "Epoch 5/20\n",
      "15/15 [==============================] - 22s 1s/step - loss: 0.3268 - acc: 0.8440 - val_loss: 0.2797 - val_acc: 0.8700\n",
      "Epoch 6/20\n",
      "15/15 [==============================] - 20s 1s/step - loss: 0.3000 - acc: 0.8654 - val_loss: 0.2763 - val_acc: 0.8750\n",
      "Epoch 7/20\n",
      "15/15 [==============================] - 21s 1s/step - loss: 0.3193 - acc: 0.8641 - val_loss: 0.2671 - val_acc: 0.8750\n",
      "Epoch 8/20\n",
      "15/15 [==============================] - 22s 1s/step - loss: 0.3228 - acc: 0.8627 - val_loss: 0.2613 - val_acc: 0.8800\n",
      "Epoch 9/20\n",
      "15/15 [==============================] - 21s 1s/step - loss: 0.3038 - acc: 0.8613 - val_loss: 0.2747 - val_acc: 0.8600\n",
      "Epoch 10/20\n",
      "15/15 [==============================] - 21s 1s/step - loss: 0.3068 - acc: 0.8721 - val_loss: 0.2695 - val_acc: 0.8800\n",
      "Epoch 11/20\n",
      "15/15 [==============================] - 20s 1s/step - loss: 0.2917 - acc: 0.8646 - val_loss: 0.2647 - val_acc: 0.8800\n",
      "Epoch 12/20\n",
      "15/15 [==============================] - 21s 1s/step - loss: 0.3003 - acc: 0.8534 - val_loss: 0.2618 - val_acc: 0.8850\n",
      "Epoch 13/20\n",
      "15/15 [==============================] - 22s 1s/step - loss: 0.2930 - acc: 0.8640 - val_loss: 0.2712 - val_acc: 0.8900\n",
      "Epoch 14/20\n",
      "15/15 [==============================] - 21s 1s/step - loss: 0.2940 - acc: 0.8640 - val_loss: 0.2728 - val_acc: 0.8750\n",
      "Epoch 15/20\n",
      "15/15 [==============================] - 21s 1s/step - loss: 0.3026 - acc: 0.8655 - val_loss: 0.2620 - val_acc: 0.8800\n",
      "Epoch 16/20\n",
      "15/15 [==============================] - 20s 1s/step - loss: 0.3175 - acc: 0.8653 - val_loss: 0.2636 - val_acc: 0.8850\n",
      "Epoch 17/20\n",
      "15/15 [==============================] - 20s 1s/step - loss: 0.2860 - acc: 0.8726 - val_loss: 0.2624 - val_acc: 0.8800\n",
      "Epoch 18/20\n",
      "15/15 [==============================] - 22s 1s/step - loss: 0.3017 - acc: 0.8593 - val_loss: 0.2650 - val_acc: 0.8750\n",
      "Epoch 19/20\n",
      "15/15 [==============================] - 21s 1s/step - loss: 0.2930 - acc: 0.8687 - val_loss: 0.2624 - val_acc: 0.8700\n",
      "Epoch 20/20\n",
      "15/15 [==============================] - 20s 1s/step - loss: 0.3026 - acc: 0.8712 - val_loss: 0.2702 - val_acc: 0.8800\n"
     ]
    }
   ],
   "source": [
    "model.compile(loss='binary_crossentropy',\n",
    "                     optimizer=Adam(lr=1e-4),\n",
    "                     metrics=['acc'])\n",
    "\n",
    "history_pt2 = model.fit_generator(train_generator,\n",
    "                                 steps_per_epoch=15,\n",
    "                                 epochs=20,\n",
    "                                 validation_data=validation_generator,\n",
    "                                 validation_steps=2)\n",
    "\n",
    "model.save('vgg_frozen_convbase.h5')"
   ]
  },
  {
   "cell_type": "code",
   "execution_count": 7,
   "metadata": {},
   "outputs": [
    {
     "data": {
      "text/plain": [
       "<matplotlib.legend.Legend at 0x7f14686449e8>"
      ]
     },
     "execution_count": 7,
     "metadata": {},
     "output_type": "execute_result"
    },
    {
     "data": {
      "image/png": "[encoded data removed]",
      "text/plain": [
       "<matplotlib.figure.Figure at 0x7f148c3f4a58>"
      ]
     },
     "metadata": {},
     "output_type": "display_data"
    }
   ],
   "source": [
    "import matplotlib.pyplot as plt\n",
    "%matplotlib inline\n",
    "\n",
    "f, axes = plt.subplots(2,1)\n",
    "\n",
    "f.set_size_inches(8,8)\n",
    "\n",
    "nb_epochs = len(history.epoch)\n",
    "concatenated = history.epoch + [nb_epochs + epoch_number for epoch_number in history_pt2.epoch]\n",
    "\n",
    "axes[0].plot(concatenated, history.history['loss'] + history_pt2.history['loss'], label='loss')\n",
    "axes[0].plot(concatenated, history.history['val_loss'] + history_pt2.history['val_loss'], label='val_loss')\n",
    "axes[0].legend()\n",
    "\n",
    "axes[1].plot(concatenated, history.history['acc'] + history_pt2.history['acc'], label='acc')\n",
    "axes[1].plot(concatenated, history.history['val_acc'] + history_pt2.history['val_acc'], label='val_acc')\n",
    "axes[1].legend()"
   ]
  },
  {
   "cell_type": "markdown",
   "metadata": {},
   "source": [
    "### Fine Tuning"
   ]
  },
  {
   "cell_type": "code",
   "execution_count": 8,
   "metadata": {},
   "outputs": [
    {
     "name": "stdout",
     "output_type": "stream",
     "text": [
      "_________________________________________________________________\n",
      "Layer (type)                 Output Shape              Param #   \n",
      "=================================================================\n",
      "input_1 (InputLayer)         (None, 200, 200, 3)       0         \n",
      "_________________________________________________________________\n",
      "block1_conv1 (Conv2D)        (None, 200, 200, 64)      1792      \n",
      "_________________________________________________________________\n",
      "block1_conv2 (Conv2D)        (None, 200, 200, 64)      36928     \n",
      "_________________________________________________________________\n",
      "block1_pool (MaxPooling2D)   (None, 100, 100, 64)      0         \n",
      "_________________________________________________________________\n",
      "block2_conv1 (Conv2D)        (None, 100, 100, 128)     73856     \n",
      "_________________________________________________________________\n",
      "block2_conv2 (Conv2D)        (None, 100, 100, 128)     147584    \n",
      "_________________________________________________________________\n",
      "block2_pool (MaxPooling2D)   (None, 50, 50, 128)       0         \n",
      "_________________________________________________________________\n",
      "block3_conv1 (Conv2D)        (None, 50, 50, 256)       295168    \n",
      "_________________________________________________________________\n",
      "block3_conv2 (Conv2D)        (None, 50, 50, 256)       590080    \n",
      "_________________________________________________________________\n",
      "block3_conv3 (Conv2D)        (None, 50, 50, 256)       590080    \n",
      "_________________________________________________________________\n",
      "block3_pool (MaxPooling2D)   (None, 25, 25, 256)       0         \n",
      "_________________________________________________________________\n",
      "block4_conv1 (Conv2D)        (None, 25, 25, 512)       1180160   \n",
      "_________________________________________________________________\n",
      "block4_conv2 (Conv2D)        (None, 25, 25, 512)       2359808   \n",
      "_________________________________________________________________\n",
      "block4_conv3 (Conv2D)        (None, 25, 25, 512)       2359808   \n",
      "_________________________________________________________________\n",
      "block4_pool (MaxPooling2D)   (None, 12, 12, 512)       0         \n",
      "_________________________________________________________________\n",
      "block5_conv1 (Conv2D)        (None, 12, 12, 512)       2359808   \n",
      "_________________________________________________________________\n",
      "block5_conv2 (Conv2D)        (None, 12, 12, 512)       2359808   \n",
      "_________________________________________________________________\n",
      "block5_conv3 (Conv2D)        (None, 12, 12, 512)       2359808   \n",
      "_________________________________________________________________\n",
      "block5_pool (MaxPooling2D)   (None, 6, 6, 512)         0         \n",
      "=================================================================\n",
      "Total params: 14,714,688\n",
      "Trainable params: 0\n",
      "Non-trainable params: 14,714,688\n",
      "_________________________________________________________________\n"
     ]
    }
   ],
   "source": [
    "# The VGG16 inside my model:\n",
    "\n",
    "model.layers[0].summary()"
   ]
  },
  {
   "cell_type": "code",
   "execution_count": 9,
   "metadata": {},
   "outputs": [],
   "source": [
    "for layer in model.layers[0].layers:\n",
    "    if 'block5' in layer.name: \n",
    "        layer.trainable = True\n",
    "    else: \n",
    "        layer.trainable = False\n",
    "        \n",
    "model.layers[0].trainable = True   "
   ]
  },
  {
   "cell_type": "code",
   "execution_count": 10,
   "metadata": {},
   "outputs": [
    {
     "data": {
      "text/plain": [
       "[False,\n",
       " False,\n",
       " False,\n",
       " False,\n",
       " False,\n",
       " False,\n",
       " False,\n",
       " False,\n",
       " False,\n",
       " False,\n",
       " False,\n",
       " False,\n",
       " False,\n",
       " False,\n",
       " False,\n",
       " True,\n",
       " True,\n",
       " True,\n",
       " True]"
      ]
     },
     "execution_count": 10,
     "metadata": {},
     "output_type": "execute_result"
    }
   ],
   "source": [
    "[layer.trainable for layer in model.layers[0].layers]"
   ]
  },
  {
   "cell_type": "markdown",
   "metadata": {},
   "source": [
    "Now we keep training the model. This time we will be updating the top few layers. We want to reduce the learning rate in order to keep them from 'flailing around'\n",
    "\n",
    "At first the loss and accuracy get worse, but they will start improving soon enough."
   ]
  },
  {
   "cell_type": "code",
   "execution_count": 11,
   "metadata": {
    "scrolled": false
   },
   "outputs": [
    {
     "name": "stdout",
     "output_type": "stream",
     "text": [
      "Epoch 1/40\n",
      "25/25 [==============================] - 36s 1s/step - loss: 0.6025 - acc: 0.6200 - val_loss: 0.4931 - val_acc: 0.6150\n",
      "Epoch 2/40\n",
      "25/25 [==============================] - 34s 1s/step - loss: 0.3727 - acc: 0.8148 - val_loss: 0.2303 - val_acc: 0.9350\n",
      "Epoch 3/40\n",
      "25/25 [==============================] - 34s 1s/step - loss: 0.2677 - acc: 0.8984 - val_loss: 0.3267 - val_acc: 0.8750\n",
      "Epoch 4/40\n",
      "25/25 [==============================] - 34s 1s/step - loss: 0.2109 - acc: 0.9200 - val_loss: 0.4454 - val_acc: 0.8400\n",
      "Epoch 5/40\n",
      "25/25 [==============================] - 34s 1s/step - loss: 0.2469 - acc: 0.8988 - val_loss: 0.2746 - val_acc: 0.9150\n",
      "Epoch 6/40\n",
      "25/25 [==============================] - 34s 1s/step - loss: 0.2215 - acc: 0.9148 - val_loss: 0.1835 - val_acc: 0.9400\n",
      "Epoch 7/40\n",
      "25/25 [==============================] - 33s 1s/step - loss: 0.1464 - acc: 0.9411 - val_loss: 0.2094 - val_acc: 0.9500\n",
      "Epoch 8/40\n",
      "25/25 [==============================] - 36s 1s/step - loss: 0.1131 - acc: 0.9548 - val_loss: 0.1973 - val_acc: 0.9500\n",
      "Epoch 9/40\n",
      "25/25 [==============================] - 34s 1s/step - loss: 0.1079 - acc: 0.9592 - val_loss: 0.1801 - val_acc: 0.9500\n",
      "Epoch 10/40\n",
      "25/25 [==============================] - 35s 1s/step - loss: 0.1227 - acc: 0.9540 - val_loss: 0.2450 - val_acc: 0.9500\n",
      "Epoch 11/40\n",
      "25/25 [==============================] - 34s 1s/step - loss: 0.0779 - acc: 0.9696 - val_loss: 0.2338 - val_acc: 0.9300\n",
      "Epoch 12/40\n",
      "25/25 [==============================] - 34s 1s/step - loss: 0.0868 - acc: 0.9712 - val_loss: 0.2854 - val_acc: 0.9350\n",
      "Epoch 13/40\n",
      "25/25 [==============================] - 34s 1s/step - loss: 0.0749 - acc: 0.9728 - val_loss: 0.2801 - val_acc: 0.9250\n",
      "Epoch 14/40\n",
      "25/25 [==============================] - 33s 1s/step - loss: 0.0739 - acc: 0.9752 - val_loss: 0.2360 - val_acc: 0.9200\n",
      "Epoch 15/40\n",
      "25/25 [==============================] - 35s 1s/step - loss: 0.0807 - acc: 0.9744 - val_loss: 0.1718 - val_acc: 0.9350\n",
      "Epoch 16/40\n",
      "25/25 [==============================] - 35s 1s/step - loss: 0.0862 - acc: 0.9736 - val_loss: 0.2215 - val_acc: 0.9300\n",
      "Epoch 17/40\n",
      "25/25 [==============================] - 33s 1s/step - loss: 0.0795 - acc: 0.9748 - val_loss: 0.2464 - val_acc: 0.9350\n",
      "Epoch 18/40\n",
      "25/25 [==============================] - 33s 1s/step - loss: 0.0644 - acc: 0.9780 - val_loss: 0.2319 - val_acc: 0.9400\n",
      "Epoch 19/40\n",
      "25/25 [==============================] - 32s 1s/step - loss: 0.0554 - acc: 0.9836 - val_loss: 0.1823 - val_acc: 0.9500\n",
      "Epoch 20/40\n",
      "25/25 [==============================] - 33s 1s/step - loss: 0.0752 - acc: 0.9752 - val_loss: 0.3416 - val_acc: 0.9300\n",
      "Epoch 21/40\n",
      "25/25 [==============================] - 33s 1s/step - loss: 0.0572 - acc: 0.9800 - val_loss: 0.2736 - val_acc: 0.9500\n",
      "Epoch 22/40\n",
      "25/25 [==============================] - 34s 1s/step - loss: 0.0456 - acc: 0.9888 - val_loss: 0.3691 - val_acc: 0.9350\n",
      "Epoch 23/40\n",
      "25/25 [==============================] - 33s 1s/step - loss: 0.0511 - acc: 0.9828 - val_loss: 0.2393 - val_acc: 0.9550\n",
      "Epoch 24/40\n",
      "25/25 [==============================] - 35s 1s/step - loss: 0.0820 - acc: 0.9768 - val_loss: 0.3187 - val_acc: 0.9150\n",
      "Epoch 25/40\n",
      "25/25 [==============================] - 34s 1s/step - loss: 0.0411 - acc: 0.9852 - val_loss: 0.2846 - val_acc: 0.9300\n",
      "Epoch 26/40\n",
      "25/25 [==============================] - 35s 1s/step - loss: 0.0509 - acc: 0.9832 - val_loss: 0.3704 - val_acc: 0.9350\n",
      "Epoch 27/40\n",
      "25/25 [==============================] - 32s 1s/step - loss: 0.0355 - acc: 0.9900 - val_loss: 0.3197 - val_acc: 0.9400\n",
      "Epoch 28/40\n",
      "25/25 [==============================] - 33s 1s/step - loss: 0.0274 - acc: 0.9924 - val_loss: 0.3309 - val_acc: 0.9450\n",
      "Epoch 29/40\n",
      "25/25 [==============================] - 32s 1s/step - loss: 0.0346 - acc: 0.9916 - val_loss: 0.3019 - val_acc: 0.9350\n",
      "Epoch 30/40\n",
      "25/25 [==============================] - 33s 1s/step - loss: 0.0333 - acc: 0.9908 - val_loss: 0.2907 - val_acc: 0.9400\n",
      "Epoch 31/40\n",
      "25/25 [==============================] - 35s 1s/step - loss: 0.0355 - acc: 0.9880 - val_loss: 0.3335 - val_acc: 0.9100\n",
      "Epoch 32/40\n",
      "25/25 [==============================] - 34s 1s/step - loss: 0.0323 - acc: 0.9900 - val_loss: 0.3679 - val_acc: 0.9500\n",
      "Epoch 33/40\n",
      "25/25 [==============================] - 34s 1s/step - loss: 0.0319 - acc: 0.9896 - val_loss: 0.3539 - val_acc: 0.9450\n",
      "Epoch 34/40\n",
      "25/25 [==============================] - 34s 1s/step - loss: 0.0310 - acc: 0.9904 - val_loss: 0.2798 - val_acc: 0.9500\n",
      "Epoch 35/40\n",
      "25/25 [==============================] - 34s 1s/step - loss: 0.0465 - acc: 0.9868 - val_loss: 0.3714 - val_acc: 0.9400\n",
      "Epoch 36/40\n",
      "25/25 [==============================] - 35s 1s/step - loss: 0.0462 - acc: 0.9856 - val_loss: 0.4081 - val_acc: 0.9300\n",
      "Epoch 37/40\n",
      "25/25 [==============================] - 34s 1s/step - loss: 0.0505 - acc: 0.9852 - val_loss: 0.3974 - val_acc: 0.9050\n",
      "Epoch 38/40\n",
      "25/25 [==============================] - 33s 1s/step - loss: 0.0275 - acc: 0.9912 - val_loss: 0.2919 - val_acc: 0.9500\n",
      "Epoch 39/40\n",
      "25/25 [==============================] - 35s 1s/step - loss: 0.0187 - acc: 0.9948 - val_loss: 0.2801 - val_acc: 0.9450\n",
      "Epoch 40/40\n",
      "25/25 [==============================] - 36s 1s/step - loss: 0.0352 - acc: 0.9900 - val_loss: 0.3351 - val_acc: 0.9400\n"
     ]
    }
   ],
   "source": [
    "model.compile(loss='binary_crossentropy',\n",
    "                     optimizer=Adam(lr=1e-4),\n",
    "                     metrics=['acc'])\n",
    "\n",
    "history = model.fit_generator(train_generator,\n",
    "                                 steps_per_epoch=25,\n",
    "                                 epochs=40,\n",
    "                                 validation_data=validation_generator,\n",
    "                                 validation_steps=2)\n",
    "\n",
    "model.save('vgg_unfrozen_convbase.h5')"
   ]
  },
  {
   "cell_type": "code",
   "execution_count": 12,
   "metadata": {},
   "outputs": [
    {
     "data": {
      "text/plain": [
       "<matplotlib.legend.Legend at 0x7f1267e64ef0>"
      ]
     },
     "execution_count": 12,
     "metadata": {},
     "output_type": "execute_result"
    },
    {
     "data": {
      "image/png": "[encoded data removed]",
      "text/plain": [
       "<matplotlib.figure.Figure at 0x7f1266e0c390>"
      ]
     },
     "metadata": {},
     "output_type": "display_data"
    }
   ],
   "source": [
    "import matplotlib.pyplot as plt\n",
    "%matplotlib inline\n",
    "\n",
    "f, axes = plt.subplots(2,1)\n",
    "\n",
    "f.set_size_inches(8,8)\n",
    "\n",
    "axes[0].plot(history.epoch, history.history['loss'], label='loss')\n",
    "axes[0].plot(history.epoch, history.history['val_loss'], label='val_loss')\n",
    "axes[0].legend()\n",
    "\n",
    "axes[1].plot(history.epoch, history.history['acc'], label='acc')\n",
    "axes[1].plot(history.epoch, history.history['val_acc'], label='val_acc')\n",
    "axes[1].legend()"
   ]
  },
  {
   "cell_type": "markdown",
   "metadata": {},
   "source": [
    "### ResNet50\n",
    "\n",
    "WTF?? It doesn't learn anything transferable at all!!"
   ]
  },
  {
   "cell_type": "code",
   "execution_count": null,
   "metadata": {},
   "outputs": [],
   "source": [
    "resnet = ResNet50(weights='imagenet', \n",
    "                  include_top=False, \n",
    "                  input_shape=(200,200,3))\n",
    "\n",
    "\n",
    "resnet.trainable = False\n",
    "\n",
    "othermodel = keras.Sequential()\n",
    "othermodel.add(resnet)\n",
    "othermodel.add(Flatten())\n",
    "othermodel.add(Dense(256, activation='relu'))\n",
    "othermodel.add(Dropout(0.5))\n",
    "othermodel.add(Dense(128, activation='relu'))\n",
    "othermodel.add(Dropout(0.5))\n",
    "othermodel.add(Dense(64, activation='relu'))\n",
    "othermodel.add(Dropout(0.5))\n",
    "othermodel.add(Dense(1, activation='sigmoid'))\n",
    "\n",
    "othermodel.summary()"
   ]
  },
  {
   "cell_type": "code",
   "execution_count": null,
   "metadata": {},
   "outputs": [],
   "source": [
    "othermodel.compile(loss='binary_crossentropy',\n",
    "                     optimizer=Adam(lr=1e-3),\n",
    "                     metrics=['acc'])\n",
    "\n",
    "history = othermodel.fit_generator(train_generator,\n",
    "                                 steps_per_epoch=50,\n",
    "                                 epochs=50,\n",
    "                                 validation_data=validation_generator,\n",
    "                                 validation_steps=2)"
   ]
  },
  {
   "cell_type": "code",
   "execution_count": null,
   "metadata": {},
   "outputs": [],
   "source": [
    "import matplotlib.pyplot as plt\n",
    "%matplotlib inline\n",
    "\n",
    "f, axes = plt.subplots(2,1)\n",
    "\n",
    "f.set_size_inches(8,8)\n",
    "\n",
    "\n",
    "axes[0].plot(history.epoch, history.history['loss'], label='loss')\n",
    "axes[0].plot(history.epoch, history.history['val_loss'], label='val_loss')\n",
    "axes[0].legend()\n",
    "\n",
    "axes[1].plot(history.epoch, history.history['acc'], label='acc')\n",
    "axes[1].plot(history.epoch, history.history['val_acc'], label='val_acc')\n",
    "axes[1].legend()"
   ]
  },
  {
   "cell_type": "code",
   "execution_count": null,
   "metadata": {},
   "outputs": [],
   "source": []
  }
 ],
 "metadata": {
  "kernelspec": {
   "display_name": "Python 3",
   "language": "python",
   "name": "python3"
  },
  "language_info": {
   "codemirror_mode": {
    "name": "ipython",
    "version": 3
   },
   "file_extension": ".py",
   "mimetype": "text/x-python",
   "name": "python",
   "nbconvert_exporter": "python",
   "pygments_lexer": "ipython3",
   "version": "3.6.4"
  }
 },
 "nbformat": 4,
 "nbformat_minor": 2
}
