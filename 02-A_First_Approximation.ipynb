{
 "cells": [
  {
   "cell_type": "markdown",
   "metadata": {},
   "source": [
    "# My First Hotdog detector"
   ]
  },
  {
   "cell_type": "code",
   "execution_count": 1,
   "metadata": {},
   "outputs": [
    {
     "name": "stderr",
     "output_type": "stream",
     "text": [
      "Using TensorFlow backend.\n"
     ]
    }
   ],
   "source": [
    "import keras\n",
    "from keras import backend as K"
   ]
  },
  {
   "cell_type": "markdown",
   "metadata": {},
   "source": [
    "We are going to learn some hotdogs! The basic tool we are going to use is a Convolutional Neural Network (CNN). CNNs have revolutionized computer vision in the last few years"
   ]
  },
  {
   "cell_type": "code",
   "execution_count": 2,
   "metadata": {},
   "outputs": [
    {
     "name": "stdout",
     "output_type": "stream",
     "text": [
      "_________________________________________________________________\n",
      "Layer (type)                 Output Shape              Param #   \n",
      "=================================================================\n",
      "conv2d_1 (Conv2D)            (None, 70, 70, 32)        896       \n",
      "_________________________________________________________________\n",
      "max_pooling2d_1 (MaxPooling2 (None, 35, 35, 32)        0         \n",
      "_________________________________________________________________\n",
      "conv2d_2 (Conv2D)            (None, 33, 33, 32)        9248      \n",
      "_________________________________________________________________\n",
      "max_pooling2d_2 (MaxPooling2 (None, 16, 16, 32)        0         \n",
      "_________________________________________________________________\n",
      "flatten_1 (Flatten)          (None, 8192)              0         \n",
      "_________________________________________________________________\n",
      "dense_1 (Dense)              (None, 128)               1048704   \n",
      "_________________________________________________________________\n",
      "dense_2 (Dense)              (None, 64)                8256      \n",
      "_________________________________________________________________\n",
      "dense_3 (Dense)              (None, 1)                 65        \n",
      "=================================================================\n",
      "Total params: 1,067,169\n",
      "Trainable params: 1,067,169\n",
      "Non-trainable params: 0\n",
      "_________________________________________________________________\n"
     ]
    }
   ],
   "source": [
    "from keras.layers import Conv2D, MaxPooling2D, InputLayer, Flatten, Dense\n",
    "\n",
    "my_first_cnn = keras.Sequential()\n",
    "my_first_cnn.add(Conv2D(32, (3, 3), activation='relu', input_shape=(72, 72, 3)))\n",
    "my_first_cnn.add(MaxPooling2D((2,2)))\n",
    "my_first_cnn.add(Conv2D(32, (3, 3), activation='relu'))\n",
    "my_first_cnn.add(MaxPooling2D((2,2)))\n",
    "my_first_cnn.add(Flatten())\n",
    "# Until I added a second Dense layer, this was learning nothing at all!\n",
    "my_first_cnn.add(Dense(128, activation='relu'))\n",
    "my_first_cnn.add(Dense(64, activation='relu'))\n",
    "my_first_cnn.add(Dense(1, activation='sigmoid'))\n",
    "\n",
    "my_first_cnn.summary()"
   ]
  },
  {
   "cell_type": "code",
   "execution_count": 3,
   "metadata": {},
   "outputs": [
    {
     "name": "stdout",
     "output_type": "stream",
     "text": [
      "Found 1550 images belonging to 2 classes.\n",
      "Found 393 images belonging to 2 classes.\n"
     ]
    }
   ],
   "source": [
    "from keras.preprocessing.image import ImageDataGenerator\n",
    "import os\n",
    "\n",
    "base_dir = 'databackup/'\n",
    "\n",
    "train_dir = os.path.join(base_dir, 'train')\n",
    "validation_dir = os.path.join(base_dir, 'validation')\n",
    "\n",
    "train_datagen = ImageDataGenerator(rescale=1 / 255)\n",
    "test_datagen = ImageDataGenerator(rescale=1 / 255)\n",
    "\n",
    "train_generator = train_datagen.flow_from_directory(train_dir, \n",
    "                                                    target_size=(72,72),\n",
    "                                                    batch_size=25,\n",
    "                                                    class_mode='binary')\n",
    "\n",
    "validation_generator = test_datagen.flow_from_directory(validation_dir,\n",
    "                                                        target_size=(72,72),\n",
    "                                                        batch_size=25,\n",
    "                                                        class_mode='binary')"
   ]
  },
  {
   "cell_type": "code",
   "execution_count": 4,
   "metadata": {},
   "outputs": [
    {
     "name": "stdout",
     "output_type": "stream",
     "text": [
      "Epoch 1/20\n",
      "20/20 [==============================] - 6s 303ms/step - loss: 0.6010 - acc: 0.6620 - val_loss: 0.4652 - val_acc: 0.7748\n",
      "Epoch 2/20\n",
      "20/20 [==============================] - 22s 1s/step - loss: 0.5368 - acc: 0.7300 - val_loss: 0.4245 - val_acc: 0.8195\n",
      "Epoch 3/20\n",
      "20/20 [==============================] - 5s 264ms/step - loss: 0.4833 - acc: 0.7760 - val_loss: 0.4368 - val_acc: 0.7931\n",
      "Epoch 4/20\n",
      "20/20 [==============================] - 6s 282ms/step - loss: 0.4420 - acc: 0.7960 - val_loss: 0.4265 - val_acc: 0.8073\n",
      "Epoch 5/20\n",
      "20/20 [==============================] - 5s 247ms/step - loss: 0.4076 - acc: 0.8320 - val_loss: 0.3723 - val_acc: 0.8458\n",
      "Epoch 6/20\n",
      "20/20 [==============================] - 5s 246ms/step - loss: 0.3778 - acc: 0.8200 - val_loss: 0.3801 - val_acc: 0.8398\n",
      "Epoch 7/20\n",
      "20/20 [==============================] - 6s 282ms/step - loss: 0.3642 - acc: 0.8420 - val_loss: 0.3591 - val_acc: 0.8540\n",
      "Epoch 8/20\n",
      "20/20 [==============================] - 6s 288ms/step - loss: 0.4201 - acc: 0.8140 - val_loss: 0.3652 - val_acc: 0.8600\n",
      "Epoch 9/20\n",
      "20/20 [==============================] - 5s 251ms/step - loss: 0.3118 - acc: 0.8660 - val_loss: 0.4527 - val_acc: 0.8215\n",
      "Epoch 10/20\n",
      "20/20 [==============================] - 6s 286ms/step - loss: 0.3052 - acc: 0.8720 - val_loss: 0.3602 - val_acc: 0.8600\n",
      "Epoch 11/20\n",
      "20/20 [==============================] - 5s 252ms/step - loss: 0.2744 - acc: 0.8820 - val_loss: 0.4598 - val_acc: 0.8154\n",
      "Epoch 12/20\n",
      "20/20 [==============================] - 5s 251ms/step - loss: 0.2691 - acc: 0.8820 - val_loss: 0.4402 - val_acc: 0.8174\n",
      "Epoch 13/20\n",
      "20/20 [==============================] - 6s 276ms/step - loss: 0.3070 - acc: 0.8660 - val_loss: 0.3900 - val_acc: 0.8377\n",
      "Epoch 14/20\n",
      "20/20 [==============================] - 5s 251ms/step - loss: 0.2227 - acc: 0.9100 - val_loss: 0.4234 - val_acc: 0.8357\n",
      "Epoch 15/20\n",
      "20/20 [==============================] - 5s 250ms/step - loss: 0.2133 - acc: 0.9180 - val_loss: 0.4119 - val_acc: 0.8418\n",
      "Epoch 16/20\n",
      "20/20 [==============================] - 5s 274ms/step - loss: 0.2352 - acc: 0.9160 - val_loss: 0.4312 - val_acc: 0.8154\n",
      "Epoch 17/20\n",
      "20/20 [==============================] - 5s 252ms/step - loss: 0.1727 - acc: 0.9300 - val_loss: 0.4457 - val_acc: 0.8357\n",
      "Epoch 18/20\n",
      "20/20 [==============================] - 9s 473ms/step - loss: 0.1613 - acc: 0.9460 - val_loss: 0.4471 - val_acc: 0.8195\n",
      "Epoch 19/20\n",
      "20/20 [==============================] - 6s 285ms/step - loss: 0.1499 - acc: 0.9500 - val_loss: 0.5354 - val_acc: 0.8154\n",
      "Epoch 20/20\n",
      "20/20 [==============================] - 5s 270ms/step - loss: 0.1665 - acc: 0.9300 - val_loss: 0.4692 - val_acc: 0.8377\n"
     ]
    }
   ],
   "source": [
    "from keras.optimizers import Adam\n",
    "\n",
    "my_first_cnn.compile(loss='binary_crossentropy',\n",
    "                     optimizer=Adam(lr=1e-3),\n",
    "                     metrics=['acc'])\n",
    "\n",
    "history = my_first_cnn.fit_generator(train_generator,\n",
    "                                     steps_per_epoch=20,\n",
    "                                     epochs=20,\n",
    "                                     validation_data=validation_generator,\n",
    "                                     validation_steps=20)"
   ]
  },
  {
   "cell_type": "code",
   "execution_count": 5,
   "metadata": {},
   "outputs": [
    {
     "data": {
      "text/plain": [
       "<matplotlib.legend.Legend at 0x7f0af4313828>"
      ]
     },
     "execution_count": 5,
     "metadata": {},
     "output_type": "execute_result"
    },
    {
     "data": {
      "image/png": "[encoded data removed]",
      "text/plain": [
       "<Figure size 432x288 with 1 Axes>"
      ]
     },
     "metadata": {},
     "output_type": "display_data"
    }
   ],
   "source": [
    "import matplotlib.pyplot as plt\n",
    "%matplotlib inline\n",
    "\n",
    "plt.plot(history.epoch, history.history['loss'], label='loss')\n",
    "plt.plot(history.epoch, history.history['val_loss'], label='val_loss')\n",
    "plt.legend()"
   ]
  },
  {
   "cell_type": "code",
   "execution_count": 6,
   "metadata": {},
   "outputs": [
    {
     "data": {
      "text/plain": [
       "<matplotlib.legend.Legend at 0x7f0b17fd1f60>"
      ]
     },
     "execution_count": 6,
     "metadata": {},
     "output_type": "execute_result"
    },
    {
     "data": {
      "image/png": "[encoded data removed]",
      "text/plain": [
       "<Figure size 432x288 with 1 Axes>"
      ]
     },
     "metadata": {},
     "output_type": "display_data"
    }
   ],
   "source": [
    "import matplotlib.pyplot as plt\n",
    "%matplotlib inline\n",
    "\n",
    "plt.plot(history.epoch, history.history['acc'], label='acc')\n",
    "plt.plot(history.epoch, history.history['val_acc'], label='val_acc')\n",
    "plt.legend()"
   ]
  },
  {
   "cell_type": "markdown",
   "metadata": {},
   "source": [
    "What's happening here? We are seeing a typical case of overfitting. Our training accuracy is getting pretty good really fast, but at the same time the validation loss increases in each epoc. The network is learning the specific details of the training set, which don't generalize all that well."
   ]
  },
  {
   "cell_type": "markdown",
   "metadata": {},
   "source": [
    "One of the best pieces of advice I got from Jeremy Howard's Deep Learning for Coders is that you should first attempt to overfit, then deal with that through regularization. In my case, the first few times I tried to train this network, it was not learning anything at all - its predictions were no better than chance. Only when I added a second Dense layer in order to make it be able to fit anything at all did I get any useful results at all."
   ]
  },
  {
   "cell_type": "markdown",
   "metadata": {},
   "source": [
    "### Notes\n",
    "\n",
    "decreasing learning rate during training: \n",
    "\n",
    "```\n",
    "K.set_value(model.optimizer.lr, 0.001)\n",
    "model(X,y,nb_epoch=50)\n",
    "```"
   ]
  },
  {
   "cell_type": "markdown",
   "metadata": {},
   "source": [
    "### TODOs\n",
    "\n",
    "Try different image sizes: with 120x120 I got to around 86% accuracy before overfititng. Interestigly, with 72x72 it only a bit lower, around 85%.\n",
    "\n",
    "Examine the predictions: the most wrong, the most right, etc.\n",
    "\n",
    "SGD with restarts, maybe with Learning Rate Scheduler?"
   ]
  }
 ],
 "metadata": {
  "kernelspec": {
   "display_name": "Python 3",
   "language": "python",
   "name": "python3"
  },
  "language_info": {
   "codemirror_mode": {
    "name": "ipython",
    "version": 3
   },
   "file_extension": ".py",
   "mimetype": "text/x-python",
   "name": "python",
   "nbconvert_exporter": "python",
   "pygments_lexer": "ipython3",
   "version": "3.6.5"
  }
 },
 "nbformat": 4,
 "nbformat_minor": 2
}
