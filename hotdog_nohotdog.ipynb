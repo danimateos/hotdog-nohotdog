{
 "cells": [
  {
   "cell_type": "markdown",
   "metadata": {},
   "source": [
    "# Building the hotdog / no hotdog classifier\n",
    "\n",
    "Started on 13th June 2018. Let's see how far I get.\n",
    "\n",
    "## Project flow:\n",
    "\n",
    "1. Get training data manually: imagenet + google images search for 'hotdog'\n",
    "\n",
    "2. Crop \"manually\" the google images and imagenet to have the same input dimensions\n",
    "\n",
    "3. Train a first example\n",
    "\n",
    "4. Refine the example\n",
    "\n",
    "    * Write a writeup for presentations, blog posts, etc.\n",
    "\n",
    "5. Automate the training data collection\n",
    "\n",
    "    * Write a writeup for presentations, blog posts, etc.\n",
    "\n",
    "6. Implement data augmentation\n",
    "\n",
    "7. Play around with advanced concepts: Transfer learning, resizing like in fastai, test-time augmentation, stochastic GD with restarts...\n",
    "\n",
    "    * Write a writeup for presentations, blog posts, etc.\n",
    "\n",
    "8. Port the thing to Android?"
   ]
  }
 ],
 "metadata": {
  "kernelspec": {
   "display_name": "Python 3",
   "language": "python",
   "name": "python3"
  },
  "language_info": {
   "codemirror_mode": {
    "name": "ipython",
    "version": 3
   },
   "file_extension": ".py",
   "mimetype": "text/x-python",
   "name": "python",
   "nbconvert_exporter": "python",
   "pygments_lexer": "ipython3",
   "version": "3.6.5"
  }
 },
 "nbformat": 4,
 "nbformat_minor": 2
}
