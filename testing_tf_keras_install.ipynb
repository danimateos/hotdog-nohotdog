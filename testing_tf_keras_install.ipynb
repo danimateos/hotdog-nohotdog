{
 "cells": [
  {
   "cell_type": "code",
   "execution_count": 1,
   "metadata": {},
   "outputs": [],
   "source": [
    "import tensorflow as tf"
   ]
  },
  {
   "cell_type": "code",
   "execution_count": 2,
   "metadata": {},
   "outputs": [
    {
     "name": "stdout",
     "output_type": "stream",
     "text": [
      "[[22. 28.]\n",
      " [49. 64.]]\n"
     ]
    }
   ],
   "source": [
    "with tf.device('/gpu:0'):\n",
    "    a = tf.constant([1.0, 2.0, 3.0, 4.0, 5.0, 6.0], shape=[2, 3], name='a')\n",
    "    b = tf.constant([1.0, 2.0, 3.0, 4.0, 5.0, 6.0], shape=[3, 2], name='b')\n",
    "    c = tf.matmul(a, b)\n",
    "\n",
    "with tf.Session() as sess:\n",
    "    print (sess.run(c))"
   ]
  },
  {
   "cell_type": "markdown",
   "metadata": {},
   "source": [
    "### Recognize MNIST with LeNet-5\n",
    "\n",
    "From:\n",
    "\n",
    "https://www.pugetsystems.com/labs/hpc/Install-TensorFlow-with-GPU-Support-the-Easy-Way-on-Ubuntu-18-04-without-installing-CUDA-1170/\n",
    "\n"
   ]
  },
  {
   "cell_type": "code",
   "execution_count": 4,
   "metadata": {},
   "outputs": [],
   "source": [
    "import keras\n",
    "from keras.datasets import mnist\n",
    "from keras.models import Sequential\n",
    "from keras.layers import Dense, Dropout\n",
    "from keras.layers import Flatten,  MaxPooling2D, Conv2D\n",
    "from keras.callbacks import TensorBoard"
   ]
  },
  {
   "cell_type": "code",
   "execution_count": 5,
   "metadata": {},
   "outputs": [
    {
     "name": "stdout",
     "output_type": "stream",
     "text": [
      "Downloading data from https://s3.amazonaws.com/img-datasets/mnist.npz\n",
      "11493376/11490434 [==============================] - 7s 1us/step\n"
     ]
    }
   ],
   "source": [
    "(X_train,y_train), (X_test, y_test) = mnist.load_data()\n",
    "\n",
    "X_train = X_train.reshape(60000,28,28,1).astype('float32')\n",
    "X_test = X_test.reshape(10000,28,28,1).astype('float32')\n",
    "\n",
    "X_train /= 255\n",
    "X_test /= 255\n",
    "\n",
    "n_classes = 10\n",
    "y_train = keras.utils.to_categorical(y_train, n_classes)\n",
    "y_test = keras.utils.to_categorical(y_test, n_classes)"
   ]
  },
  {
   "cell_type": "code",
   "execution_count": 6,
   "metadata": {},
   "outputs": [],
   "source": [
    "model = Sequential()\n",
    "model.add(Conv2D(32, kernel_size=(3,3), activation='relu', input_shape=(28,28,1)) )\n",
    "model.add(Conv2D(64, kernel_size=(3,3), activation='relu'))\n",
    "model.add(MaxPooling2D(pool_size=(2,2)))\n",
    "model.add(Dropout(0.25))\n",
    "model.add(Flatten())          \n",
    "model.add(Dense(128, activation='relu'))\n",
    "model.add(Dropout(0.5))\n",
    "model.add(Dense(n_classes, activation='softmax'))"
   ]
  },
  {
   "cell_type": "code",
   "execution_count": 7,
   "metadata": {},
   "outputs": [],
   "source": [
    "model.compile(loss='categorical_crossentropy', optimizer='adam', metrics=['accuracy'])"
   ]
  },
  {
   "cell_type": "code",
   "execution_count": 8,
   "metadata": {},
   "outputs": [],
   "source": [
    "tensor_board = TensorBoard('./logs/LeNet-MNIST-1')"
   ]
  },
  {
   "cell_type": "code",
   "execution_count": 9,
   "metadata": {},
   "outputs": [
    {
     "name": "stdout",
     "output_type": "stream",
     "text": [
      "Train on 60000 samples, validate on 10000 samples\n",
      "Epoch 1/15\n",
      "60000/60000 [==============================] - 40s 674us/step - loss: 0.2342 - acc: 0.9282 - val_loss: 0.0496 - val_acc: 0.9836\n",
      "Epoch 2/15\n",
      "60000/60000 [==============================] - 39s 651us/step - loss: 0.0846 - acc: 0.9751 - val_loss: 0.0398 - val_acc: 0.9863\n",
      "Epoch 3/15\n",
      "60000/60000 [==============================] - 38s 636us/step - loss: 0.0620 - acc: 0.9812 - val_loss: 0.0315 - val_acc: 0.9897\n",
      "Epoch 4/15\n",
      "60000/60000 [==============================] - 37s 610us/step - loss: 0.0504 - acc: 0.9849 - val_loss: 0.0332 - val_acc: 0.9888\n",
      "Epoch 5/15\n",
      "60000/60000 [==============================] - 37s 619us/step - loss: 0.0437 - acc: 0.9866 - val_loss: 0.0289 - val_acc: 0.9902\n",
      "Epoch 6/15\n",
      "60000/60000 [==============================] - 37s 617us/step - loss: 0.0354 - acc: 0.9889 - val_loss: 0.0273 - val_acc: 0.9907\n",
      "Epoch 7/15\n",
      "60000/60000 [==============================] - 37s 617us/step - loss: 0.0316 - acc: 0.9899 - val_loss: 0.0294 - val_acc: 0.9908\n",
      "Epoch 8/15\n",
      "60000/60000 [==============================] - 37s 625us/step - loss: 0.0310 - acc: 0.9898 - val_loss: 0.0294 - val_acc: 0.9913\n",
      "Epoch 9/15\n",
      "60000/60000 [==============================] - 39s 647us/step - loss: 0.0275 - acc: 0.9913 - val_loss: 0.0290 - val_acc: 0.9916\n",
      "Epoch 10/15\n",
      "60000/60000 [==============================] - 36s 605us/step - loss: 0.0237 - acc: 0.9926 - val_loss: 0.0304 - val_acc: 0.9900\n",
      "Epoch 11/15\n",
      "60000/60000 [==============================] - 33s 552us/step - loss: 0.0227 - acc: 0.9929 - val_loss: 0.0277 - val_acc: 0.9915\n",
      "Epoch 12/15\n",
      "60000/60000 [==============================] - 34s 559us/step - loss: 0.0221 - acc: 0.9928 - val_loss: 0.0305 - val_acc: 0.9915\n",
      "Epoch 13/15\n",
      "60000/60000 [==============================] - 34s 572us/step - loss: 0.0200 - acc: 0.9935 - val_loss: 0.0280 - val_acc: 0.9919\n",
      "Epoch 14/15\n",
      "60000/60000 [==============================] - 35s 586us/step - loss: 0.0180 - acc: 0.9941 - val_loss: 0.0273 - val_acc: 0.9932\n",
      "Epoch 15/15\n",
      "60000/60000 [==============================] - 36s 595us/step - loss: 0.0169 - acc: 0.9946 - val_loss: 0.0284 - val_acc: 0.9922\n"
     ]
    },
    {
     "data": {
      "text/plain": [
       "<keras.callbacks.History at 0x7f4e15b67f28>"
      ]
     },
     "execution_count": 9,
     "metadata": {},
     "output_type": "execute_result"
    }
   ],
   "source": [
    "model.fit(X_train, y_train, batch_size=128, epochs=15, verbose=1,\n",
    "          validation_data=(X_test,y_test), callbacks=[tensor_board])"
   ]
  }
 ],
 "metadata": {
  "kernelspec": {
   "display_name": "Python 3",
   "language": "python",
   "name": "python3"
  },
  "language_info": {
   "codemirror_mode": {
    "name": "ipython",
    "version": 3
   },
   "file_extension": ".py",
   "mimetype": "text/x-python",
   "name": "python",
   "nbconvert_exporter": "python",
   "pygments_lexer": "ipython3",
   "version": "3.6.5"
  }
 },
 "nbformat": 4,
 "nbformat_minor": 2
}
