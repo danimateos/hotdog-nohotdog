{
  "nbformat": 4,
  "nbformat_minor": 0,
  "metadata": {
    "colab": {
      "name": "hotdognohotdog-datakonf-template",
      "version": "0.3.2",
      "provenance": [],
      "collapsed_sections": []
    },
    "kernelspec": {
      "name": "python3",
      "display_name": "Python 3"
    },
    "accelerator": "GPU"
  },
  "cells": [
    {
      "metadata": {
        "id": "alyNCTglOnkz",
        "colab_type": "code",
        "colab": {
          "base_uri": "https://localhost:8080/",
          "height": 35
        },
        "outputId": "a8674be7-c61f-476b-d0a3-632fa4aa5f65"
      },
      "cell_type": "code",
      "source": [
        "!date"
      ],
      "execution_count": 1,
      "outputs": [
        {
          "output_type": "stream",
          "text": [
            "Thu Nov 29 11:30:50 UTC 2018\n"
          ],
          "name": "stdout"
        }
      ]
    },
    {
      "metadata": {
        "id": "7vJmfoSX0gWQ",
        "colab_type": "text"
      },
      "cell_type": "markdown",
      "source": [
        "![KSchool](https://kschool.com/wp-content/uploads/2016/08/logo-kschool.png)"
      ]
    },
    {
      "metadata": {
        "id": "z97A9RMk1qbQ",
        "colab_type": "text"
      },
      "cell_type": "markdown",
      "source": [
        "# Hi everyone!\n",
        "\n",
        "I'm Daniel Mateos. I teach at the [masters in Data Science] here at KSchool.\n",
        "\n",
        "I also teach at the [CUNEF masters program in Data Science] and in the bioinformatics track at [CEU San Pablo]. \n",
        "\n",
        "I am a Molecular Biologist and self-taught Data Scientist. You can read all about me at [my website].\n",
        "\n",
        "[masters in Data Science]: https://kschool.com/cursos/master-en-data-science-madrid/\n",
        "[CUNEF masters program in Data Science]: https://www.cunef.edu/web/ade-and-master-data-science-finance-marketing-resources\n",
        "[CEU San Pablo]: https://www.uspceu.com/oferta-academica/grado/grado-en-ingenieria-biomedica\n",
        "[my website]: http://mateos.io/"
      ]
    },
    {
      "metadata": {
        "id": "MOr_4kZb2tjV",
        "colab_type": "text"
      },
      "cell_type": "markdown",
      "source": [
        "## Today\n",
        "\n",
        "What we are going to do is dive head first into Deep Learning. This talk doesn't assume any knowledge, just the eagerness to jump right into building image classification models!\n",
        "\n",
        "We will develop a [tool that can tell hotdogs from stuff that is not hotdogs]. That might make us [really rich]!\n",
        "\n",
        "[tool that can tell hotdogs from stuff that is not hotdogs]: https://www.youtube.com/watch?v=pqTntG1RXSY\n",
        "[really rich]: https://www.youtube.com/watch?v=NN1ctbKoXTc"
      ]
    },
    {
      "metadata": {
        "id": "HY7Nnr-40hkA",
        "colab_type": "text"
      },
      "cell_type": "markdown",
      "source": [
        "## Where we are\n",
        "\n",
        "[Google Colab] is a hosted notebook environment by Google. You can run GPU-accelerated experiments here for free!\n",
        "\n",
        "Make sure you have a GPU accelerated runtime by clicking on runtime / change runtime type and choosing a \"GPU\" hardware accelerator.\n",
        "\n",
        "[Google Colab]: bhttps://research.google.com/colaboratory/faq.html"
      ]
    },
    {
      "metadata": {
        "id": "Iu0hhwcqOpgL",
        "colab_type": "text"
      },
      "cell_type": "markdown",
      "source": [
        "# Getting some hotdogs\n",
        "\n",
        "I've already done the hard, exhausting field work for you. If you are curious about how I did, check it out [in my blog].\n",
        "\n",
        "Run the following cell. It will download a zip file in the current folder.\n",
        "\n",
        "[in my blog]: http://mateos.io/blog/"
      ]
    },
    {
      "metadata": {
        "id": "FtwsDCijPqGL",
        "colab_type": "code",
        "outputId": "5f4a35db-7fde-4435-cda4-7d783b48be9d",
        "colab": {
          "base_uri": "https://localhost:8080/",
          "height": 469
        }
      },
      "cell_type": "code",
      "source": [
        "!wget \"https://www.dropbox.com/s/dhpekpce05iev6a/data_v2.zip?dl=0\" -O data.zip"
      ],
      "execution_count": 2,
      "outputs": [
        {
          "output_type": "stream",
          "text": [
            "--2018-11-29 11:30:54--  https://www.dropbox.com/s/dhpekpce05iev6a/data_v2.zip?dl=0\n",
            "Resolving www.dropbox.com (www.dropbox.com)... 162.125.82.1, 2620:100:6032:1::a27d:5201\n",
            "Connecting to www.dropbox.com (www.dropbox.com)|162.125.82.1|:443... connected.\n",
            "HTTP request sent, awaiting response... 301 Moved Permanently\n",
            "Location: /s/raw/dhpekpce05iev6a/data_v2.zip [following]\n",
            "--2018-11-29 11:30:54--  https://www.dropbox.com/s/raw/dhpekpce05iev6a/data_v2.zip\n",
            "Reusing existing connection to www.dropbox.com:443.\n",
            "HTTP request sent, awaiting response... 302 Found\n",
            "Location: https://uc7668dc8b3d3d0171514f50f4d8.dl.dropboxusercontent.com/cd/0/inline/AWgjxLN6I6rGrL37bqj3bmg4QbKPMR_7Kukrqx3d61YTFioZMRu9HyMEEEPY9R3F8muzB71akoB_u1MpunpIrJnlYMbMO3e8TNLbP_tfLkXuRujDBuEsuTnI-edcdo6RMqmgVWZeCRXRMYhop17yOHh31g5jlsfHfnrvcqH87KxWbYpqDdf17ZFlWLjVLFcyd2k/file [following]\n",
            "--2018-11-29 11:30:55--  https://uc7668dc8b3d3d0171514f50f4d8.dl.dropboxusercontent.com/cd/0/inline/AWgjxLN6I6rGrL37bqj3bmg4QbKPMR_7Kukrqx3d61YTFioZMRu9HyMEEEPY9R3F8muzB71akoB_u1MpunpIrJnlYMbMO3e8TNLbP_tfLkXuRujDBuEsuTnI-edcdo6RMqmgVWZeCRXRMYhop17yOHh31g5jlsfHfnrvcqH87KxWbYpqDdf17ZFlWLjVLFcyd2k/file\n",
            "Resolving uc7668dc8b3d3d0171514f50f4d8.dl.dropboxusercontent.com (uc7668dc8b3d3d0171514f50f4d8.dl.dropboxusercontent.com)... 162.125.82.6, 2620:100:6032:6::a27d:5206\n",
            "Connecting to uc7668dc8b3d3d0171514f50f4d8.dl.dropboxusercontent.com (uc7668dc8b3d3d0171514f50f4d8.dl.dropboxusercontent.com)|162.125.82.6|:443... connected.\n",
            "HTTP request sent, awaiting response... 302 FOUND\n",
            "Location: /cd/0/inline2/AWiz0I30VEpgkIafQl2aXscwJqZJpqLOrC5hKfwvJNKjb2-8IZSiU1nLIKTDyLvtV3e5D_fP6ZkxxevpTC9eXkq1KdmBJHfKxBBzyiNSWm6-rLRtboOog9iKYZYSQ24N5VnqOacZW9WsDKVH-j3Il9HqMttQf18aS_Gl2uAXA0t_ogXI_CpsvF_Ggv1uze6LWYN_J702thCMLQ2NOa_aEgoI3JMQMLAiCjfACTdeQhXuTMZbFaDWOhldZ6maSvILL-mgX1a1nrlJvgZTWM5Sjnn_oS2hcg3iJPL21aLtce_y09g-GeCgQ3N13DnKRRTk_5kx8QU5fyIWcy7fVg0hLYUPLWglEc7YXivh0oPiY3p2-OdZl_U4nyJxIAx5e2W1P0M2BJHMr3xqUrlEHsJGF6HZHl_q8viR4fzrG3pyMR16sYCZQdhsBSSAZWlp5_HWyxY/file [following]\n",
            "--2018-11-29 11:30:56--  https://uc7668dc8b3d3d0171514f50f4d8.dl.dropboxusercontent.com/cd/0/inline2/AWiz0I30VEpgkIafQl2aXscwJqZJpqLOrC5hKfwvJNKjb2-8IZSiU1nLIKTDyLvtV3e5D_fP6ZkxxevpTC9eXkq1KdmBJHfKxBBzyiNSWm6-rLRtboOog9iKYZYSQ24N5VnqOacZW9WsDKVH-j3Il9HqMttQf18aS_Gl2uAXA0t_ogXI_CpsvF_Ggv1uze6LWYN_J702thCMLQ2NOa_aEgoI3JMQMLAiCjfACTdeQhXuTMZbFaDWOhldZ6maSvILL-mgX1a1nrlJvgZTWM5Sjnn_oS2hcg3iJPL21aLtce_y09g-GeCgQ3N13DnKRRTk_5kx8QU5fyIWcy7fVg0hLYUPLWglEc7YXivh0oPiY3p2-OdZl_U4nyJxIAx5e2W1P0M2BJHMr3xqUrlEHsJGF6HZHl_q8viR4fzrG3pyMR16sYCZQdhsBSSAZWlp5_HWyxY/file\n",
            "Reusing existing connection to uc7668dc8b3d3d0171514f50f4d8.dl.dropboxusercontent.com:443.\n",
            "HTTP request sent, awaiting response... 200 OK\n",
            "Length: 745085878 (711M) [application/zip]\n",
            "Saving to: ‘data.zip’\n",
            "\n",
            "data.zip            100%[===================>] 710.57M  32.2MB/s    in 24s     \n",
            "\n",
            "2018-11-29 11:31:21 (29.5 MB/s) - ‘data.zip’ saved [745085878/745085878]\n",
            "\n"
          ],
          "name": "stdout"
        }
      ]
    },
    {
      "metadata": {
        "id": "F7nTgIrBQISK",
        "colab_type": "code",
        "outputId": "3ae591fd-d564-4939-8e46-9d41bc33a7e7",
        "colab": {
          "base_uri": "https://localhost:8080/",
          "height": 233
        }
      },
      "cell_type": "code",
      "source": [
        "!ls -lh"
      ],
      "execution_count": 3,
      "outputs": [
        {
          "output_type": "stream",
          "text": [
            "total 960M\n",
            "drwxrwxr-x 5 root root 4.0K Jun 27 13:23 data\n",
            "-rw-r--r-- 1 root root 711M Nov 29 11:31 data.zip\n",
            "-rw-r--r-- 1 root root  38M Nov 29 09:20 my_2nd_cnn_1.h5\n",
            "-rw-r--r-- 1 root root  38M Nov 29 09:31 my_2nd_cnn_2.h5\n",
            "-rw-r--r-- 1 root root  38M Nov 29 09:41 my_2nd_cnn_3.h5\n",
            "-rw-r--r-- 1 root root  19M Nov 29 08:47 my_first_cnn_1.h5\n",
            "-rw-r--r-- 1 root root  19M Nov 29 08:50 my_first_cnn_2.h5\n",
            "-rw-r--r-- 1 root root  19M Nov 29 08:52 my_first_cnn_3.h5\n",
            "-rw-r--r-- 1 root root  19M Nov 29 08:56 my_first_cnn_4.h5\n",
            "drwxr-xr-x 2 root root 4.0K Nov 20 18:17 sample_data\n",
            "-rw-r--r-- 1 root root  64M Nov 29 11:19 vgg_1.h5\n"
          ],
          "name": "stdout"
        }
      ]
    },
    {
      "metadata": {
        "id": "Qkl2cWTNszGa",
        "colab_type": "text"
      },
      "cell_type": "markdown",
      "source": [
        "Now, unzip the zip file. It contains a 'data' folder that contains three folders in turn: train, test and validation. Inside each of those there are two folders: \"hotdog\" and \"nohotdog\"."
      ]
    },
    {
      "metadata": {
        "id": "By4Yh4bLtgrE",
        "colab_type": "code",
        "outputId": "5b76362f-6557-43d8-e695-66a31a1877b1",
        "colab": {
          "base_uri": "https://localhost:8080/",
          "height": 89
        }
      },
      "cell_type": "code",
      "source": [
        "!rm -rf data/\n",
        "!unzip -oq data.zip\n",
        "!ls -lh data"
      ],
      "execution_count": 4,
      "outputs": [
        {
          "output_type": "stream",
          "text": [
            "total 12K\n",
            "drwxrwxr-x 4 root root 4.0K Jun 27 13:23 test\n",
            "drwxrwxr-x 4 root root 4.0K Jun 27 10:27 train\n",
            "drwxrwxr-x 4 root root 4.0K Jun 27 13:23 validation\n"
          ],
          "name": "stdout"
        }
      ]
    },
    {
      "metadata": {
        "id": "pHaF0p858v3n",
        "colab_type": "text"
      },
      "cell_type": "markdown",
      "source": [
        "# The Classifier\n",
        "\n",
        "![Keras](https://cdn-images-1.medium.com/max/1600/1*wwnExqe720PPHykHhs5Hqw.png)\n",
        "\n",
        "Let's build our first Convolutional Neural Network! We will be using [Keras].\n",
        "\n",
        "[Keras]: https://keras.io"
      ]
    },
    {
      "metadata": {
        "id": "TXrmM933uY6T",
        "colab_type": "code",
        "outputId": "aafaecb4-5a85-483a-fa5d-94b7909e4297",
        "colab": {
          "base_uri": "https://localhost:8080/",
          "height": 35
        }
      },
      "cell_type": "code",
      "source": [
        "import keras\n",
        "from keras import backend as K"
      ],
      "execution_count": 5,
      "outputs": [
        {
          "output_type": "stream",
          "text": [
            "Using TensorFlow backend.\n"
          ],
          "name": "stderr"
        }
      ]
    },
    {
      "metadata": {
        "id": "qJ80Os82uZwz",
        "colab_type": "code",
        "outputId": "5005f92d-d02e-43f7-a8be-c540d65784d9",
        "colab": {
          "base_uri": "https://localhost:8080/",
          "height": 395
        }
      },
      "cell_type": "code",
      "source": [
        "from keras.layers import Conv2D, MaxPooling2D, InputLayer, Flatten, Dense\n",
        "\n",
        "my_first_cnn = keras.Sequential()\n",
        "my_first_cnn.add(Conv2D(32, (3, 3), activation='relu', input_shape=(120, 120, 3)))\n",
        "my_first_cnn.add(MaxPooling2D((2,2)))\n",
        "my_first_cnn.add(Conv2D(32, (3, 3), activation='relu'))\n",
        "my_first_cnn.add(MaxPooling2D((2,2)))\n",
        "my_first_cnn.add(Flatten())\n",
        "my_first_cnn.add(Dense(64, activation='relu'))\n",
        "my_first_cnn.add(Dense(1, activation='sigmoid'))\n",
        "\n",
        "my_first_cnn.summary()"
      ],
      "execution_count": 6,
      "outputs": [
        {
          "output_type": "stream",
          "text": [
            "_________________________________________________________________\n",
            "Layer (type)                 Output Shape              Param #   \n",
            "=================================================================\n",
            "conv2d_1 (Conv2D)            (None, 118, 118, 32)      896       \n",
            "_________________________________________________________________\n",
            "max_pooling2d_1 (MaxPooling2 (None, 59, 59, 32)        0         \n",
            "_________________________________________________________________\n",
            "conv2d_2 (Conv2D)            (None, 57, 57, 32)        9248      \n",
            "_________________________________________________________________\n",
            "max_pooling2d_2 (MaxPooling2 (None, 28, 28, 32)        0         \n",
            "_________________________________________________________________\n",
            "flatten_1 (Flatten)          (None, 25088)             0         \n",
            "_________________________________________________________________\n",
            "dense_1 (Dense)              (None, 64)                1605696   \n",
            "_________________________________________________________________\n",
            "dense_2 (Dense)              (None, 1)                 65        \n",
            "=================================================================\n",
            "Total params: 1,615,905\n",
            "Trainable params: 1,615,905\n",
            "Non-trainable params: 0\n",
            "_________________________________________________________________\n"
          ],
          "name": "stdout"
        }
      ]
    },
    {
      "metadata": {
        "id": "fALg-nnm9OuR",
        "colab_type": "text"
      },
      "cell_type": "markdown",
      "source": [
        "## Feeding it\n",
        "\n",
        "We will need to feed the classifier in batches so it can learn. We will use Keras's [ImageDataGenerator].\n",
        "\n",
        "[ImageDataGenerator]: https://keras.io/preprocessing/image/"
      ]
    },
    {
      "metadata": {
        "id": "orLGiufYuaBT",
        "colab_type": "code",
        "outputId": "337d4a89-a633-4caf-fa3f-472f7d472353",
        "colab": {
          "base_uri": "https://localhost:8080/",
          "height": 89
        }
      },
      "cell_type": "code",
      "source": [
        "%%time\n",
        "from keras.preprocessing.image import ImageDataGenerator\n",
        "import os\n",
        "\n",
        "base_dir = 'data/'\n",
        "\n",
        "train_dir = os.path.join(base_dir, 'train')\n",
        "validation_dir = os.path.join(base_dir, 'validation')\n",
        "\n",
        "train_datagen = ImageDataGenerator(rescale=1 / 255)\n",
        "test_datagen = ImageDataGenerator(rescale=1 / 255)\n",
        "\n",
        "train_generator = train_datagen.flow_from_directory(train_dir, \n",
        "                                                    target_size=(120,120),\n",
        "                                                    batch_size=100,\n",
        "                                                    class_mode='binary')\n",
        "\n",
        "validation_generator = test_datagen.flow_from_directory(validation_dir,\n",
        "                                                        target_size=(120,120),\n",
        "                                                        batch_size=100,\n",
        "                                                        class_mode='binary')\n"
      ],
      "execution_count": 7,
      "outputs": [
        {
          "output_type": "stream",
          "text": [
            "Found 4765 images belonging to 2 classes.\n",
            "Found 888 images belonging to 2 classes.\n",
            "CPU times: user 226 ms, sys: 41.4 ms, total: 268 ms\n",
            "Wall time: 313 ms\n"
          ],
          "name": "stdout"
        }
      ]
    },
    {
      "metadata": {
        "id": "JcAkAF3t9nVS",
        "colab_type": "text"
      },
      "cell_type": "markdown",
      "source": [
        "## Waste no time in learning\n",
        "\n",
        "At this point, we are ready to do some learning! Let's just go ahead.\n"
      ]
    },
    {
      "metadata": {
        "id": "YZWSJYKovdfz",
        "colab_type": "code",
        "outputId": "49018cfe-408f-41e4-ddfb-ca7983b6248d",
        "colab": {
          "base_uri": "https://localhost:8080/",
          "height": 413
        }
      },
      "cell_type": "code",
      "source": [
        "%%time\n",
        "from keras.optimizers import Adam\n",
        "\n",
        "my_first_cnn.compile(loss='binary_crossentropy',\n",
        "                     optimizer=Adam(lr=1e-3),\n",
        "                     metrics=['acc'])\n",
        "\n",
        "history_pt1 = my_first_cnn.fit_generator(train_generator,\n",
        "                                         steps_per_epoch=20,\n",
        "                                         epochs=10,\n",
        "                                         validation_data=validation_generator,\n",
        "                                         validation_steps=10)\n",
        "\n",
        "my_first_cnn.save('my_first_cnn_1.h5')"
      ],
      "execution_count": 8,
      "outputs": [
        {
          "output_type": "stream",
          "text": [
            "Epoch 1/10\n",
            "20/20 [==============================] - 16s 824ms/step - loss: 0.4327 - acc: 0.8805 - val_loss: 0.3526 - val_acc: 0.8775\n",
            "Epoch 2/10\n",
            "20/20 [==============================] - 14s 714ms/step - loss: 0.3183 - acc: 0.8735 - val_loss: 0.3260 - val_acc: 0.8715\n",
            "Epoch 3/10\n",
            "20/20 [==============================] - 15s 736ms/step - loss: 0.2948 - acc: 0.8733 - val_loss: 0.2636 - val_acc: 0.8704\n",
            "Epoch 4/10\n",
            "20/20 [==============================] - 14s 698ms/step - loss: 0.2564 - acc: 0.8745 - val_loss: 0.2416 - val_acc: 0.8654\n",
            "Epoch 5/10\n",
            "20/20 [==============================] - 15s 731ms/step - loss: 0.2320 - acc: 0.8734 - val_loss: 0.2384 - val_acc: 0.8775\n",
            "Epoch 6/10\n",
            "20/20 [==============================] - 14s 725ms/step - loss: 0.2414 - acc: 0.8820 - val_loss: 0.2929 - val_acc: 0.8644\n",
            "Epoch 7/10\n",
            "20/20 [==============================] - 14s 712ms/step - loss: 0.2345 - acc: 0.8710 - val_loss: 0.2291 - val_acc: 0.8704\n",
            "Epoch 8/10\n",
            "20/20 [==============================] - 14s 694ms/step - loss: 0.2175 - acc: 0.8846 - val_loss: 0.2232 - val_acc: 0.9079\n",
            "Epoch 9/10\n",
            "20/20 [==============================] - 14s 723ms/step - loss: 0.2150 - acc: 0.9000 - val_loss: 0.2347 - val_acc: 0.9006\n",
            "Epoch 10/10\n",
            "20/20 [==============================] - 14s 710ms/step - loss: 0.2008 - acc: 0.8984 - val_loss: 0.2277 - val_acc: 0.9028\n",
            "CPU times: user 3min 51s, sys: 7.1 s, total: 3min 58s\n",
            "Wall time: 2min 26s\n"
          ],
          "name": "stdout"
        }
      ]
    },
    {
      "metadata": {
        "id": "WMOhePxs5RLO",
        "colab_type": "text"
      },
      "cell_type": "markdown",
      "source": [
        "## What is actually happening here?\n",
        "\n",
        "Our classifier is a [convolutional neural network]. These have revolutionized a number of applications, mostly since their huge success in the 2012 ImageNet competition.\n",
        "\n",
        "[convolutional neural network]: https://en.wikipedia.org/wiki/Convolutional_neural_network\n",
        "\n",
        "![2012 ImageNet competition](https://blogs.nvidia.com/wp-content/uploads/2016/06/DefenseAIPicture3-002.png)"
      ]
    },
    {
      "metadata": {
        "id": "N81Ibb01Aicw",
        "colab_type": "text"
      },
      "cell_type": "markdown",
      "source": [
        "## Convolutional Neural Networks\n",
        "\n",
        "They are based on convolution. Basically, we apply filters to subsections of the image and calculate how much each subsection fits with the feature described by the filter.\n",
        "\n",
        "![Convolution](https://cdn-images-1.medium.com/max/1600/1*_34EtrgYk6cQxlJ2br51HQ.gif)\n",
        "\n",
        "We do that several time, aggregating aggregations, learning more and more sofisticated features.\n",
        "\n",
        "![Convolutional Neural Networks](https://www.jeremyjordan.me/content/images/2018/04/vgg16.png)"
      ]
    },
    {
      "metadata": {
        "id": "Pca332wNvd2s",
        "colab_type": "text"
      },
      "cell_type": "markdown",
      "source": [
        "# Measuring the right things\n",
        "\n",
        "Keras has assigned the label 0 to our hotdog class, which we consider positive, and 1 to our nothotdog class, which we consider negative. Therefore, in our binary classification setting we will have true positives top left, true negatives bottom right, false positives bottom left, and false negatives top right.\n",
        "\n",
        "$$ precision = \\frac{true\\ positives}{predicted\\ positives} = \\frac{C_{0,0}}{C_{0,0} + C_{1,0}} $$\n",
        "\n",
        "and recall will be:\n",
        "\n",
        "$$ recall = \\frac{true\\ positives}{total\\ positives} = \\frac{C_{0,0}}{C_{0,0} + C_{0,1}}$$\n"
      ]
    },
    {
      "metadata": {
        "id": "34SOOPjXvdqP",
        "colab_type": "code",
        "colab": {
          "base_uri": "https://localhost:8080/",
          "height": 317
        },
        "outputId": "0947c1ef-3cd5-41e3-f00b-407350abd26a"
      },
      "cell_type": "code",
      "source": [
        "from sklearn.metrics import confusion_matrix\n",
        "import seaborn as sns\n",
        "%matplotlib inline\n",
        "\n",
        "\n",
        "validation_generator_noshuffle = test_datagen.flow_from_directory(validation_dir,\n",
        "                                                                  target_size=(120,120),\n",
        "                                                                  batch_size=100,\n",
        "                                                                  shuffle=False,\n",
        "                                                                  class_mode='binary')\n",
        "\n",
        "predictions = my_first_cnn.predict_generator(validation_generator_noshuffle, steps=9)\n",
        "C = confusion_matrix(validation_generator_noshuffle.classes, predictions > .5)\n",
        "ax = sns.heatmap(C, annot=True, square=True)\n",
        "ax.set_ylabel('True class')\n",
        "ax.set_xlabel('Predicted class')\n",
        "\n",
        "precision = C[0,0] / (C[0,0] + C[1,0])\n",
        "recall = C[0][0] / (C[0,0] + C[0,1])\n",
        "\n",
        "print(precision, recall)"
      ],
      "execution_count": 9,
      "outputs": [
        {
          "output_type": "stream",
          "text": [
            "Found 888 images belonging to 2 classes.\n",
            "0.7924528301886793 0.3684210526315789\n"
          ],
          "name": "stdout"
        },
        {
          "output_type": "display_data",
          "data": {
            "image/png": "[encoded data removed]",
            "text/plain": [
              "<matplotlib.figure.Figure at 0x7fa072743208>"
            ]
          },
          "metadata": {
            "tags": []
          }
        }
      ]
    },
    {
      "metadata": {
        "id": "9yApSRv7CNjv",
        "colab_type": "text"
      },
      "cell_type": "markdown",
      "source": [
        "## Unbalanced\n",
        "\n",
        "We have many more nothodogs than not hodogs. That will affect how good we consider our classifier."
      ]
    },
    {
      "metadata": {
        "id": "q96RkLVChrYu",
        "colab_type": "code",
        "colab": {
          "base_uri": "https://localhost:8080/",
          "height": 413
        },
        "outputId": "3e15a714-22b0-4a46-8b5a-ca6632ce1cd9"
      },
      "cell_type": "code",
      "source": [
        "%%time\n",
        "from keras.optimizers import Adam\n",
        "\n",
        "\n",
        "my_first_cnn.compile(loss='binary_crossentropy',\n",
        "                     optimizer=Adam(lr=1e-3),\n",
        "                     metrics=['acc'])\n",
        "\n",
        "history_pt2 = my_first_cnn.fit_generator(train_generator,\n",
        "                                         class_weight = {0: 7, 1: 1},\n",
        "                                         steps_per_epoch=20,\n",
        "                                         epochs=10,\n",
        "                                         validation_data=validation_generator,\n",
        "                                         validation_steps=10)\n",
        "\n",
        "my_first_cnn.save('my_first_cnn_2.h5')"
      ],
      "execution_count": 10,
      "outputs": [
        {
          "output_type": "stream",
          "text": [
            "Epoch 1/10\n",
            "20/20 [==============================] - 15s 772ms/step - loss: 0.8553 - acc: 0.8970 - val_loss: 0.2816 - val_acc: 0.8968\n",
            "Epoch 2/10\n",
            "20/20 [==============================] - 14s 711ms/step - loss: 0.6889 - acc: 0.8673 - val_loss: 0.4786 - val_acc: 0.7743\n",
            "Epoch 3/10\n",
            "20/20 [==============================] - 15s 729ms/step - loss: 0.4547 - acc: 0.8725 - val_loss: 0.2944 - val_acc: 0.8836\n",
            "Epoch 4/10\n",
            "20/20 [==============================] - 14s 696ms/step - loss: 0.5477 - acc: 0.8485 - val_loss: 0.3089 - val_acc: 0.8401\n",
            "Epoch 5/10\n",
            "20/20 [==============================] - 14s 711ms/step - loss: 0.3719 - acc: 0.8939 - val_loss: 0.3262 - val_acc: 0.8603\n",
            "Epoch 6/10\n",
            "20/20 [==============================] - 14s 707ms/step - loss: 0.3829 - acc: 0.8870 - val_loss: 0.3392 - val_acc: 0.8443\n",
            "Epoch 7/10\n",
            "20/20 [==============================] - 14s 708ms/step - loss: 0.3895 - acc: 0.8854 - val_loss: 0.2975 - val_acc: 0.8775\n",
            "Epoch 8/10\n",
            "20/20 [==============================] - 14s 712ms/step - loss: 0.3063 - acc: 0.9200 - val_loss: 0.3886 - val_acc: 0.8370\n",
            "Epoch 9/10\n",
            "20/20 [==============================] - 14s 708ms/step - loss: 0.3225 - acc: 0.9140 - val_loss: 0.3076 - val_acc: 0.8866\n",
            "Epoch 10/10\n",
            "20/20 [==============================] - 15s 727ms/step - loss: 0.2705 - acc: 0.9291 - val_loss: 0.3242 - val_acc: 0.8715\n",
            "CPU times: user 3min 50s, sys: 6 s, total: 3min 56s\n",
            "Wall time: 2min 24s\n"
          ],
          "name": "stdout"
        }
      ]
    },
    {
      "metadata": {
        "id": "W-4G6rptFE8_",
        "colab_type": "text"
      },
      "cell_type": "markdown",
      "source": [
        "## The magic of Deep Learning\n",
        "\n",
        "![Hierarchy of features](https://cdn-images-1.medium.com/max/756/1*jl3je_hGCESg-G8dy3Z9Yg.png)"
      ]
    },
    {
      "metadata": {
        "id": "Ct4qT44TbB3H",
        "colab_type": "code",
        "colab": {
          "base_uri": "https://localhost:8080/",
          "height": 297
        },
        "outputId": "e21142a7-43bd-43c0-d540-68c1e6e47d2b"
      },
      "cell_type": "code",
      "source": [
        "validation_generator_noshuffle.reset()\n",
        "predictions = my_first_cnn.predict_generator(validation_generator_noshuffle, steps=9)\n",
        "C = confusion_matrix(validation_generator_noshuffle.classes, predictions > .5)\n",
        "ax = sns.heatmap(C, annot=True, square=True)\n",
        "ax.set_ylabel('True class')\n",
        "ax.set_xlabel('Predicted class')\n",
        "\n",
        "precision = C[0,0] / (C[0,0] + C[1,0])\n",
        "recall = C[0][0] / (C[0,0] + C[0,1])\n",
        "\n",
        "print(precision, recall)"
      ],
      "execution_count": 11,
      "outputs": [
        {
          "output_type": "stream",
          "text": [
            "0.48292682926829267 0.868421052631579\n"
          ],
          "name": "stdout"
        },
        {
          "output_type": "display_data",
          "data": {
            "image/png": "[encoded data removed]",
            "text/plain": [
              "<matplotlib.figure.Figure at 0x7fa073485f98>"
            ]
          },
          "metadata": {
            "tags": []
          }
        }
      ]
    },
    {
      "metadata": {
        "id": "tj49bwiBpSbG",
        "colab_type": "text"
      },
      "cell_type": "markdown",
      "source": [
        "# Too much of a good thing\n",
        "\n",
        "The more our classifier looks at the training data, the more it will learn about it. It might even learn too much!"
      ]
    },
    {
      "metadata": {
        "id": "agoTWkrUtK6a",
        "colab_type": "code",
        "colab": {
          "base_uri": "https://localhost:8080/",
          "height": 413
        },
        "outputId": "95d2112a-4edd-46f9-c9cd-1ba20a72e45e"
      },
      "cell_type": "code",
      "source": [
        "%%time\n",
        "from keras.optimizers import Adam\n",
        "\n",
        "my_first_cnn.compile(loss='binary_crossentropy',\n",
        "                     optimizer=Adam(lr=1e-3),\n",
        "                     metrics=['acc'])\n",
        "\n",
        "history_pt3 = my_first_cnn.fit_generator(train_generator,\n",
        "                                         class_weight = {0: 7, 1: 1},\n",
        "                                         steps_per_epoch=20,\n",
        "                                         epochs=10,\n",
        "                                         validation_data=validation_generator,\n",
        "                                         validation_steps=10,\n",
        "                                         verbose=1)\n",
        "\n",
        "my_first_cnn.save('my_first_cnn_3.h5')"
      ],
      "execution_count": 12,
      "outputs": [
        {
          "output_type": "stream",
          "text": [
            "Epoch 1/10\n",
            "20/20 [==============================] - 16s 782ms/step - loss: 0.3769 - acc: 0.8990 - val_loss: 0.2708 - val_acc: 0.8998\n",
            "Epoch 2/10\n",
            "20/20 [==============================] - 14s 684ms/step - loss: 0.2860 - acc: 0.9216 - val_loss: 0.3376 - val_acc: 0.8796\n",
            "Epoch 3/10\n",
            "20/20 [==============================] - 14s 720ms/step - loss: 0.2891 - acc: 0.9245 - val_loss: 0.2647 - val_acc: 0.9006\n",
            "Epoch 4/10\n",
            "20/20 [==============================] - 14s 706ms/step - loss: 0.2824 - acc: 0.9204 - val_loss: 0.2828 - val_acc: 0.9038\n",
            "Epoch 5/10\n",
            "20/20 [==============================] - 14s 688ms/step - loss: 0.2064 - acc: 0.9450 - val_loss: 0.2618 - val_acc: 0.9130\n",
            "Epoch 6/10\n",
            "20/20 [==============================] - 15s 734ms/step - loss: 0.2138 - acc: 0.9365 - val_loss: 0.2795 - val_acc: 0.9069\n",
            "Epoch 7/10\n",
            "20/20 [==============================] - 15s 734ms/step - loss: 0.1857 - acc: 0.9467 - val_loss: 0.2982 - val_acc: 0.9170\n",
            "Epoch 8/10\n",
            "20/20 [==============================] - 14s 715ms/step - loss: 0.2063 - acc: 0.9425 - val_loss: 0.2427 - val_acc: 0.9140\n",
            "Epoch 9/10\n",
            "20/20 [==============================] - 14s 693ms/step - loss: 0.2732 - acc: 0.9316 - val_loss: 0.2713 - val_acc: 0.9170\n",
            "Epoch 10/10\n",
            "20/20 [==============================] - 14s 718ms/step - loss: 0.1841 - acc: 0.9485 - val_loss: 0.3048 - val_acc: 0.8846\n",
            "CPU times: user 3min 50s, sys: 5.92 s, total: 3min 56s\n",
            "Wall time: 2min 24s\n"
          ],
          "name": "stdout"
        }
      ]
    },
    {
      "metadata": {
        "id": "ckWfsTbohrkC",
        "colab_type": "code",
        "colab": {
          "base_uri": "https://localhost:8080/",
          "height": 283
        },
        "outputId": "9b8d2dbb-ae84-4ddf-a2f7-beb1f973c8f6"
      },
      "cell_type": "code",
      "source": [
        "import matplotlib.pyplot as plt\n",
        "\n",
        "f, axes = plt.subplots(1,1)\n",
        "\n",
        "f.set_size_inches(8,4)\n",
        "\n",
        "loss = [step for part in [history_pt1, history_pt2, history_pt3] for step in  part.history['loss']]\n",
        "val_loss = [step for part in [history_pt1, history_pt2, history_pt3] for step in  part.history['val_loss']]\n",
        "\n",
        "\n",
        "axes.plot(range(len(loss)), loss, label='loss')\n",
        "axes.plot(range(len(loss)), val_loss, label='val_loss')\n",
        "axes.legend()"
      ],
      "execution_count": 13,
      "outputs": [
        {
          "output_type": "execute_result",
          "data": {
            "text/plain": [
              "<matplotlib.legend.Legend at 0x7fa07465b588>"
            ]
          },
          "metadata": {
            "tags": []
          },
          "execution_count": 13
        },
        {
          "output_type": "display_data",
          "data": {
            "image/png": "[encoded data removed]",
            "text/plain": [
              "<matplotlib.figure.Figure at 0x7fa0717de320>"
            ]
          },
          "metadata": {
            "tags": []
          }
        }
      ]
    },
    {
      "metadata": {
        "id": "pUrJPz1TRG9V",
        "colab_type": "code",
        "colab": {
          "base_uri": "https://localhost:8080/",
          "height": 297
        },
        "outputId": "0cf6aa55-0da2-463e-9e45-66be529d3081"
      },
      "cell_type": "code",
      "source": [
        "validation_generator_noshuffle.reset()\n",
        "predictions = my_first_cnn.predict_generator(validation_generator_noshuffle, steps=9)\n",
        "\n",
        "C = confusion_matrix(validation_generator_noshuffle.classes, predictions > .5)\n",
        "ax = sns.heatmap(C, annot=True, square=True)\n",
        "ax.set_ylabel('True class')\n",
        "ax.set_xlabel('Predicted class')\n",
        "\n",
        "precision = C[0,0] / (C[0,0] + C[1,0])\n",
        "recall = C[0][0] / (C[0,0] + C[0,1])\n",
        "\n",
        "print(precision, recall)"
      ],
      "execution_count": 14,
      "outputs": [
        {
          "output_type": "stream",
          "text": [
            "0.543859649122807 0.8157894736842105\n"
          ],
          "name": "stdout"
        },
        {
          "output_type": "display_data",
          "data": {
            "image/png": "[encoded data removed]",
            "text/plain": [
              "<matplotlib.figure.Figure at 0x7fa0718e9ac8>"
            ]
          },
          "metadata": {
            "tags": []
          }
        }
      ]
    },
    {
      "metadata": {
        "id": "qsL3iRLs10F4",
        "colab_type": "text"
      },
      "cell_type": "markdown",
      "source": [
        "# Making stuff up\n",
        "\n",
        "Our classifier is learning features that are too specific of the training data, which makes it not generalize too well. \n",
        "\n",
        "Since we want to make it recognize more varied images, we could feed it more varied images. But we already have as many as we could gather!\n",
        "\n",
        "Surprisingly, there is a way to get more from the data we have: making stuff up! In order to look more serious, we will call it [data augmentation].\n",
        "\n",
        "[data augmentation]: https://medium.com/nanonets/how-to-use-deep-learning-when-you-have-limited-data-part-2-data-augmentation-c26971dc8ced"
      ]
    },
    {
      "metadata": {
        "id": "fqo6TOB8hsv2",
        "colab_type": "code",
        "colab": {
          "base_uri": "https://localhost:8080/",
          "height": 35
        },
        "outputId": "fdc43f5a-d363-4ce8-e33a-7bece1e6bbc1"
      },
      "cell_type": "code",
      "source": [
        "train_datagen_augmented = ImageDataGenerator(rescale=1 / 255,\n",
        "                                             rotation_range=40,\n",
        "                                             width_shift_range=0.2,\n",
        "                                             height_shift_range=0.2,\n",
        "                                             shear_range=0.2,\n",
        "                                             zoom_range=0.2,\n",
        "                                             horizontal_flip=True,\n",
        "                                             fill_mode='nearest')\n",
        "\n",
        "train_generator_aug = train_datagen_augmented.flow_from_directory(train_dir, \n",
        "                                                                  target_size=(120,120),\n",
        "                                                                  batch_size=100,\n",
        "                                                                  class_mode='binary')\n"
      ],
      "execution_count": 15,
      "outputs": [
        {
          "output_type": "stream",
          "text": [
            "Found 4765 images belonging to 2 classes.\n"
          ],
          "name": "stdout"
        }
      ]
    },
    {
      "metadata": {
        "id": "iJh-Jr5hcshp",
        "colab_type": "code",
        "colab": {}
      },
      "cell_type": "code",
      "source": [
        "images, classes = train_generator_aug.next()"
      ],
      "execution_count": 0,
      "outputs": []
    },
    {
      "metadata": {
        "id": "AeiM-t8vhtAU",
        "colab_type": "code",
        "colab": {
          "base_uri": "https://localhost:8080/",
          "height": 35
        },
        "outputId": "e84d12e2-3b00-4c50-bdc9-57f96bed1943"
      },
      "cell_type": "code",
      "source": [
        "images.shape"
      ],
      "execution_count": 17,
      "outputs": [
        {
          "output_type": "execute_result",
          "data": {
            "text/plain": [
              "(100, 120, 120, 3)"
            ]
          },
          "metadata": {
            "tags": []
          },
          "execution_count": 17
        }
      ]
    },
    {
      "metadata": {
        "id": "yt3-nHsu2B6c",
        "colab_type": "code",
        "colab": {
          "base_uri": "https://localhost:8080/",
          "height": 287
        },
        "outputId": "c2abc44e-dbe5-4b78-eb20-a0f2b3e3bf94"
      },
      "cell_type": "code",
      "source": [
        "import random\n",
        "\n",
        "n = random.randint(0, 99)  \n",
        "plt.imshow(images[n])\n",
        "print(classes[n])"
      ],
      "execution_count": 18,
      "outputs": [
        {
          "output_type": "stream",
          "text": [
            "0.0\n"
          ],
          "name": "stdout"
        },
        {
          "output_type": "display_data",
          "data": {
            "image/png": "[encoded data removed]",
            "text/plain": [
              "<matplotlib.figure.Figure at 0x7fa0727b3e10>"
            ]
          },
          "metadata": {
            "tags": []
          }
        }
      ]
    },
    {
      "metadata": {
        "id": "i5EdUj9LeXr1",
        "colab_type": "code",
        "colab": {
          "base_uri": "https://localhost:8080/",
          "height": 413
        },
        "outputId": "e097c2f9-5561-4160-b12b-becd745b269f"
      },
      "cell_type": "code",
      "source": [
        "%%time\n",
        "train_generator_aug.reset()\n",
        "\n",
        "my_first_cnn.compile(loss='binary_crossentropy',\n",
        "                     optimizer=Adam(lr=1e-3),\n",
        "                     metrics=['acc'])\n",
        "\n",
        "history_pt4 = my_first_cnn.fit_generator(train_generator_aug,\n",
        "                                         class_weight = {0: 7, 1: 1},\n",
        "                                         steps_per_epoch=20,\n",
        "                                         epochs=10,\n",
        "                                         validation_data=validation_generator,\n",
        "                                         validation_steps=10,\n",
        "                                         verbose=1)\n",
        "\n",
        "my_first_cnn.save('my_first_cnn_4.h5')"
      ],
      "execution_count": 19,
      "outputs": [
        {
          "output_type": "stream",
          "text": [
            "Epoch 1/10\n",
            "20/20 [==============================] - 22s 1s/step - loss: 0.8400 - acc: 0.7560 - val_loss: 0.4176 - val_acc: 0.7682\n",
            "Epoch 2/10\n",
            "20/20 [==============================] - 21s 1s/step - loss: 0.6872 - acc: 0.8170 - val_loss: 0.4743 - val_acc: 0.7601\n",
            "Epoch 3/10\n",
            "20/20 [==============================] - 20s 1s/step - loss: 0.7260 - acc: 0.7953 - val_loss: 0.3389 - val_acc: 0.8381\n",
            "Epoch 4/10\n",
            "20/20 [==============================] - 21s 1s/step - loss: 0.7043 - acc: 0.8115 - val_loss: 0.2395 - val_acc: 0.9059\n",
            "Epoch 5/10\n",
            "20/20 [==============================] - 21s 1s/step - loss: 0.6459 - acc: 0.8248 - val_loss: 0.2603 - val_acc: 0.8806\n",
            "Epoch 6/10\n",
            "20/20 [==============================] - 21s 1s/step - loss: 0.6543 - acc: 0.8090 - val_loss: 0.2357 - val_acc: 0.9018\n",
            "Epoch 7/10\n",
            "20/20 [==============================] - 21s 1s/step - loss: 0.6263 - acc: 0.8310 - val_loss: 0.3738 - val_acc: 0.8269\n",
            "Epoch 8/10\n",
            "20/20 [==============================] - 21s 1s/step - loss: 0.6982 - acc: 0.8408 - val_loss: 0.3606 - val_acc: 0.8107\n",
            "Epoch 9/10\n",
            "20/20 [==============================] - 21s 1s/step - loss: 0.6792 - acc: 0.7970 - val_loss: 0.3932 - val_acc: 0.8145\n",
            "Epoch 10/10\n",
            "20/20 [==============================] - 21s 1s/step - loss: 0.6883 - acc: 0.8003 - val_loss: 0.4372 - val_acc: 0.7864\n",
            "CPU times: user 4min 58s, sys: 6.21 s, total: 5min 4s\n",
            "Wall time: 3min 31s\n"
          ],
          "name": "stdout"
        }
      ]
    },
    {
      "metadata": {
        "id": "d67J8oHhfcB6",
        "colab_type": "code",
        "colab": {
          "base_uri": "https://localhost:8080/",
          "height": 283
        },
        "outputId": "fa651ef9-d2eb-4cfd-ac76-7a6b218cfd60"
      },
      "cell_type": "code",
      "source": [
        "import matplotlib.pyplot as plt\n",
        "\n",
        "f, axes = plt.subplots(1,1)\n",
        "\n",
        "f.set_size_inches(8,4)\n",
        "\n",
        "loss = [step for part in [history_pt1, history_pt2, history_pt3, history_pt4] for step in  part.history['loss']]\n",
        "val_loss = [step for part in [history_pt1, history_pt2, history_pt3, history_pt4] for step in  part.history['val_loss']]\n",
        "\n",
        "\n",
        "axes.plot(range(len(loss)), loss, label='loss')\n",
        "axes.plot(range(len(loss)), val_loss, label='val_loss')\n",
        "axes.legend()"
      ],
      "execution_count": 20,
      "outputs": [
        {
          "output_type": "execute_result",
          "data": {
            "text/plain": [
              "<matplotlib.legend.Legend at 0x7fa0734ca198>"
            ]
          },
          "metadata": {
            "tags": []
          },
          "execution_count": 20
        },
        {
          "output_type": "display_data",
          "data": {
            "image/png": "[encoded data removed]",
            "text/plain": [
              "<matplotlib.figure.Figure at 0x7fa0734a0a20>"
            ]
          },
          "metadata": {
            "tags": []
          }
        }
      ]
    },
    {
      "metadata": {
        "id": "T_fSzIBMppjH",
        "colab_type": "code",
        "colab": {
          "base_uri": "https://localhost:8080/",
          "height": 297
        },
        "outputId": "5d2c945d-1d1c-4563-c1a8-b761ac183858"
      },
      "cell_type": "code",
      "source": [
        "validation_generator_noshuffle.reset()\n",
        "predictions = my_first_cnn.predict_generator(validation_generator_noshuffle, steps=9)\n",
        "\n",
        "C = confusion_matrix(validation_generator_noshuffle.classes, predictions > .5)\n",
        "ax = sns.heatmap(C, annot=True, square=True)\n",
        "ax.set_ylabel('True class')\n",
        "ax.set_xlabel('Predicted class')\n",
        "\n",
        "precision = C[0,0] / (C[0,0] + C[1,0])\n",
        "recall = C[0][0] / (C[0,0] + C[0,1])\n",
        "\n",
        "print(precision, recall)"
      ],
      "execution_count": 28,
      "outputs": [
        {
          "output_type": "stream",
          "text": [
            "0.3939393939393939 0.9122807017543859\n"
          ],
          "name": "stdout"
        },
        {
          "output_type": "display_data",
          "data": {
            "image/png": "[encoded data removed]",
            "text/plain": [
              "<matplotlib.figure.Figure at 0x7fa07364c940>"
            ]
          },
          "metadata": {
            "tags": []
          }
        }
      ]
    },
    {
      "metadata": {
        "id": "wS6XFzVG2GE1",
        "colab_type": "text"
      },
      "cell_type": "markdown",
      "source": [
        "# On the shoulders of giants\n",
        "\n",
        "Our first, very simple classifier is now about as good as it can get. Since we haven't been able to overfit, we could try to make it more complex, so that it can learn more nuanced features.\n",
        "\n",
        "We could, definitely, try and compare many different architectures. But why do that if there are world-class experts who have [done it already]?\n",
        "\n",
        "[done it already]: https://medium.com/coinmonks/paper-review-of-vggnet-1st-runner-up-of-ilsvlc-2014-image-classification-d02355543a11"
      ]
    },
    {
      "metadata": {
        "id": "DuhqL9FWyzD2",
        "colab_type": "code",
        "colab": {
          "base_uri": "https://localhost:8080/",
          "height": 359
        },
        "outputId": "82e4f119-f351-4a5f-f600-6ce7fd5ad856"
      },
      "cell_type": "code",
      "source": [
        "from keras.applications import VGG16\n",
        "\n",
        "vgg = VGG16(weights='imagenet', \n",
        "            include_top=False, \n",
        "            input_shape=(120,120,3))\n",
        "\n",
        "model = keras.Sequential()\n",
        "vgg.trainable = False\n",
        "model.add(vgg)\n",
        "model.add(Flatten())\n",
        "model.add(Dense(128, activation='relu'))\n",
        "model.add(Dense(128, activation='relu'))\n",
        "model.add(Dense(64, activation='relu'))\n",
        "model.add(Dense(1, activation='sigmoid'))\n",
        "\n",
        "model.summary()"
      ],
      "execution_count": 22,
      "outputs": [
        {
          "output_type": "stream",
          "text": [
            "_________________________________________________________________\n",
            "Layer (type)                 Output Shape              Param #   \n",
            "=================================================================\n",
            "vgg16 (Model)                (None, 3, 3, 512)         14714688  \n",
            "_________________________________________________________________\n",
            "flatten_2 (Flatten)          (None, 4608)              0         \n",
            "_________________________________________________________________\n",
            "dense_3 (Dense)              (None, 128)               589952    \n",
            "_________________________________________________________________\n",
            "dense_4 (Dense)              (None, 128)               16512     \n",
            "_________________________________________________________________\n",
            "dense_5 (Dense)              (None, 64)                8256      \n",
            "_________________________________________________________________\n",
            "dense_6 (Dense)              (None, 1)                 65        \n",
            "=================================================================\n",
            "Total params: 15,329,473\n",
            "Trainable params: 614,785\n",
            "Non-trainable params: 14,714,688\n",
            "_________________________________________________________________\n"
          ],
          "name": "stdout"
        }
      ]
    },
    {
      "metadata": {
        "id": "6LeqFhKTGZSF",
        "colab_type": "code",
        "colab": {
          "base_uri": "https://localhost:8080/",
          "height": 827
        },
        "outputId": "1668f924-2a56-4632-c97a-89406163ea9b"
      },
      "cell_type": "code",
      "source": [
        "model.layers[0].summary()"
      ],
      "execution_count": 23,
      "outputs": [
        {
          "output_type": "stream",
          "text": [
            "_________________________________________________________________\n",
            "Layer (type)                 Output Shape              Param #   \n",
            "=================================================================\n",
            "input_1 (InputLayer)         (None, 120, 120, 3)       0         \n",
            "_________________________________________________________________\n",
            "block1_conv1 (Conv2D)        (None, 120, 120, 64)      1792      \n",
            "_________________________________________________________________\n",
            "block1_conv2 (Conv2D)        (None, 120, 120, 64)      36928     \n",
            "_________________________________________________________________\n",
            "block1_pool (MaxPooling2D)   (None, 60, 60, 64)        0         \n",
            "_________________________________________________________________\n",
            "block2_conv1 (Conv2D)        (None, 60, 60, 128)       73856     \n",
            "_________________________________________________________________\n",
            "block2_conv2 (Conv2D)        (None, 60, 60, 128)       147584    \n",
            "_________________________________________________________________\n",
            "block2_pool (MaxPooling2D)   (None, 30, 30, 128)       0         \n",
            "_________________________________________________________________\n",
            "block3_conv1 (Conv2D)        (None, 30, 30, 256)       295168    \n",
            "_________________________________________________________________\n",
            "block3_conv2 (Conv2D)        (None, 30, 30, 256)       590080    \n",
            "_________________________________________________________________\n",
            "block3_conv3 (Conv2D)        (None, 30, 30, 256)       590080    \n",
            "_________________________________________________________________\n",
            "block3_pool (MaxPooling2D)   (None, 15, 15, 256)       0         \n",
            "_________________________________________________________________\n",
            "block4_conv1 (Conv2D)        (None, 15, 15, 512)       1180160   \n",
            "_________________________________________________________________\n",
            "block4_conv2 (Conv2D)        (None, 15, 15, 512)       2359808   \n",
            "_________________________________________________________________\n",
            "block4_conv3 (Conv2D)        (None, 15, 15, 512)       2359808   \n",
            "_________________________________________________________________\n",
            "block4_pool (MaxPooling2D)   (None, 7, 7, 512)         0         \n",
            "_________________________________________________________________\n",
            "block5_conv1 (Conv2D)        (None, 7, 7, 512)         2359808   \n",
            "_________________________________________________________________\n",
            "block5_conv2 (Conv2D)        (None, 7, 7, 512)         2359808   \n",
            "_________________________________________________________________\n",
            "block5_conv3 (Conv2D)        (None, 7, 7, 512)         2359808   \n",
            "_________________________________________________________________\n",
            "block5_pool (MaxPooling2D)   (None, 3, 3, 512)         0         \n",
            "=================================================================\n",
            "Total params: 14,714,688\n",
            "Trainable params: 0\n",
            "Non-trainable params: 14,714,688\n",
            "_________________________________________________________________\n"
          ],
          "name": "stdout"
        }
      ]
    },
    {
      "metadata": {
        "id": "VtEXzDYpGn1m",
        "colab_type": "code",
        "colab": {
          "base_uri": "https://localhost:8080/",
          "height": 305
        },
        "outputId": "9f657f03-ea47-4545-beec-6c085faac306"
      },
      "cell_type": "code",
      "source": [
        "%%time\n",
        "\n",
        "model.compile(loss='binary_crossentropy',\n",
        "                     optimizer=Adam(lr=1e-3),\n",
        "                     metrics=['acc'])\n",
        "\n",
        "vgg_history = model.fit_generator(train_generator,\n",
        "                                  class_weight = {0: 7, 1: 1},\n",
        "                                  steps_per_epoch=20,\n",
        "                                  epochs=7,\n",
        "                                  validation_data=validation_generator,\n",
        "                                  validation_steps=10)\n",
        "\n",
        "model.save('vgg_1.h5')"
      ],
      "execution_count": 24,
      "outputs": [
        {
          "output_type": "stream",
          "text": [
            "Epoch 1/7\n",
            "20/20 [==============================] - 22s 1s/step - loss: 0.8052 - acc: 0.8065 - val_loss: 0.3033 - val_acc: 0.8654\n",
            "Epoch 2/7\n",
            "20/20 [==============================] - 14s 713ms/step - loss: 0.4892 - acc: 0.8889 - val_loss: 0.3664 - val_acc: 0.8512\n",
            "Epoch 3/7\n",
            "20/20 [==============================] - 15s 774ms/step - loss: 0.5035 - acc: 0.8715 - val_loss: 0.3062 - val_acc: 0.8765\n",
            "Epoch 4/7\n",
            "20/20 [==============================] - 16s 794ms/step - loss: 0.4139 - acc: 0.8991 - val_loss: 0.2746 - val_acc: 0.8826\n",
            "Epoch 5/7\n",
            "20/20 [==============================] - 16s 787ms/step - loss: 0.2862 - acc: 0.9290 - val_loss: 0.2220 - val_acc: 0.9190\n",
            "Epoch 6/7\n",
            "20/20 [==============================] - 15s 763ms/step - loss: 0.3218 - acc: 0.9282 - val_loss: 0.2048 - val_acc: 0.9201\n",
            "Epoch 7/7\n",
            "20/20 [==============================] - 15s 767ms/step - loss: 0.2164 - acc: 0.9445 - val_loss: 0.1744 - val_acc: 0.9291\n",
            "CPU times: user 3min 1s, sys: 8.12 s, total: 3min 9s\n",
            "Wall time: 1min 55s\n"
          ],
          "name": "stdout"
        }
      ]
    },
    {
      "metadata": {
        "id": "i4wII0L_LJoT",
        "colab_type": "code",
        "colab": {
          "base_uri": "https://localhost:8080/",
          "height": 283
        },
        "outputId": "727203a6-48b4-407b-d65a-2b08255b4578"
      },
      "cell_type": "code",
      "source": [
        "f, axes = plt.subplots(1,1)\n",
        "\n",
        "f.set_size_inches(8,4)\n",
        "\n",
        "loss = vgg_history.history['loss']\n",
        "val_loss = vgg_history.history['val_loss']\n",
        "\n",
        "\n",
        "axes.plot(range(len(loss)), loss, label='loss')\n",
        "axes.plot(range(len(loss)), val_loss, label='val_loss')\n",
        "axes.legend()"
      ],
      "execution_count": 25,
      "outputs": [
        {
          "output_type": "execute_result",
          "data": {
            "text/plain": [
              "<matplotlib.legend.Legend at 0x7fa06e887fd0>"
            ]
          },
          "metadata": {
            "tags": []
          },
          "execution_count": 25
        },
        {
          "output_type": "display_data",
          "data": {
            "image/png": "[encoded data removed]",
            "text/plain": [
              "<matplotlib.figure.Figure at 0x7fa06e85fe48>"
            ]
          },
          "metadata": {
            "tags": []
          }
        }
      ]
    },
    {
      "metadata": {
        "id": "CkBQhxs1JdV4",
        "colab_type": "code",
        "colab": {
          "base_uri": "https://localhost:8080/",
          "height": 297
        },
        "outputId": "675aab90-40d1-44c4-8551-025f83f39dbd"
      },
      "cell_type": "code",
      "source": [
        "validation_generator_noshuffle.reset()\n",
        "predictions = model.predict_generator(validation_generator_noshuffle, steps=9)\n",
        "\n",
        "C = confusion_matrix(validation_generator_noshuffle.classes, predictions > .5)\n",
        "ax = sns.heatmap(C, annot=True, square=True)\n",
        "ax.set_ylabel('True class')\n",
        "ax.set_xlabel('Predicted class')\n",
        "\n",
        "precision = C[0,0] / (C[0,0] + C[1,0])\n",
        "recall = C[0][0] / (C[0,0] + C[0,1])\n",
        "\n",
        "print(precision, recall)"
      ],
      "execution_count": 26,
      "outputs": [
        {
          "output_type": "stream",
          "text": [
            "0.7407407407407407 0.7017543859649122\n"
          ],
          "name": "stdout"
        },
        {
          "output_type": "display_data",
          "data": {
            "image/png": "[encoded data removed]",
            "text/plain": [
              "<matplotlib.figure.Figure at 0x7fa06e8736a0>"
            ]
          },
          "metadata": {
            "tags": []
          }
        }
      ]
    },
    {
      "metadata": {
        "id": "w3TR8DSNOTBD",
        "colab_type": "code",
        "colab": {
          "base_uri": "https://localhost:8080/",
          "height": 35
        },
        "outputId": "bdfafc85-92cf-47ce-e038-27d6812b7570"
      },
      "cell_type": "code",
      "source": [
        "!date "
      ],
      "execution_count": 27,
      "outputs": [
        {
          "output_type": "stream",
          "text": [
            "Thu Nov 29 11:44:57 UTC 2018\n"
          ],
          "name": "stdout"
        }
      ]
    },
    {
      "metadata": {
        "id": "ufb6SZWUGo9G",
        "colab_type": "text"
      },
      "cell_type": "markdown",
      "source": [
        "# The way from here\n",
        "\n",
        "This talk has been based on a [series of posts] I'm currently publishing in [my blog]. You can check them out if you are curious about how I got the data, you want to learn more about what I talked about today, or you want to learn more techniques that we could apply to our classifier to make it even better.\n",
        "\n",
        "If you think this is your thing, you can learn a lot more in the [KSchool masters program in Deep Learning and Artificial Intelligence]! \n",
        "\n",
        "Or, if you think you have a project that we could do together, I'm available. Just contact me through my [email] or [linkedin]\n",
        "\n",
        "[series of posts]: http://mateos.io/blog/getting-some-hotdogs/\n",
        "[my blog]: http://mateos.io/blog/\n",
        "[KSchool masters program in Deep Learning and Artificial Intelligence]: https://kschool.com/cursos/master-deep-learning-inteligencia-artificial-madrid/\n",
        "[email]: daniel@mateos.io\n",
        "[linkedin]: https://es.linkedin.com/in/daniel-mateos-san-mart%C3%ADn-b02aa956"
      ]
    }
  ]
}