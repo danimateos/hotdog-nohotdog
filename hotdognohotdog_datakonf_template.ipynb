{
 "cells": [
  {
   "cell_type": "code",
   "execution_count": 1,
   "metadata": {
    "colab": {
     "base_uri": "https://localhost:8080/",
     "height": 35
    },
    "colab_type": "code",
    "id": "alyNCTglOnkz",
    "outputId": "9a29115d-a6d8-48d1-eb5f-57caec1998c6"
   },
   "outputs": [
    {
     "name": "stdout",
     "output_type": "stream",
     "text": [
      "Thu Nov 29 15:30:32 UTC 2018\n"
     ]
    }
   ],
   "source": [
    "!date"
   ]
  },
  {
   "cell_type": "markdown",
   "metadata": {
    "colab_type": "text",
    "id": "7vJmfoSX0gWQ"
   },
   "source": [
    "![KSchool](https://kschool.com/wp-content/uploads/2016/08/logo-kschool.png)"
   ]
  },
  {
   "cell_type": "markdown",
   "metadata": {
    "colab_type": "text",
    "id": "z97A9RMk1qbQ"
   },
   "source": [
    "# Hi everyone!\n",
    "\n",
    "I'm Daniel Mateos. I teach at the [masters in Data Science] here at KSchool.\n",
    "\n",
    "I also teach at the [CUNEF masters program in Data Science] and in the bioinformatics track at [CEU San Pablo]. \n",
    "\n",
    "I am a Molecular Biologist and self-taught Data Scientist. You can read all about me at [my website].\n",
    "\n",
    "[masters in Data Science]: https://kschool.com/cursos/master-en-data-science-madrid/\n",
    "[CUNEF masters program in Data Science]: https://www.cunef.edu/web/ade-and-master-data-science-finance-marketing-resources\n",
    "[CEU San Pablo]: https://www.uspceu.com/oferta-academica/grado/grado-en-ingenieria-biomedica\n",
    "[my website]: http://mateos.io/"
   ]
  },
  {
   "cell_type": "markdown",
   "metadata": {
    "colab_type": "text",
    "id": "MOr_4kZb2tjV"
   },
   "source": [
    "## Today\n",
    "\n",
    "What we are going to do is dive head first into Deep Learning. This talk doesn't assume any knowledge, just the eagerness to jump right into building image classification models!\n",
    "\n",
    "We will develop a [tool that can tell hotdogs from stuff that is not hotdogs]. That might make us [really rich]!\n",
    "\n",
    "[tool that can tell hotdogs from stuff that is not hotdogs]: https://www.youtube.com/watch?v=pqTntG1RXSY\n",
    "[really rich]: https://www.youtube.com/watch?v=NN1ctbKoXTc"
   ]
  },
  {
   "cell_type": "markdown",
   "metadata": {
    "colab_type": "text",
    "id": "HY7Nnr-40hkA"
   },
   "source": [
    "## Where we are\n",
    "\n",
    "[Google Colab] is a hosted notebook environment by Google. You can run GPU-accelerated experiments here for free!\n",
    "\n",
    "Make sure you have a GPU accelerated runtime by clicking on runtime / change runtime type and choosing a \"GPU\" hardware accelerator.\n",
    "\n",
    "[Google Colab]: bhttps://research.google.com/colaboratory/faq.html"
   ]
  },
  {
   "cell_type": "markdown",
   "metadata": {
    "colab_type": "text",
    "id": "Iu0hhwcqOpgL"
   },
   "source": [
    "# Getting some hotdogs\n",
    "\n",
    "I've already done the hard, exhausting field work for you. If you are curious about how I did, check it out [in my blog].\n",
    "\n",
    "Run the following cell. It will download a zip file in the current folder.\n",
    "\n",
    "[in my blog]: http://mateos.io/blog/"
   ]
  },
  {
   "cell_type": "code",
   "execution_count": 1,
   "metadata": {
    "colab": {
     "base_uri": "https://localhost:8080/",
     "height": 469
    },
    "colab_type": "code",
    "id": "FtwsDCijPqGL",
    "outputId": "2d6e1d8f-d60c-47e7-b078-55bf6bedba41"
   },
   "outputs": [
    {
     "name": "stdout",
     "output_type": "stream",
     "text": [
      "--2019-02-26 12:25:31--  https://www.dropbox.com/s/dhpekpce05iev6a/data_v2.zip?dl=0\n",
      "Resolving www.dropbox.com (www.dropbox.com)... 162.125.68.1, 2620:100:6024:1::a27d:4401\n",
      "Connecting to www.dropbox.com (www.dropbox.com)|162.125.68.1|:443... connected.\n",
      "HTTP request sent, awaiting response... 301 Moved Permanently\n",
      "Location: /s/raw/dhpekpce05iev6a/data_v2.zip [following]\n",
      "--2019-02-26 12:25:32--  https://www.dropbox.com/s/raw/dhpekpce05iev6a/data_v2.zip\n",
      "Reusing existing connection to www.dropbox.com:443.\n",
      "HTTP request sent, awaiting response... 302 Found\n",
      "Location: https://ucaaab87965e7ef9e3779b987b3f.dl.dropboxusercontent.com/cd/0/inline/AcHyiZuLgS_a0JMhdAjm9nbpICEsLFiXRsgQU7ln1MFwNRO4sC0c61YOo7jgAJym3JcKTtuNXV9_BLxa5RTTwbKnUw_vNACsgGalv1tG-bptlGZVdTDQVqeRa1l29kjYskI/file# [following]\n",
      "--2019-02-26 12:25:32--  https://ucaaab87965e7ef9e3779b987b3f.dl.dropboxusercontent.com/cd/0/inline/AcHyiZuLgS_a0JMhdAjm9nbpICEsLFiXRsgQU7ln1MFwNRO4sC0c61YOo7jgAJym3JcKTtuNXV9_BLxa5RTTwbKnUw_vNACsgGalv1tG-bptlGZVdTDQVqeRa1l29kjYskI/file\n",
      "Resolving ucaaab87965e7ef9e3779b987b3f.dl.dropboxusercontent.com (ucaaab87965e7ef9e3779b987b3f.dl.dropboxusercontent.com)... 162.125.68.6, 2620:100:6024:6::a27d:4406\n",
      "Connecting to ucaaab87965e7ef9e3779b987b3f.dl.dropboxusercontent.com (ucaaab87965e7ef9e3779b987b3f.dl.dropboxusercontent.com)|162.125.68.6|:443... connected.\n",
      "HTTP request sent, awaiting response... 302 FOUND\n",
      "Location: /cd/0/inline2/AcEPDBDsJ7Th6j5GRiZQ9tjkDmhBiq-me_YmKACJtJ6BQcOxwGjIwjYrlof74gt1rzCv8Q951mDlCd6jLV6r0cWbrz2Oc_fZczOUrIBXAInLIuNYBAL-1bhlvMmMNteg43yh27RSsUTH10zXVVljW9ZU2WvsLX99bwENfnQtpMjZLaG_8qH4zsGJ2qeP6_P4lxVGmfualrJautpBtUJmEZ88QYlk5187QSnPHCtLtQ2dF5-BFc5L8WKoNELSjeAwuwT4kzc9lFzvtH-q4a3DHbY3D-bwMpbyKx3RjbHVYeEvfuyBHoaernTR0Lq2DlokRH0zwClq6aNFRUAYJn8OEzBGmWg265MvT9fuIeexM4eKCw/file [following]\n",
      "--2019-02-26 12:25:33--  https://ucaaab87965e7ef9e3779b987b3f.dl.dropboxusercontent.com/cd/0/inline2/AcEPDBDsJ7Th6j5GRiZQ9tjkDmhBiq-me_YmKACJtJ6BQcOxwGjIwjYrlof74gt1rzCv8Q951mDlCd6jLV6r0cWbrz2Oc_fZczOUrIBXAInLIuNYBAL-1bhlvMmMNteg43yh27RSsUTH10zXVVljW9ZU2WvsLX99bwENfnQtpMjZLaG_8qH4zsGJ2qeP6_P4lxVGmfualrJautpBtUJmEZ88QYlk5187QSnPHCtLtQ2dF5-BFc5L8WKoNELSjeAwuwT4kzc9lFzvtH-q4a3DHbY3D-bwMpbyKx3RjbHVYeEvfuyBHoaernTR0Lq2DlokRH0zwClq6aNFRUAYJn8OEzBGmWg265MvT9fuIeexM4eKCw/file\n",
      "Reusing existing connection to ucaaab87965e7ef9e3779b987b3f.dl.dropboxusercontent.com:443.\n",
      "HTTP request sent, awaiting response... 200 OK\n",
      "Length: 745085878 (711M) [application/zip]\n",
      "Saving to: ‘data.zip’\n",
      "\n",
      "data.zip            100%[===================>] 710,57M  3,04MB/s    in 4m 35s  \n",
      "\n",
      "2019-02-26 12:30:08 (2,59 MB/s) - ‘data.zip’ saved [745085878/745085878]\n",
      "\n"
     ]
    }
   ],
   "source": [
    "!wget \"https://www.dropbox.com/s/dhpekpce05iev6a/data_v2.zip?dl=0\" -O data.zip"
   ]
  },
  {
   "cell_type": "code",
   "execution_count": 2,
   "metadata": {
    "colab": {
     "base_uri": "https://localhost:8080/",
     "height": 125
    },
    "colab_type": "code",
    "id": "F7nTgIrBQISK",
    "outputId": "71f30e12-19fa-4100-8ac0-2337dba45f37"
   },
   "outputs": [
    {
     "name": "stdout",
     "output_type": "stream",
     "text": [
      "total 3,0G\r\n",
      "-rw-rw-r-- 1 dani dani     19K nov 29 11:24 01-Getting_Some_Hotdogs.ipynb\r\n",
      "-rw-rw-r-- 1 dani dani     12K sep  3 09:56 02-Train_test_split.ipynb\r\n",
      "-rw-rw-r-- 1 dani dani     18K feb 26 12:31 03a-A_First_Approximation.ipynb\r\n",
      "-rw-rw-r-- 1 dani dani    111K nov 28 19:28 03-A_First_Approximation.ipynb\r\n",
      "-rw-rw-r-- 1 dani dani    207K nov 22 11:37 04-Improving_our_thingy.ipynb\r\n",
      "-rw-rw-r-- 1 dani dani    187K nov 29 12:05 05-On_the_shoulders_of_giants.ipynb\r\n",
      "-rw-rw-r-- 1 dani dani    296K nov 22 11:40 06-Improving_the_detector.ipynb\r\n",
      "drwxrwxr-x 5 dani dani    4,0K jun 27  2018 data\r\n",
      "-rw-rw-r-- 1 dani dani    214M jun 25  2018 data_v1.zip\r\n",
      "-rw-r--r-- 1 dani dani    711M jun 27  2018 data_v2.zip\r\n",
      "-rw-rw-r-- 1 dani dani    1,1G nov 30 21:18 data_v3.zip\r\n",
      "-rw-rw-r-- 1 dani dani    711M feb 26 12:30 data.zip\r\n",
      "-rw-rw-r-- 1 dani dani    4,2K nov 22 11:15 environment.yml\r\n",
      "-rwxrwx--- 1 dani plugdev 265K feb 26 12:31 hotdognohotdog_datakonf_template.ipynb\r\n",
      "-rw-rw-r-- 1 dani dani     29K jul 18  2018 hotdog_nohotdog.ipynb\r\n",
      "-rw-rw-r-- 1 dani dani     74K jun 27  2018 hotdogs_sample.txt\r\n",
      "-rwxrwx--- 1 dani dani    335M jun 20  2018 imagenet_fall11_urls.tgz\r\n",
      "-rw-rw-r-- 1 dani dani     25K jun 22  2018 log_img_download\r\n",
      "drwxr-xr-x 3 dani dani    4,0K jun 13  2018 logs\r\n",
      "-rw-rw-r-- 1 dani dani    1,3K jul 18  2018 mateosio.py\r\n",
      "-rw-rw-r-- 1 dani dani    632K jun 27  2018 nohotdogs_sample.txt\r\n",
      "-rw-rw-r-- 1 dani dani       0 jul 18  2018 README.md\r\n",
      "drwxrwxr-x 4 dani dani    4,0K jun 22  2018 temp\r\n",
      "-rw-rw-r-- 1 dani dani     432 jun 27  2018 temp.sh\r\n",
      "-rw-rw-r-- 1 dani dani    2,0K jun 13  2018 testing_fucking_pytorch.ipynb\r\n",
      "-rw-rw-r-- 1 dani dani    6,5K jun 13  2018 testing_tf_keras_install.ipynb\r\n",
      "-rw-rw-r-- 1 dani dani     555 nov 22 11:15 Untitled.ipynb\r\n",
      "-rw-rw-r-- 1 dani dani    2,6M jun 21  2018 words.txt\r\n"
     ]
    }
   ],
   "source": [
    "!ls -lh"
   ]
  },
  {
   "cell_type": "markdown",
   "metadata": {
    "colab_type": "text",
    "id": "Qkl2cWTNszGa"
   },
   "source": [
    "Now, unzip the zip file. It contains a 'data' folder that contains three folders in turn: train, test and validation. Inside each of those there are two folders: \"hotdog\" and \"nohotdog\"."
   ]
  },
  {
   "cell_type": "code",
   "execution_count": 3,
   "metadata": {
    "colab": {
     "base_uri": "https://localhost:8080/",
     "height": 89
    },
    "colab_type": "code",
    "id": "By4Yh4bLtgrE",
    "outputId": "7c34b382-7f4f-4077-d9be-f5b74af46b83"
   },
   "outputs": [
    {
     "name": "stdout",
     "output_type": "stream",
     "text": [
      "total 12K\r\n",
      "drwxrwxr-x 4 dani dani 4,0K jun 27  2018 test\r\n",
      "drwxrwxr-x 4 dani dani 4,0K jun 27  2018 train\r\n",
      "drwxrwxr-x 4 dani dani 4,0K jun 27  2018 validation\r\n"
     ]
    }
   ],
   "source": [
    "!rm -rf data/\n",
    "!unzip -oq data.zip\n",
    "!ls -lh data"
   ]
  },
  {
   "cell_type": "markdown",
   "metadata": {
    "colab_type": "text",
    "id": "pHaF0p858v3n"
   },
   "source": [
    "# The Classifier\n",
    "\n",
    "![Keras](https://cdn-images-1.medium.com/max/1600/1*wwnExqe720PPHykHhs5Hqw.png)\n",
    "\n",
    "Let's build our first Convolutional Neural Network! We will be using [Keras].\n",
    "\n",
    "[Keras]: https://keras.io"
   ]
  },
  {
   "cell_type": "code",
   "execution_count": 5,
   "metadata": {
    "colab": {
     "base_uri": "https://localhost:8080/",
     "height": 35
    },
    "colab_type": "code",
    "id": "TXrmM933uY6T",
    "outputId": "97b19fdd-86f9-474e-ac91-4111bc7668d2"
   },
   "outputs": [
    {
     "name": "stderr",
     "output_type": "stream",
     "text": [
      "Using TensorFlow backend.\n"
     ]
    }
   ],
   "source": [
    "import keras\n",
    "from keras import backend as K"
   ]
  },
  {
   "cell_type": "code",
   "execution_count": 6,
   "metadata": {
    "colab": {
     "base_uri": "https://localhost:8080/",
     "height": 395
    },
    "colab_type": "code",
    "id": "qJ80Os82uZwz",
    "outputId": "e4930cd1-b941-4b05-e749-50183f9b3f8f"
   },
   "outputs": [
    {
     "name": "stdout",
     "output_type": "stream",
     "text": [
      "_________________________________________________________________\n",
      "Layer (type)                 Output Shape              Param #   \n",
      "=================================================================\n",
      "conv2d_1 (Conv2D)            (None, 118, 118, 32)      896       \n",
      "_________________________________________________________________\n",
      "max_pooling2d_1 (MaxPooling2 (None, 59, 59, 32)        0         \n",
      "_________________________________________________________________\n",
      "conv2d_2 (Conv2D)            (None, 57, 57, 32)        9248      \n",
      "_________________________________________________________________\n",
      "max_pooling2d_2 (MaxPooling2 (None, 28, 28, 32)        0         \n",
      "_________________________________________________________________\n",
      "flatten_1 (Flatten)          (None, 25088)             0         \n",
      "_________________________________________________________________\n",
      "dense_1 (Dense)              (None, 64)                1605696   \n",
      "_________________________________________________________________\n",
      "dense_2 (Dense)              (None, 1)                 65        \n",
      "=================================================================\n",
      "Total params: 1,615,905\n",
      "Trainable params: 1,615,905\n",
      "Non-trainable params: 0\n",
      "_________________________________________________________________\n"
     ]
    }
   ],
   "source": [
    "from keras.layers import Conv2D, MaxPooling2D, InputLayer, Flatten, Dense\n",
    "\n",
    "my_first_cnn = keras.Sequential()\n",
    "my_first_cnn.add(Conv2D(32, (3, 3), activation='relu', input_shape=(120, 120, 3)))\n",
    "my_first_cnn.add(MaxPooling2D((2,2)))\n",
    "my_first_cnn.add(Conv2D(32, (3, 3), activation='relu'))\n",
    "my_first_cnn.add(MaxPooling2D((2,2)))\n",
    "my_first_cnn.add(Flatten())\n",
    "my_first_cnn.add(Dense(64, activation='relu'))\n",
    "my_first_cnn.add(Dense(1, activation='sigmoid'))\n",
    "\n",
    "my_first_cnn.summary()"
   ]
  },
  {
   "cell_type": "markdown",
   "metadata": {
    "colab_type": "text",
    "id": "fALg-nnm9OuR"
   },
   "source": [
    "## Feeding it\n",
    "\n",
    "We will need to feed the classifier in batches so it can learn. We will use Keras's [ImageDataGenerator].\n",
    "\n",
    "[ImageDataGenerator]: https://keras.io/preprocessing/image/"
   ]
  },
  {
   "cell_type": "code",
   "execution_count": 7,
   "metadata": {
    "colab": {
     "base_uri": "https://localhost:8080/",
     "height": 89
    },
    "colab_type": "code",
    "id": "orLGiufYuaBT",
    "outputId": "f82ba395-e253-419d-f5ff-ef14cd92a28d"
   },
   "outputs": [
    {
     "name": "stdout",
     "output_type": "stream",
     "text": [
      "Found 4765 images belonging to 2 classes.\n",
      "Found 888 images belonging to 2 classes.\n",
      "CPU times: user 235 ms, sys: 48 ms, total: 283 ms\n",
      "Wall time: 412 ms\n"
     ]
    }
   ],
   "source": [
    "%%time\n",
    "from keras.preprocessing.image import ImageDataGenerator\n",
    "import os\n",
    "\n",
    "base_dir = 'data/'\n",
    "\n",
    "train_dir = os.path.join(base_dir, 'train')\n",
    "validation_dir = os.path.join(base_dir, 'validation')\n",
    "\n",
    "train_datagen = ImageDataGenerator(rescale=1 / 255)\n",
    "test_datagen = ImageDataGenerator(rescale=1 / 255)\n",
    "\n",
    "train_generator = train_datagen.flow_from_directory(train_dir, \n",
    "                                                    target_size=(120,120),\n",
    "                                                    batch_size=100,\n",
    "                                                    class_mode='binary')\n",
    "\n",
    "validation_generator = test_datagen.flow_from_directory(validation_dir,\n",
    "                                                        target_size=(120,120),\n",
    "                                                        batch_size=100,\n",
    "                                                        class_mode='binary')\n"
   ]
  },
  {
   "cell_type": "markdown",
   "metadata": {
    "colab_type": "text",
    "id": "JcAkAF3t9nVS"
   },
   "source": [
    "## Waste no time in learning\n",
    "\n",
    "At this point, we are ready to do some learning! Let's just go ahead.\n"
   ]
  },
  {
   "cell_type": "code",
   "execution_count": 8,
   "metadata": {
    "colab": {
     "base_uri": "https://localhost:8080/",
     "height": 413
    },
    "colab_type": "code",
    "id": "YZWSJYKovdfz",
    "outputId": "e2801113-359c-473b-9563-1e1d9f361e49"
   },
   "outputs": [
    {
     "name": "stdout",
     "output_type": "stream",
     "text": [
      "Epoch 1/10\n",
      "20/20 [==============================] - 16s 824ms/step - loss: 0.4836 - acc: 0.8595 - val_loss: 0.3903 - val_acc: 0.8694\n",
      "Epoch 2/10\n",
      "20/20 [==============================] - 14s 682ms/step - loss: 0.3554 - acc: 0.8740 - val_loss: 0.3347 - val_acc: 0.8704\n",
      "Epoch 3/10\n",
      "20/20 [==============================] - 14s 682ms/step - loss: 0.2869 - acc: 0.8781 - val_loss: 0.2664 - val_acc: 0.8775\n",
      "Epoch 4/10\n",
      "20/20 [==============================] - 13s 673ms/step - loss: 0.2644 - acc: 0.8765 - val_loss: 0.2716 - val_acc: 0.8725\n",
      "Epoch 5/10\n",
      "20/20 [==============================] - 13s 659ms/step - loss: 0.2617 - acc: 0.8683 - val_loss: 0.2552 - val_acc: 0.8684\n",
      "Epoch 6/10\n",
      "20/20 [==============================] - 13s 662ms/step - loss: 0.2446 - acc: 0.8860 - val_loss: 0.2563 - val_acc: 0.8785\n",
      "Epoch 7/10\n",
      "20/20 [==============================] - 14s 722ms/step - loss: 0.2377 - acc: 0.8930 - val_loss: 0.2313 - val_acc: 0.9089\n",
      "Epoch 8/10\n",
      "20/20 [==============================] - 13s 660ms/step - loss: 0.2164 - acc: 0.8964 - val_loss: 0.2638 - val_acc: 0.8907\n",
      "Epoch 9/10\n",
      "20/20 [==============================] - 13s 650ms/step - loss: 0.2114 - acc: 0.8975 - val_loss: 0.2562 - val_acc: 0.8955\n",
      "Epoch 10/10\n",
      "20/20 [==============================] - 13s 651ms/step - loss: 0.2319 - acc: 0.8994 - val_loss: 0.2184 - val_acc: 0.9190\n",
      "CPU times: user 3min 39s, sys: 6.65 s, total: 3min 45s\n",
      "Wall time: 2min 18s\n"
     ]
    }
   ],
   "source": [
    "%%time\n",
    "from keras.optimizers import Adam\n",
    "\n",
    "my_first_cnn.compile(loss='binary_crossentropy',\n",
    "                     optimizer=Adam(lr=1e-3),\n",
    "                     metrics=['acc'])\n",
    "\n",
    "history_pt1 = my_first_cnn.fit_generator(train_generator,\n",
    "                                         steps_per_epoch=20,\n",
    "                                         epochs=10,\n",
    "                                         validation_data=validation_generator,\n",
    "                                         validation_steps=10)\n",
    "\n",
    "my_first_cnn.save('my_first_cnn_1.h5')"
   ]
  },
  {
   "cell_type": "markdown",
   "metadata": {
    "colab_type": "text",
    "id": "WMOhePxs5RLO"
   },
   "source": [
    "## What is actually happening here?\n",
    "\n",
    "Our classifier is a [convolutional neural network]. These have revolutionized a number of applications, mostly since their huge success in the 2012 ImageNet competition.\n",
    "\n",
    "[convolutional neural network]: https://en.wikipedia.org/wiki/Convolutional_neural_network\n",
    "\n",
    "![2012 ImageNet competition](https://blogs.nvidia.com/wp-content/uploads/2016/06/DefenseAIPicture3-002.png)"
   ]
  },
  {
   "cell_type": "markdown",
   "metadata": {
    "colab_type": "text",
    "id": "N81Ibb01Aicw"
   },
   "source": [
    "## Convolutional Neural Networks\n",
    "\n",
    "They are based on convolution. Basically, we apply filters to subsections of the image and calculate how much each subsection fits with the feature described by the filter.\n",
    "\n",
    "![Convolution](https://cdn-images-1.medium.com/max/1600/1*_34EtrgYk6cQxlJ2br51HQ.gif)\n",
    "\n",
    "We do that several time, aggregating aggregations, learning more and more sofisticated features.\n",
    "\n",
    "![Convolutional Neural Networks](https://www.jeremyjordan.me/content/images/2018/04/vgg16.png)"
   ]
  },
  {
   "cell_type": "markdown",
   "metadata": {
    "colab_type": "text",
    "id": "Pca332wNvd2s"
   },
   "source": [
    "# Measuring the right things\n",
    "\n",
    "Keras has assigned the label 0 to our hotdog class, which we consider positive, and 1 to our nothotdog class, which we consider negative. Therefore, in our binary classification setting we will have true positives top left, true negatives bottom right, false positives bottom left, and false negatives top right.\n",
    "\n",
    "$$ precision = \\frac{true\\ positives}{predicted\\ positives} = \\frac{C_{0,0}}{C_{0,0} + C_{1,0}} $$\n",
    "\n",
    "and recall will be:\n",
    "\n",
    "$$ recall = \\frac{true\\ positives}{total\\ positives} = \\frac{C_{0,0}}{C_{0,0} + C_{0,1}}$$\n"
   ]
  },
  {
   "cell_type": "code",
   "execution_count": 9,
   "metadata": {
    "colab": {
     "base_uri": "https://localhost:8080/",
     "height": 315
    },
    "colab_type": "code",
    "id": "34SOOPjXvdqP",
    "outputId": "f5f05848-9efd-466d-c450-721a112e30e0"
   },
   "outputs": [
    {
     "name": "stdout",
     "output_type": "stream",
     "text": [
      "Found 888 images belonging to 2 classes.\n",
      "0.6979166666666666 0.5877192982456141\n"
     ]
    },
    {
     "data": {
      "image/png": "[encoded data removed]",
      "text/plain": [
       "<matplotlib.figure.Figure at 0x7fd6811b0d30>"
      ]
     },
     "metadata": {
      "tags": []
     },
     "output_type": "display_data"
    }
   ],
   "source": [
    "from sklearn.metrics import confusion_matrix\n",
    "import seaborn as sns\n",
    "%matplotlib inline\n",
    "\n",
    "\n",
    "validation_generator_noshuffle = test_datagen.flow_from_directory(validation_dir,\n",
    "                                                                  target_size=(120,120),\n",
    "                                                                  batch_size=100,\n",
    "                                                                  shuffle=False,\n",
    "                                                                  class_mode='binary')\n",
    "\n",
    "predictions = my_first_cnn.predict_generator(validation_generator_noshuffle, steps=9)\n",
    "C = confusion_matrix(validation_generator_noshuffle.classes, predictions > .5)\n",
    "ax = sns.heatmap(C, annot=True, square=True)\n",
    "ax.set_ylabel('True class')\n",
    "ax.set_xlabel('Predicted class')\n",
    "\n",
    "precision = C[0,0] / (C[0,0] + C[1,0])\n",
    "recall = C[0][0] / (C[0,0] + C[0,1])\n",
    "\n",
    "print(precision, recall)"
   ]
  },
  {
   "cell_type": "markdown",
   "metadata": {
    "colab_type": "text",
    "id": "9yApSRv7CNjv"
   },
   "source": [
    "## Unbalanced\n",
    "\n",
    "We have many more nothodogs than not hodogs. That will affect how good we consider our classifier."
   ]
  },
  {
   "cell_type": "code",
   "execution_count": 10,
   "metadata": {
    "colab": {
     "base_uri": "https://localhost:8080/",
     "height": 413
    },
    "colab_type": "code",
    "id": "q96RkLVChrYu",
    "outputId": "c5d837e6-50be-4a0d-be8e-06a8ef07e754"
   },
   "outputs": [
    {
     "name": "stdout",
     "output_type": "stream",
     "text": [
      "Epoch 1/10\n",
      "20/20 [==============================] - 14s 699ms/step - loss: 0.6859 - acc: 0.8405 - val_loss: 0.2856 - val_acc: 0.8725\n",
      "Epoch 2/10\n",
      "20/20 [==============================] - 13s 638ms/step - loss: 0.6293 - acc: 0.8306 - val_loss: 0.4397 - val_acc: 0.7935\n",
      "Epoch 3/10\n",
      "20/20 [==============================] - 13s 636ms/step - loss: 0.5148 - acc: 0.8595 - val_loss: 0.3041 - val_acc: 0.8593\n",
      "Epoch 4/10\n",
      "20/20 [==============================] - 13s 671ms/step - loss: 0.4874 - acc: 0.8640 - val_loss: 0.3337 - val_acc: 0.8441\n",
      "Epoch 5/10\n",
      "20/20 [==============================] - 12s 624ms/step - loss: 0.4771 - acc: 0.8741 - val_loss: 0.2924 - val_acc: 0.8694\n",
      "Epoch 6/10\n",
      "20/20 [==============================] - 13s 644ms/step - loss: 0.4227 - acc: 0.8905 - val_loss: 0.2637 - val_acc: 0.8965\n",
      "Epoch 7/10\n",
      "20/20 [==============================] - 12s 620ms/step - loss: 0.4516 - acc: 0.8804 - val_loss: 0.3744 - val_acc: 0.8381\n",
      "Epoch 8/10\n",
      "20/20 [==============================] - 13s 665ms/step - loss: 0.3655 - acc: 0.8995 - val_loss: 0.4178 - val_acc: 0.8128\n",
      "Epoch 9/10\n",
      "20/20 [==============================] - 13s 642ms/step - loss: 0.3863 - acc: 0.9000 - val_loss: 0.3538 - val_acc: 0.8492\n",
      "Epoch 10/10\n",
      "20/20 [==============================] - 13s 631ms/step - loss: 0.3098 - acc: 0.9134 - val_loss: 0.3666 - val_acc: 0.8512\n",
      "CPU times: user 3min 26s, sys: 5.36 s, total: 3min 32s\n",
      "Wall time: 2min 10s\n"
     ]
    }
   ],
   "source": [
    "%%time\n",
    "from keras.optimizers import Adam\n",
    "\n",
    "\n",
    "my_first_cnn.compile(loss='binary_crossentropy',\n",
    "                     optimizer=Adam(lr=1e-3),\n",
    "                     metrics=['acc'])\n",
    "\n",
    "history_pt2 = my_first_cnn.fit_generator(train_generator,\n",
    "                                         class_weight = {0: 7, 1: 1},\n",
    "                                         steps_per_epoch=20,\n",
    "                                         epochs=10,\n",
    "                                         validation_data=validation_generator,\n",
    "                                         validation_steps=10)\n",
    "\n",
    "my_first_cnn.save('my_first_cnn_2.h5')"
   ]
  },
  {
   "cell_type": "markdown",
   "metadata": {
    "colab_type": "text",
    "id": "W-4G6rptFE8_"
   },
   "source": [
    "## The magic of Deep Learning\n",
    "\n",
    "![Hierarchy of features](https://cdn-images-1.medium.com/max/756/1*jl3je_hGCESg-G8dy3Z9Yg.png)"
   ]
  },
  {
   "cell_type": "code",
   "execution_count": 11,
   "metadata": {
    "colab": {
     "base_uri": "https://localhost:8080/",
     "height": 297
    },
    "colab_type": "code",
    "id": "Ct4qT44TbB3H",
    "outputId": "a11a93c7-3519-4f72-ccda-3cb9f9678359"
   },
   "outputs": [
    {
     "name": "stdout",
     "output_type": "stream",
     "text": [
      "0.485 0.8508771929824561\n"
     ]
    },
    {
     "data": {
      "image/png": "[encoded data removed]",
      "text/plain": [
       "<matplotlib.figure.Figure at 0x7fd681777828>"
      ]
     },
     "metadata": {
      "tags": []
     },
     "output_type": "display_data"
    }
   ],
   "source": [
    "validation_generator_noshuffle.reset()\n",
    "predictions = my_first_cnn.predict_generator(validation_generator_noshuffle, steps=9)\n",
    "C = confusion_matrix(validation_generator_noshuffle.classes, predictions > .5)\n",
    "ax = sns.heatmap(C, annot=True, square=True)\n",
    "ax.set_ylabel('True class')\n",
    "ax.set_xlabel('Predicted class')\n",
    "\n",
    "precision = C[0,0] / (C[0,0] + C[1,0])\n",
    "recall = C[0][0] / (C[0,0] + C[0,1])\n",
    "\n",
    "print(precision, recall)"
   ]
  },
  {
   "cell_type": "markdown",
   "metadata": {
    "colab_type": "text",
    "id": "tj49bwiBpSbG"
   },
   "source": [
    "# Too much of a good thing\n",
    "\n",
    "The more our classifier looks at the training data, the more it will learn about it. It might even learn too much!"
   ]
  },
  {
   "cell_type": "code",
   "execution_count": 12,
   "metadata": {
    "colab": {
     "base_uri": "https://localhost:8080/",
     "height": 413
    },
    "colab_type": "code",
    "id": "agoTWkrUtK6a",
    "outputId": "5fece995-c026-4c56-e14b-313177a9f1e2"
   },
   "outputs": [
    {
     "name": "stdout",
     "output_type": "stream",
     "text": [
      "Epoch 1/10\n",
      "20/20 [==============================] - 14s 675ms/step - loss: 0.3905 - acc: 0.8835 - val_loss: 0.2808 - val_acc: 0.8735\n",
      "Epoch 2/10\n",
      "20/20 [==============================] - 13s 641ms/step - loss: 0.3529 - acc: 0.9011 - val_loss: 0.2685 - val_acc: 0.8917\n",
      "Epoch 3/10\n",
      "20/20 [==============================] - 13s 640ms/step - loss: 0.3438 - acc: 0.9055 - val_loss: 0.2502 - val_acc: 0.8965\n",
      "Epoch 4/10\n",
      "20/20 [==============================] - 12s 624ms/step - loss: 0.3261 - acc: 0.9134 - val_loss: 0.4478 - val_acc: 0.8057\n",
      "Epoch 5/10\n",
      "20/20 [==============================] - 13s 644ms/step - loss: 0.2952 - acc: 0.9135 - val_loss: 0.4384 - val_acc: 0.8198\n",
      "Epoch 6/10\n",
      "20/20 [==============================] - 13s 632ms/step - loss: 0.2765 - acc: 0.9250 - val_loss: 0.3356 - val_acc: 0.8563\n",
      "Epoch 7/10\n",
      "20/20 [==============================] - 12s 611ms/step - loss: 0.2493 - acc: 0.9327 - val_loss: 0.3581 - val_acc: 0.8623\n",
      "Epoch 8/10\n",
      "20/20 [==============================] - 13s 653ms/step - loss: 0.2370 - acc: 0.9380 - val_loss: 0.4369 - val_acc: 0.8279\n",
      "Epoch 9/10\n",
      "20/20 [==============================] - 12s 624ms/step - loss: 0.2290 - acc: 0.9387 - val_loss: 0.3705 - val_acc: 0.8907\n",
      "Epoch 10/10\n",
      "20/20 [==============================] - 14s 698ms/step - loss: 0.2081 - acc: 0.9440 - val_loss: 0.2888 - val_acc: 0.8907\n",
      "CPU times: user 3min 27s, sys: 5.28 s, total: 3min 32s\n",
      "Wall time: 2min 10s\n"
     ]
    }
   ],
   "source": [
    "%%time\n",
    "from keras.optimizers import Adam\n",
    "\n",
    "my_first_cnn.compile(loss='binary_crossentropy',\n",
    "                     optimizer=Adam(lr=1e-3),\n",
    "                     metrics=['acc'])\n",
    "\n",
    "history_pt3 = my_first_cnn.fit_generator(train_generator,\n",
    "                                         class_weight = {0: 7, 1: 1},\n",
    "                                         steps_per_epoch=20,\n",
    "                                         epochs=10,\n",
    "                                         validation_data=validation_generator,\n",
    "                                         validation_steps=10,\n",
    "                                         verbose=1)\n",
    "\n",
    "my_first_cnn.save('my_first_cnn_3.h5')"
   ]
  },
  {
   "cell_type": "code",
   "execution_count": 13,
   "metadata": {
    "colab": {
     "base_uri": "https://localhost:8080/",
     "height": 283
    },
    "colab_type": "code",
    "id": "ckWfsTbohrkC",
    "outputId": "12e49572-3250-49e7-ef14-a141f71ec348"
   },
   "outputs": [
    {
     "data": {
      "text/plain": [
       "<matplotlib.legend.Legend at 0x7fd6808fbcc0>"
      ]
     },
     "execution_count": 13,
     "metadata": {
      "tags": []
     },
     "output_type": "execute_result"
    },
    {
     "data": {
      "image/png": "[encoded data removed]",
      "text/plain": [
       "<matplotlib.figure.Figure at 0x7fd67fca3978>"
      ]
     },
     "metadata": {
      "tags": []
     },
     "output_type": "display_data"
    }
   ],
   "source": [
    "import matplotlib.pyplot as plt\n",
    "\n",
    "f, axes = plt.subplots(1,1)\n",
    "\n",
    "f.set_size_inches(8,4)\n",
    "\n",
    "loss = [step for part in [history_pt1, history_pt2, history_pt3] for step in  part.history['loss']]\n",
    "val_loss = [step for part in [history_pt1, history_pt2, history_pt3] for step in  part.history['val_loss']]\n",
    "\n",
    "\n",
    "axes.plot(range(len(loss)), loss, label='loss')\n",
    "axes.plot(range(len(loss)), val_loss, label='val_loss')\n",
    "axes.legend()"
   ]
  },
  {
   "cell_type": "code",
   "execution_count": 14,
   "metadata": {
    "colab": {
     "base_uri": "https://localhost:8080/",
     "height": 297
    },
    "colab_type": "code",
    "id": "pUrJPz1TRG9V",
    "outputId": "20df0c49-6929-424e-c772-5d71f6aeae57"
   },
   "outputs": [
    {
     "name": "stdout",
     "output_type": "stream",
     "text": [
      "0.5397727272727273 0.8333333333333334\n"
     ]
    },
    {
     "data": {
      "image/png": "[encoded data removed]",
      "text/plain": [
       "<matplotlib.figure.Figure at 0x7fd67fc73710>"
      ]
     },
     "metadata": {
      "tags": []
     },
     "output_type": "display_data"
    }
   ],
   "source": [
    "validation_generator_noshuffle.reset()\n",
    "predictions = my_first_cnn.predict_generator(validation_generator_noshuffle, steps=9)\n",
    "\n",
    "C = confusion_matrix(validation_generator_noshuffle.classes, predictions > .5)\n",
    "ax = sns.heatmap(C, annot=True, square=True)\n",
    "ax.set_ylabel('True class')\n",
    "ax.set_xlabel('Predicted class')\n",
    "\n",
    "precision = C[0,0] / (C[0,0] + C[1,0])\n",
    "recall = C[0][0] / (C[0,0] + C[0,1])\n",
    "\n",
    "print(precision, recall)"
   ]
  },
  {
   "cell_type": "markdown",
   "metadata": {
    "colab_type": "text",
    "id": "qsL3iRLs10F4"
   },
   "source": [
    "# Making stuff up\n",
    "\n",
    "Our classifier is learning features that are too specific of the training data, which makes it not generalize too well. \n",
    "\n",
    "Since we want to make it recognize more varied images, we could feed it more varied images. But we already have as many as we could gather!\n",
    "\n",
    "Surprisingly, there is a way to get more from the data we have: making stuff up! In order to look more serious, we will call it [data augmentation].\n",
    "\n",
    "[data augmentation]: https://medium.com/nanonets/how-to-use-deep-learning-when-you-have-limited-data-part-2-data-augmentation-c26971dc8ced"
   ]
  },
  {
   "cell_type": "code",
   "execution_count": 15,
   "metadata": {
    "colab": {
     "base_uri": "https://localhost:8080/",
     "height": 35
    },
    "colab_type": "code",
    "id": "fqo6TOB8hsv2",
    "outputId": "1b43be66-ae51-43dc-fccd-91db62dfd33a"
   },
   "outputs": [
    {
     "name": "stdout",
     "output_type": "stream",
     "text": [
      "Found 4765 images belonging to 2 classes.\n"
     ]
    }
   ],
   "source": [
    "train_datagen_augmented = ImageDataGenerator(rescale=1 / 255,\n",
    "                                             rotation_range=40,\n",
    "                                             width_shift_range=0.2,\n",
    "                                             height_shift_range=0.2,\n",
    "                                             shear_range=0.2,\n",
    "                                             zoom_range=0.2,\n",
    "                                             horizontal_flip=True,\n",
    "                                             fill_mode='nearest')\n",
    "\n",
    "train_generator_aug = train_datagen_augmented.flow_from_directory(train_dir, \n",
    "                                                                  target_size=(120,120),\n",
    "                                                                  batch_size=100,\n",
    "                                                                  class_mode='binary')\n"
   ]
  },
  {
   "cell_type": "code",
   "execution_count": 0,
   "metadata": {
    "colab": {},
    "colab_type": "code",
    "id": "iJh-Jr5hcshp"
   },
   "outputs": [],
   "source": [
    "images, classes = train_generator_aug.next()"
   ]
  },
  {
   "cell_type": "code",
   "execution_count": 17,
   "metadata": {
    "colab": {
     "base_uri": "https://localhost:8080/",
     "height": 35
    },
    "colab_type": "code",
    "id": "AeiM-t8vhtAU",
    "outputId": "81c46054-9257-4323-f1b9-d13f318dfc41"
   },
   "outputs": [
    {
     "data": {
      "text/plain": [
       "(100, 120, 120, 3)"
      ]
     },
     "execution_count": 17,
     "metadata": {
      "tags": []
     },
     "output_type": "execute_result"
    }
   ],
   "source": [
    "images.shape"
   ]
  },
  {
   "cell_type": "code",
   "execution_count": 18,
   "metadata": {
    "colab": {
     "base_uri": "https://localhost:8080/",
     "height": 287
    },
    "colab_type": "code",
    "id": "yt3-nHsu2B6c",
    "outputId": "51bda657-165c-47f7-d23a-c1caf680d688"
   },
   "outputs": [
    {
     "name": "stdout",
     "output_type": "stream",
     "text": [
      "1.0\n"
     ]
    },
    {
     "data": {
      "image/png": "[encoded data removed]",
      "text/plain": [
       "<matplotlib.figure.Figure at 0x7fd680979eb8>"
      ]
     },
     "metadata": {
      "tags": []
     },
     "output_type": "display_data"
    }
   ],
   "source": [
    "import random\n",
    "\n",
    "n = random.randint(0, 99)  \n",
    "plt.imshow(images[n])\n",
    "print(classes[n])"
   ]
  },
  {
   "cell_type": "code",
   "execution_count": 19,
   "metadata": {
    "colab": {
     "base_uri": "https://localhost:8080/",
     "height": 413
    },
    "colab_type": "code",
    "id": "i5EdUj9LeXr1",
    "outputId": "9d57ad2f-566d-4016-d36d-59a9711bba0b"
   },
   "outputs": [
    {
     "name": "stdout",
     "output_type": "stream",
     "text": [
      "Epoch 1/10\n",
      "20/20 [==============================] - 20s 1s/step - loss: 0.7582 - acc: 0.7895 - val_loss: 0.4504 - val_acc: 0.7682\n",
      "Epoch 2/10\n",
      "20/20 [==============================] - 19s 942ms/step - loss: 0.7707 - acc: 0.7910 - val_loss: 0.4670 - val_acc: 0.7702\n",
      "Epoch 3/10\n",
      "20/20 [==============================] - 19s 940ms/step - loss: 0.6916 - acc: 0.8183 - val_loss: 0.5601 - val_acc: 0.7156\n",
      "Epoch 4/10\n",
      "20/20 [==============================] - 19s 955ms/step - loss: 0.6662 - acc: 0.8040 - val_loss: 0.2577 - val_acc: 0.8927\n",
      "Epoch 5/10\n",
      "20/20 [==============================] - 18s 920ms/step - loss: 0.7748 - acc: 0.7704 - val_loss: 0.4034 - val_acc: 0.8168\n",
      "Epoch 6/10\n",
      "20/20 [==============================] - 19s 965ms/step - loss: 0.6187 - acc: 0.8455 - val_loss: 0.3797 - val_acc: 0.8047\n",
      "Epoch 7/10\n",
      "20/20 [==============================] - 20s 1s/step - loss: 0.6762 - acc: 0.7980 - val_loss: 0.3260 - val_acc: 0.8482\n",
      "Epoch 8/10\n",
      "20/20 [==============================] - 21s 1s/step - loss: 0.6789 - acc: 0.8125 - val_loss: 0.2647 - val_acc: 0.8887\n",
      "Epoch 9/10\n",
      "20/20 [==============================] - 19s 974ms/step - loss: 0.7213 - acc: 0.8230 - val_loss: 0.4652 - val_acc: 0.7541\n",
      "Epoch 10/10\n",
      "20/20 [==============================] - 19s 936ms/step - loss: 0.7284 - acc: 0.7910 - val_loss: 0.4528 - val_acc: 0.7702\n",
      "CPU times: user 4min 31s, sys: 5.62 s, total: 4min 36s\n",
      "Wall time: 3min 15s\n"
     ]
    }
   ],
   "source": [
    "%%time\n",
    "train_generator_aug.reset()\n",
    "\n",
    "my_first_cnn.compile(loss='binary_crossentropy',\n",
    "                     optimizer=Adam(lr=1e-3),\n",
    "                     metrics=['acc'])\n",
    "\n",
    "history_pt4 = my_first_cnn.fit_generator(train_generator_aug,\n",
    "                                         class_weight = {0: 7, 1: 1},\n",
    "                                         steps_per_epoch=20,\n",
    "                                         epochs=10,\n",
    "                                         validation_data=validation_generator,\n",
    "                                         validation_steps=10,\n",
    "                                         verbose=1)\n",
    "\n",
    "my_first_cnn.save('my_first_cnn_4.h5')"
   ]
  },
  {
   "cell_type": "code",
   "execution_count": 20,
   "metadata": {
    "colab": {
     "base_uri": "https://localhost:8080/",
     "height": 287
    },
    "colab_type": "code",
    "id": "d67J8oHhfcB6",
    "outputId": "c79ebab4-ab9c-47ad-833e-3cad84e2cd7e"
   },
   "outputs": [
    {
     "data": {
      "text/plain": [
       "<matplotlib.legend.Legend at 0x7fd6809831d0>"
      ]
     },
     "execution_count": 20,
     "metadata": {
      "tags": []
     },
     "output_type": "execute_result"
    },
    {
     "data": {
      "image/png": "[encoded data removed]",
      "text/plain": [
       "<matplotlib.figure.Figure at 0x7fd680aac390>"
      ]
     },
     "metadata": {
      "tags": []
     },
     "output_type": "display_data"
    }
   ],
   "source": [
    "import matplotlib.pyplot as plt\n",
    "\n",
    "f, axes = plt.subplots(1,1)\n",
    "\n",
    "f.set_size_inches(8,4)\n",
    "\n",
    "loss = [step for part in [history_pt1, history_pt2, history_pt3, history_pt4] for step in  part.history['loss']]\n",
    "val_loss = [step for part in [history_pt1, history_pt2, history_pt3, history_pt4] for step in  part.history['val_loss']]\n",
    "\n",
    "\n",
    "axes.plot(range(len(loss)), loss, label='loss')\n",
    "axes.plot(range(len(loss)), val_loss, label='val_loss')\n",
    "axes.legend()"
   ]
  },
  {
   "cell_type": "code",
   "execution_count": 21,
   "metadata": {
    "colab": {
     "base_uri": "https://localhost:8080/",
     "height": 297
    },
    "colab_type": "code",
    "id": "T_fSzIBMppjH",
    "outputId": "74d6bfc2-d600-4e58-ca9f-6207a63e84a6"
   },
   "outputs": [
    {
     "name": "stdout",
     "output_type": "stream",
     "text": [
      "0.3576158940397351 0.9473684210526315\n"
     ]
    },
    {
     "data": {
      "image/png": "[encoded data removed]",
      "text/plain": [
       "<matplotlib.figure.Figure at 0x7fd680220b38>"
      ]
     },
     "metadata": {
      "tags": []
     },
     "output_type": "display_data"
    }
   ],
   "source": [
    "validation_generator_noshuffle.reset()\n",
    "predictions = my_first_cnn.predict_generator(validation_generator_noshuffle, steps=9)\n",
    "\n",
    "C = confusion_matrix(validation_generator_noshuffle.classes, predictions > .5)\n",
    "ax = sns.heatmap(C, annot=True, square=True)\n",
    "ax.set_ylabel('True class')\n",
    "ax.set_xlabel('Predicted class')\n",
    "\n",
    "precision = C[0,0] / (C[0,0] + C[1,0])\n",
    "recall = C[0][0] / (C[0,0] + C[0,1])\n",
    "\n",
    "print(precision, recall)"
   ]
  },
  {
   "cell_type": "markdown",
   "metadata": {
    "colab_type": "text",
    "id": "wS6XFzVG2GE1"
   },
   "source": [
    "# On the shoulders of giants\n",
    "\n",
    "Our first, very simple classifier is now about as good as it can get. Since we haven't been able to overfit, we could try to make it more complex, so that it can learn more nuanced features.\n",
    "\n",
    "We could, definitely, try and compare many different architectures. But why do that if there are world-class experts who have [done it already]?\n",
    "\n",
    "[done it already]: https://medium.com/coinmonks/paper-review-of-vggnet-1st-runner-up-of-ilsvlc-2014-image-classification-d02355543a11"
   ]
  },
  {
   "cell_type": "code",
   "execution_count": 22,
   "metadata": {
    "colab": {
     "base_uri": "https://localhost:8080/",
     "height": 359
    },
    "colab_type": "code",
    "id": "DuhqL9FWyzD2",
    "outputId": "e052bc68-6a09-4247-e158-66ecad6fa72f"
   },
   "outputs": [
    {
     "name": "stdout",
     "output_type": "stream",
     "text": [
      "_________________________________________________________________\n",
      "Layer (type)                 Output Shape              Param #   \n",
      "=================================================================\n",
      "vgg16 (Model)                (None, 3, 3, 512)         14714688  \n",
      "_________________________________________________________________\n",
      "flatten_2 (Flatten)          (None, 4608)              0         \n",
      "_________________________________________________________________\n",
      "dense_3 (Dense)              (None, 128)               589952    \n",
      "_________________________________________________________________\n",
      "dense_4 (Dense)              (None, 128)               16512     \n",
      "_________________________________________________________________\n",
      "dense_5 (Dense)              (None, 64)                8256      \n",
      "_________________________________________________________________\n",
      "dense_6 (Dense)              (None, 1)                 65        \n",
      "=================================================================\n",
      "Total params: 15,329,473\n",
      "Trainable params: 614,785\n",
      "Non-trainable params: 14,714,688\n",
      "_________________________________________________________________\n"
     ]
    }
   ],
   "source": [
    "from keras.applications import VGG16\n",
    "\n",
    "vgg = VGG16(weights='imagenet', \n",
    "            include_top=False, \n",
    "            input_shape=(120,120,3))\n",
    "\n",
    "model = keras.Sequential()\n",
    "vgg.trainable = False\n",
    "model.add(vgg)\n",
    "model.add(Flatten())\n",
    "model.add(Dense(128, activation='relu'))\n",
    "model.add(Dense(128, activation='relu'))\n",
    "model.add(Dense(64, activation='relu'))\n",
    "model.add(Dense(1, activation='sigmoid'))\n",
    "\n",
    "model.summary()"
   ]
  },
  {
   "cell_type": "code",
   "execution_count": 23,
   "metadata": {
    "colab": {
     "base_uri": "https://localhost:8080/",
     "height": 827
    },
    "colab_type": "code",
    "id": "6LeqFhKTGZSF",
    "outputId": "4a39ede4-8dfb-49a3-d4fe-d45ddd5dd1a0"
   },
   "outputs": [
    {
     "name": "stdout",
     "output_type": "stream",
     "text": [
      "_________________________________________________________________\n",
      "Layer (type)                 Output Shape              Param #   \n",
      "=================================================================\n",
      "input_1 (InputLayer)         (None, 120, 120, 3)       0         \n",
      "_________________________________________________________________\n",
      "block1_conv1 (Conv2D)        (None, 120, 120, 64)      1792      \n",
      "_________________________________________________________________\n",
      "block1_conv2 (Conv2D)        (None, 120, 120, 64)      36928     \n",
      "_________________________________________________________________\n",
      "block1_pool (MaxPooling2D)   (None, 60, 60, 64)        0         \n",
      "_________________________________________________________________\n",
      "block2_conv1 (Conv2D)        (None, 60, 60, 128)       73856     \n",
      "_________________________________________________________________\n",
      "block2_conv2 (Conv2D)        (None, 60, 60, 128)       147584    \n",
      "_________________________________________________________________\n",
      "block2_pool (MaxPooling2D)   (None, 30, 30, 128)       0         \n",
      "_________________________________________________________________\n",
      "block3_conv1 (Conv2D)        (None, 30, 30, 256)       295168    \n",
      "_________________________________________________________________\n",
      "block3_conv2 (Conv2D)        (None, 30, 30, 256)       590080    \n",
      "_________________________________________________________________\n",
      "block3_conv3 (Conv2D)        (None, 30, 30, 256)       590080    \n",
      "_________________________________________________________________\n",
      "block3_pool (MaxPooling2D)   (None, 15, 15, 256)       0         \n",
      "_________________________________________________________________\n",
      "block4_conv1 (Conv2D)        (None, 15, 15, 512)       1180160   \n",
      "_________________________________________________________________\n",
      "block4_conv2 (Conv2D)        (None, 15, 15, 512)       2359808   \n",
      "_________________________________________________________________\n",
      "block4_conv3 (Conv2D)        (None, 15, 15, 512)       2359808   \n",
      "_________________________________________________________________\n",
      "block4_pool (MaxPooling2D)   (None, 7, 7, 512)         0         \n",
      "_________________________________________________________________\n",
      "block5_conv1 (Conv2D)        (None, 7, 7, 512)         2359808   \n",
      "_________________________________________________________________\n",
      "block5_conv2 (Conv2D)        (None, 7, 7, 512)         2359808   \n",
      "_________________________________________________________________\n",
      "block5_conv3 (Conv2D)        (None, 7, 7, 512)         2359808   \n",
      "_________________________________________________________________\n",
      "block5_pool (MaxPooling2D)   (None, 3, 3, 512)         0         \n",
      "=================================================================\n",
      "Total params: 14,714,688\n",
      "Trainable params: 0\n",
      "Non-trainable params: 14,714,688\n",
      "_________________________________________________________________\n"
     ]
    }
   ],
   "source": [
    "model.layers[0].summary()"
   ]
  },
  {
   "cell_type": "code",
   "execution_count": 24,
   "metadata": {
    "colab": {
     "base_uri": "https://localhost:8080/",
     "height": 413
    },
    "colab_type": "code",
    "id": "VtEXzDYpGn1m",
    "outputId": "65fc7ef0-56c2-41fd-93e5-63f4ea60f953"
   },
   "outputs": [
    {
     "name": "stdout",
     "output_type": "stream",
     "text": [
      "Epoch 1/10\n",
      "20/20 [==============================] - 27s 1s/step - loss: 0.9863 - acc: 0.6985 - val_loss: 0.3011 - val_acc: 0.8694\n",
      "Epoch 2/10\n",
      "20/20 [==============================] - 20s 1s/step - loss: 0.7978 - acc: 0.7687 - val_loss: 0.3964 - val_acc: 0.8350\n",
      "Epoch 3/10\n",
      "20/20 [==============================] - 20s 984ms/step - loss: 0.6843 - acc: 0.8295 - val_loss: 0.2508 - val_acc: 0.9059\n",
      "Epoch 4/10\n",
      "20/20 [==============================] - 20s 1s/step - loss: 0.6961 - acc: 0.8350 - val_loss: 0.3327 - val_acc: 0.8715\n",
      "Epoch 5/10\n",
      "20/20 [==============================] - 21s 1s/step - loss: 0.6626 - acc: 0.8394 - val_loss: 0.2681 - val_acc: 0.8937\n",
      "Epoch 6/10\n",
      "20/20 [==============================] - 20s 999ms/step - loss: 0.5987 - acc: 0.8400 - val_loss: 0.2097 - val_acc: 0.9211\n",
      "Epoch 7/10\n",
      "20/20 [==============================] - 20s 978ms/step - loss: 0.6307 - acc: 0.8416 - val_loss: 0.2485 - val_acc: 0.9069\n",
      "Epoch 8/10\n",
      "20/20 [==============================] - 20s 989ms/step - loss: 0.5469 - acc: 0.8815 - val_loss: 0.2003 - val_acc: 0.9221\n",
      "Epoch 9/10\n",
      "20/20 [==============================] - 20s 1s/step - loss: 0.5848 - acc: 0.8510 - val_loss: 0.2366 - val_acc: 0.9119\n",
      "Epoch 10/10\n",
      "20/20 [==============================] - 20s 990ms/step - loss: 0.6026 - acc: 0.8573 - val_loss: 0.2070 - val_acc: 0.9261\n",
      "CPU times: user 4min 56s, sys: 9.79 s, total: 5min 6s\n",
      "Wall time: 3min 28s\n"
     ]
    }
   ],
   "source": [
    "%%time\n",
    "\n",
    "model.compile(loss='binary_crossentropy',\n",
    "                     optimizer=Adam(lr=1e-3),\n",
    "                     metrics=['acc'])\n",
    "\n",
    "vgg_history_1 = model.fit_generator(train_generator_aug,\n",
    "                                  class_weight = {0: 7, 1: 1},\n",
    "                                  steps_per_epoch=20,\n",
    "                                  epochs=10,\n",
    "                                  validation_data=validation_generator,\n",
    "                                  validation_steps=10)\n",
    "\n",
    "model.save('vgg_1.h5')"
   ]
  },
  {
   "cell_type": "code",
   "execution_count": 25,
   "metadata": {
    "colab": {
     "base_uri": "https://localhost:8080/",
     "height": 283
    },
    "colab_type": "code",
    "id": "i4wII0L_LJoT",
    "outputId": "376fbd5b-35d7-4b05-ae00-c6c91cc1162b"
   },
   "outputs": [
    {
     "data": {
      "text/plain": [
       "<matplotlib.legend.Legend at 0x7fd67f4073c8>"
      ]
     },
     "execution_count": 25,
     "metadata": {
      "tags": []
     },
     "output_type": "execute_result"
    },
    {
     "data": {
      "image/png": "[encoded data removed]",
      "text/plain": [
       "<matplotlib.figure.Figure at 0x7fd67f3fd0b8>"
      ]
     },
     "metadata": {
      "tags": []
     },
     "output_type": "display_data"
    }
   ],
   "source": [
    "f, axes = plt.subplots(1,1)\n",
    "\n",
    "f.set_size_inches(8,4)\n",
    "\n",
    "loss = vgg_history_1.history['loss']\n",
    "val_loss = vgg_history_1.history['val_loss']\n",
    "\n",
    "\n",
    "axes.plot(range(len(loss)), loss, label='loss')\n",
    "axes.plot(range(len(loss)), val_loss, label='val_loss')\n",
    "axes.legend()"
   ]
  },
  {
   "cell_type": "code",
   "execution_count": 26,
   "metadata": {
    "colab": {
     "base_uri": "https://localhost:8080/",
     "height": 297
    },
    "colab_type": "code",
    "id": "CkBQhxs1JdV4",
    "outputId": "414fd6ab-292a-4754-c207-a93b40e31db7"
   },
   "outputs": [
    {
     "name": "stdout",
     "output_type": "stream",
     "text": [
      "0.6477987421383647 0.9035087719298246\n"
     ]
    },
    {
     "data": {
      "image/png": "[encoded data removed]",
      "text/plain": [
       "<matplotlib.figure.Figure at 0x7fd68019ec50>"
      ]
     },
     "metadata": {
      "tags": []
     },
     "output_type": "display_data"
    }
   ],
   "source": [
    "validation_generator_noshuffle.reset()\n",
    "predictions = model.predict_generator(validation_generator_noshuffle, steps=9)\n",
    "\n",
    "C = confusion_matrix(validation_generator_noshuffle.classes, predictions > .5)\n",
    "ax = sns.heatmap(C, annot=True, square=True)\n",
    "ax.set_ylabel('True class')\n",
    "ax.set_xlabel('Predicted class')\n",
    "\n",
    "precision = C[0,0] / (C[0,0] + C[1,0])\n",
    "recall = C[0][0] / (C[0,0] + C[0,1])\n",
    "\n",
    "print(precision, recall)"
   ]
  },
  {
   "cell_type": "code",
   "execution_count": 27,
   "metadata": {
    "colab": {
     "base_uri": "https://localhost:8080/",
     "height": 413
    },
    "colab_type": "code",
    "id": "IujYUHTi-oLx",
    "outputId": "8bf09d55-68a7-4092-daf0-6433a1a75f5a"
   },
   "outputs": [
    {
     "name": "stdout",
     "output_type": "stream",
     "text": [
      "Epoch 1/10\n",
      "20/20 [==============================] - 23s 1s/step - loss: 0.5107 - acc: 0.8755 - val_loss: 0.2355 - val_acc: 0.9119\n",
      "Epoch 2/10\n",
      "20/20 [==============================] - 20s 1s/step - loss: 0.5644 - acc: 0.8593 - val_loss: 0.2326 - val_acc: 0.9170\n",
      "Epoch 3/10\n",
      "20/20 [==============================] - 20s 1000ms/step - loss: 0.5080 - acc: 0.8715 - val_loss: 0.2312 - val_acc: 0.9059\n",
      "Epoch 4/10\n",
      "20/20 [==============================] - 19s 959ms/step - loss: 0.4632 - acc: 0.8871 - val_loss: 0.2549 - val_acc: 0.9119\n",
      "Epoch 5/10\n",
      "20/20 [==============================] - 20s 995ms/step - loss: 0.4947 - acc: 0.8710 - val_loss: 0.2118 - val_acc: 0.9241\n",
      "Epoch 6/10\n",
      "20/20 [==============================] - 20s 1s/step - loss: 0.4776 - acc: 0.8670 - val_loss: 0.2262 - val_acc: 0.9089\n",
      "Epoch 7/10\n",
      "20/20 [==============================] - 20s 986ms/step - loss: 0.5259 - acc: 0.8713 - val_loss: 0.2327 - val_acc: 0.9140\n",
      "Epoch 8/10\n",
      "20/20 [==============================] - 20s 1s/step - loss: 0.5236 - acc: 0.8720 - val_loss: 0.2038 - val_acc: 0.9231\n",
      "Epoch 9/10\n",
      "20/20 [==============================] - 20s 984ms/step - loss: 0.4177 - acc: 0.8986 - val_loss: 0.2043 - val_acc: 0.9211\n",
      "Epoch 10/10\n",
      "20/20 [==============================] - 22s 1s/step - loss: 0.4371 - acc: 0.8995 - val_loss: 0.2094 - val_acc: 0.9221\n",
      "CPU times: user 4min 51s, sys: 7.69 s, total: 4min 58s\n",
      "Wall time: 3min 24s\n"
     ]
    }
   ],
   "source": [
    "%%time\n",
    "\n",
    "model.compile(loss='binary_crossentropy',\n",
    "                     optimizer=Adam(lr=1e-4),\n",
    "                     metrics=['acc'])\n",
    "\n",
    "vgg_history_2 = model.fit_generator(train_generator_aug,\n",
    "                                  class_weight = {0: 7, 1: 1},\n",
    "                                  steps_per_epoch=20,\n",
    "                                  epochs=10,\n",
    "                                  validation_data=validation_generator,\n",
    "                                  validation_steps=10)\n",
    "\n",
    "model.save('vgg_2.h5')"
   ]
  },
  {
   "cell_type": "code",
   "execution_count": 28,
   "metadata": {
    "colab": {
     "base_uri": "https://localhost:8080/",
     "height": 35
    },
    "colab_type": "code",
    "id": "w3TR8DSNOTBD",
    "outputId": "6b5a289c-7fbb-4553-d5ff-634c03e77f18"
   },
   "outputs": [
    {
     "name": "stdout",
     "output_type": "stream",
     "text": [
      "Thu Nov 29 15:48:30 UTC 2018\n"
     ]
    }
   ],
   "source": [
    "!date "
   ]
  },
  {
   "cell_type": "code",
   "execution_count": 29,
   "metadata": {
    "colab": {
     "base_uri": "https://localhost:8080/",
     "height": 297
    },
    "colab_type": "code",
    "id": "Hya8sj73KMps",
    "outputId": "b9a961fe-2ff9-47e5-b13b-fad82fc6ff88"
   },
   "outputs": [
    {
     "name": "stdout",
     "output_type": "stream",
     "text": [
      "0.6375 0.8947368421052632\n"
     ]
    },
    {
     "data": {
      "image/png": "[encoded data removed]",
      "text/plain": [
       "<matplotlib.figure.Figure at 0x7fd67fce7e80>"
      ]
     },
     "metadata": {
      "tags": []
     },
     "output_type": "display_data"
    }
   ],
   "source": [
    "validation_generator_noshuffle.reset()\n",
    "predictions = model.predict_generator(validation_generator_noshuffle, steps=9)\n",
    "\n",
    "C = confusion_matrix(validation_generator_noshuffle.classes, predictions > .5)\n",
    "ax = sns.heatmap(C, annot=True, square=True)\n",
    "ax.set_ylabel('True class')\n",
    "ax.set_xlabel('Predicted class')\n",
    "\n",
    "precision = C[0,0] / (C[0,0] + C[1,0])\n",
    "recall = C[0][0] / (C[0,0] + C[0,1])\n",
    "\n",
    "print(precision, recall)"
   ]
  },
  {
   "cell_type": "markdown",
   "metadata": {
    "colab_type": "text",
    "id": "ufb6SZWUGo9G"
   },
   "source": [
    "# The road ahead\n",
    "\n",
    "This talk has been based on a [series of posts] I'm currently publishing in [my blog]. You can check them out if you are curious about how I got the data, you want to learn more about what I talked about today, or you want to learn more techniques that we could apply to our classifier to make it even better.\n",
    "\n",
    "If you think this is your thing, you can learn a lot more in the [KSchool masters program in Deep Learning and Artificial Intelligence]! \n",
    "\n",
    "Or, if you think you have a project that we could do together, I'm available. Just contact me through my [email] or [linkedin]\n",
    "\n",
    "[series of posts]: http://mateos.io/blog/getting-some-hotdogs/\n",
    "[my blog]: http://mateos.io/blog/\n",
    "[KSchool masters program in Deep Learning and Artificial Intelligence]: https://kschool.com/cursos/master-deep-learning-inteligencia-artificial-madrid/\n",
    "[email]: daniel@mateos.io\n",
    "[linkedin]: https://es.linkedin.com/in/daniel-mateos-san-mart%C3%ADn-b02aa956"
   ]
  }
 ],
 "metadata": {
  "accelerator": "GPU",
  "colab": {
   "collapsed_sections": [],
   "name": "hotdognohotdog_datakonf_template.ipynb",
   "provenance": [],
   "version": "0.3.2"
  },
  "kernelspec": {
   "display_name": "Python 3",
   "language": "python",
   "name": "python3"
  },
  "language_info": {
   "codemirror_mode": {
    "name": "ipython",
    "version": 3
   },
   "file_extension": ".py",
   "mimetype": "text/x-python",
   "name": "python",
   "nbconvert_exporter": "python",
   "pygments_lexer": "ipython3",
   "version": "3.6.5"
  }
 },
 "nbformat": 4,
 "nbformat_minor": 1
}
